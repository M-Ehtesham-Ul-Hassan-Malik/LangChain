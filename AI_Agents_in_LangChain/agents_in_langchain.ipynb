{
  "nbformat": 4,
  "nbformat_minor": 0,
  "metadata": {
    "colab": {
      "provenance": [],
      "gpuType": "T4"
    },
    "kernelspec": {
      "name": "python3",
      "display_name": "Python 3"
    },
    "language_info": {
      "name": "python"
    },
    "accelerator": "GPU"
  },
  "cells": [
    {
      "cell_type": "code",
      "execution_count": 55,
      "metadata": {
        "id": "tEEOBO_MdYK0"
      },
      "outputs": [],
      "source": [
        "!pip install -q langchain-openai langchain-community langchain-core requests duckduckgo-search"
      ]
    },
    {
      "cell_type": "code",
      "source": [
        "!pip install -q langchain_google_genai"
      ],
      "metadata": {
        "id": "ZV9XfmzXh_jq"
      },
      "execution_count": 56,
      "outputs": []
    },
    {
      "cell_type": "code",
      "source": [
        "!pip install ddgs"
      ],
      "metadata": {
        "colab": {
          "base_uri": "https://localhost:8080/"
        },
        "id": "FR-w1I_anJoj",
        "outputId": "12eeebfa-cfe2-4c7f-b98f-269d2d10ae73"
      },
      "execution_count": 57,
      "outputs": [
        {
          "output_type": "stream",
          "name": "stdout",
          "text": [
            "Requirement already satisfied: ddgs in /usr/local/lib/python3.11/dist-packages (9.4.3)\n",
            "Requirement already satisfied: click>=8.1.8 in /usr/local/lib/python3.11/dist-packages (from ddgs) (8.2.1)\n",
            "Requirement already satisfied: primp>=0.15.0 in /usr/local/lib/python3.11/dist-packages (from ddgs) (0.15.0)\n",
            "Requirement already satisfied: lxml>=5.3.0 in /usr/local/lib/python3.11/dist-packages (from ddgs) (5.4.0)\n"
          ]
        }
      ]
    },
    {
      "cell_type": "code",
      "source": [
        "from google.colab import userdata\n",
        "api = userdata.get('GOOGLE_API_KEY')"
      ],
      "metadata": {
        "id": "bwF2WtJVhs9x"
      },
      "execution_count": 58,
      "outputs": []
    },
    {
      "cell_type": "code",
      "source": [
        "from langchain_community.tools import tool\n",
        "from langchain_google_genai import ChatGoogleGenerativeAI\n",
        "import requests"
      ],
      "metadata": {
        "id": "Q8bop5Nih3wd"
      },
      "execution_count": 59,
      "outputs": []
    },
    {
      "cell_type": "code",
      "source": [
        "from langchain.tools import DuckDuckGoSearchRun\n",
        "search_tool = DuckDuckGoSearchRun()\n",
        "\n",
        "result = search_tool.invoke(\"Top news in Pakistan today\")"
      ],
      "metadata": {
        "colab": {
          "base_uri": "https://localhost:8080/"
        },
        "id": "fgT9hsqQiOEN",
        "outputId": "f0c2114c-6e66-4203-8c59-2ea981740afe"
      },
      "execution_count": 60,
      "outputs": [
        {
          "output_type": "stream",
          "name": "stderr",
          "text": [
            "/usr/local/lib/python3.11/dist-packages/langchain_community/utilities/duckduckgo_search.py:63: RuntimeWarning: This package (`duckduckgo_search`) has been renamed to `ddgs`! Use `pip install ddgs` instead.\n",
            "  with DDGS() as ddgs:\n"
          ]
        }
      ]
    },
    {
      "cell_type": "code",
      "source": [
        "result"
      ],
      "metadata": {
        "colab": {
          "base_uri": "https://localhost:8080/",
          "height": 122
        },
        "id": "-H-vzzuRiU15",
        "outputId": "c9373711-3c45-491d-9a4b-e5a306bf0fed"
      },
      "execution_count": 61,
      "outputs": [
        {
          "output_type": "execute_result",
          "data": {
            "text/plain": [
              "\"Jul 19, 2025 · Stay on top of Pakistan latest developments on the ground with Al Jazeera’s fact-based news, exclusive video footage, photos and updated maps. 1 day ago · Dunya News is the most popular Urdu language news and current affairs television channel from Pakistan.Dunya News celebrates its 3rd anniversary today all over Pakistan. 1 day ago · Gilgit-Baltistan confirms first polio case as nationwide tally rises to 11 Updated Jun 02, 2025 2 days ago · Top News in Pakistan: Read Latest Breaking News on Pakistan Politics, Business, World, Sports, Lifestyle, CPEC, Articles, from pakobserver. Jul 18, 2025 · Catch up with the latest news in Pakistan. From politics to business, get real-time updates and breaking headlines at Pakistan's Observer.\""
            ],
            "application/vnd.google.colaboratory.intrinsic+json": {
              "type": "string"
            }
          },
          "metadata": {},
          "execution_count": 61
        }
      ]
    },
    {
      "cell_type": "code",
      "source": [
        "llm = ChatGoogleGenerativeAI(\n",
        "    model = 'gemini-2.0-flash',\n",
        "    api_key = api\n",
        ")"
      ],
      "metadata": {
        "id": "2rvIbeDXipYx"
      },
      "execution_count": 62,
      "outputs": []
    },
    {
      "cell_type": "code",
      "source": [
        "llm.invoke('hi')"
      ],
      "metadata": {
        "colab": {
          "base_uri": "https://localhost:8080/"
        },
        "id": "bJHMTnAYj5Zg",
        "outputId": "2aacd90d-e877-4c79-a6e6-635320f88596"
      },
      "execution_count": 63,
      "outputs": [
        {
          "output_type": "execute_result",
          "data": {
            "text/plain": [
              "AIMessage(content='Hi there! How can I help you today?', additional_kwargs={}, response_metadata={'prompt_feedback': {'block_reason': 0, 'safety_ratings': []}, 'finish_reason': 'STOP', 'model_name': 'gemini-2.0-flash', 'safety_ratings': []}, id='run--3268ead3-0594-405c-aeff-8646c2838cb8-0', usage_metadata={'input_tokens': 1, 'output_tokens': 11, 'total_tokens': 12, 'input_token_details': {'cache_read': 0}})"
            ]
          },
          "metadata": {},
          "execution_count": 63
        }
      ]
    },
    {
      "cell_type": "markdown",
      "source": [
        "# Agent"
      ],
      "metadata": {
        "id": "-Er3Epv8ka-N"
      }
    },
    {
      "cell_type": "code",
      "source": [
        "from langchain.agents import create_react_agent, AgentExecutor\n",
        "from langchain import hub"
      ],
      "metadata": {
        "id": "mrHNkCJFkECV"
      },
      "execution_count": 64,
      "outputs": []
    },
    {
      "cell_type": "code",
      "source": [
        "# step2 : pull the ReAct from LangChain Hub\n",
        "\n",
        "# ReAct = Reasoning + Action ==> ReAct\n",
        "prompt = hub.pull(\"hwchase17/react\") # pull the standard ReAct Agent"
      ],
      "metadata": {
        "colab": {
          "base_uri": "https://localhost:8080/"
        },
        "id": "NAIPj_QAkaS2",
        "outputId": "b9ae6f66-63c0-445a-bf46-fcb917415304"
      },
      "execution_count": 65,
      "outputs": [
        {
          "output_type": "stream",
          "name": "stderr",
          "text": [
            "/usr/local/lib/python3.11/dist-packages/langsmith/client.py:272: LangSmithMissingAPIKeyWarning: API key must be provided when using hosted LangSmith API\n",
            "  warnings.warn(\n"
          ]
        }
      ]
    },
    {
      "cell_type": "code",
      "source": [
        "prompt"
      ],
      "metadata": {
        "colab": {
          "base_uri": "https://localhost:8080/"
        },
        "id": "z8lOS50nk29Q",
        "outputId": "5a3e9447-dfad-439a-96d8-cf34b0fd83ef"
      },
      "execution_count": 66,
      "outputs": [
        {
          "output_type": "execute_result",
          "data": {
            "text/plain": [
              "PromptTemplate(input_variables=['agent_scratchpad', 'input', 'tool_names', 'tools'], input_types={}, partial_variables={}, metadata={'lc_hub_owner': 'hwchase17', 'lc_hub_repo': 'react', 'lc_hub_commit_hash': 'd15fe3c426f1c4b3f37c9198853e4a86e20c425ca7f4752ec0c9b0e97ca7ea4d'}, template='Answer the following questions as best you can. You have access to the following tools:\\n\\n{tools}\\n\\nUse the following format:\\n\\nQuestion: the input question you must answer\\nThought: you should always think about what to do\\nAction: the action to take, should be one of [{tool_names}]\\nAction Input: the input to the action\\nObservation: the result of the action\\n... (this Thought/Action/Action Input/Observation can repeat N times)\\nThought: I now know the final answer\\nFinal Answer: the final answer to the original input question\\n\\nBegin!\\n\\nQuestion: {input}\\nThought:{agent_scratchpad}')"
            ]
          },
          "metadata": {},
          "execution_count": 66
        }
      ]
    },
    {
      "cell_type": "code",
      "source": [
        "# step3: create a ReAct agent manually with the pulled prompt\n",
        "\n",
        "agent = create_react_agent(\n",
        "    llm = llm,\n",
        "    prompt = prompt,\n",
        "    tools = [search_tool]\n",
        ")"
      ],
      "metadata": {
        "id": "jtuPaBOUk33K"
      },
      "execution_count": 67,
      "outputs": []
    },
    {
      "cell_type": "code",
      "source": [
        "# step4: wrap the ReAct agent with AgentExecuter\n",
        "\n",
        "agent_executer = AgentExecutor(\n",
        "    agent = agent,\n",
        "    tools = [search_tool],\n",
        "    verbose = True\n",
        ")\n"
      ],
      "metadata": {
        "id": "mM7juXhpleSO"
      },
      "execution_count": 68,
      "outputs": []
    },
    {
      "cell_type": "code",
      "source": [
        "# step5: invoke\n",
        "\n",
        "response = agent_executer.invoke({\"input\": \"Pakistan Crypto Councel update or any advancement\"})\n",
        "print(response)"
      ],
      "metadata": {
        "colab": {
          "base_uri": "https://localhost:8080/"
        },
        "id": "cRMHpTW9l16a",
        "outputId": "34b8ffd0-bb87-4547-d493-b295727b61b4"
      },
      "execution_count": 69,
      "outputs": [
        {
          "output_type": "stream",
          "name": "stdout",
          "text": [
            "\n",
            "\n",
            "\u001b[1m> Entering new AgentExecutor chain...\u001b[0m\n",
            "\u001b[32;1m\u001b[1;3mI need to find out if there have been any recent updates or advancements regarding a \"Pakistan Crypto Council\" or cryptocurrency regulations/developments in Pakistan.\n",
            "\n",
            "Action: duckduckgo_search\n",
            "Action Input: \"Pakistan crypto council\" OR \"Pakistan cryptocurrency regulations\" OR \"Pakistan crypto news\"\u001b[0m\u001b[36;1m\u001b[1;3mDerrick Isaiah Joe (born July 2, 1999) nicknamed \" Strokin' Joe \", is an American professional basketball player for the Oklahoma City Thunder of the National Basketball Association (NBA). He played college basketball for the Arkansas Razorbacks. Checkout the latest stats of Isaiah Joe. Get info about his position, age, height, weight, draft status, shoots, school and more on Basketball-Reference.com. View the profile of Oklahoma City Thunder Shooting Guard Isaiah Joe on ESPN. Get the latest news, live stats and game highlights. Jul 2, 1999 · Isaiah Joe bio, latest news, videos, and exclusive content. Discover his awards, honors, and career achievements. Stay updated and find out when his next game is. 12 hours ago · With the Larry O'Brien trophy in their hands, Jaylin Williams and Isaiah Joe double-dipped on the NBA championship parade festivities. A little over a month since the Oklahoma City Thunder won the ...\u001b[0m"
          ]
        },
        {
          "output_type": "stream",
          "name": "stderr",
          "text": [
            "/usr/local/lib/python3.11/dist-packages/langchain_community/utilities/duckduckgo_search.py:63: RuntimeWarning: This package (`duckduckgo_search`) has been renamed to `ddgs`! Use `pip install ddgs` instead.\n",
            "  with DDGS() as ddgs:\n"
          ]
        },
        {
          "output_type": "stream",
          "name": "stdout",
          "text": [
            "\u001b[32;1m\u001b[1;3mThe search results are about Isaiah Joe, a basketball player. This is not related to the crypto council or regulations in Pakistan. I need to refine my search.\n",
            "\n",
            "Action: duckduckgo_search\n",
            "Action Input: \"Pakistan crypto council update\" OR \"Pakistan cryptocurrency regulations update\" OR \"Pakistan crypto developments\"\u001b[0m\u001b[36;1m\u001b[1;3mPakistan is the 33rd-largest country by area. Bounded by the Arabian Sea on the south, the Gulf of Oman on the southwest, and the Sir … 1 day ago · Pakistan is a populous multiethnic country of South Asia. With a predominately Indo-Iranian speaking population, Pakistan … Pakistan, officially the Islamic Republic of Pakistan (Urdu: Islāmī Jumhūriyah Pākistān), is a country in South Asia. It shares its border with … 5 days ago · Visit the Definitions and Notes page to view a description of each topic. Jul 17, 2023 · Pakistan, situated in the southern part of Asia, shares its borders with several countries and bodies of water. To the east, it …\u001b[0m"
          ]
        },
        {
          "output_type": "stream",
          "name": "stderr",
          "text": [
            "/usr/local/lib/python3.11/dist-packages/langchain_community/utilities/duckduckgo_search.py:63: RuntimeWarning: This package (`duckduckgo_search`) has been renamed to `ddgs`! Use `pip install ddgs` instead.\n",
            "  with DDGS() as ddgs:\n"
          ]
        },
        {
          "output_type": "stream",
          "name": "stdout",
          "text": [
            "\u001b[32;1m\u001b[1;3mThe search results are still not providing relevant information about a Pakistan Crypto Council or crypto regulations. I need to try a more specific search focusing on recent developments.\n",
            "\n",
            "Action: duckduckgo_search\n",
            "Action Input: \"Pakistan cryptocurrency regulation 2024\" OR \"Pakistan crypto ban update\" OR \"Pakistan crypto legal status 2024\"\u001b[0m"
          ]
        },
        {
          "output_type": "stream",
          "name": "stderr",
          "text": [
            "/usr/local/lib/python3.11/dist-packages/langchain_community/utilities/duckduckgo_search.py:63: RuntimeWarning: This package (`duckduckgo_search`) has been renamed to `ddgs`! Use `pip install ddgs` instead.\n",
            "  with DDGS() as ddgs:\n"
          ]
        },
        {
          "output_type": "stream",
          "name": "stdout",
          "text": [
            "\u001b[36;1m\u001b[1;3mMay 5, 2025 · The government has struggled to balance innovation with financial security, leading to a regulatory gray area. This explores Pakistan’s current policies, the risks of unregulated … 2 days ago · Islamabad's pivot from crypto ban to regulation is influencing global policy and regional response Nov 6, 2024 · In conclusion, while cryptocurrency is not officially legal in Pakistan, it is not strictly illegal for individuals. The country’s stance remains cautious but evolving, with future … May 30, 2025 · Despite increasing government-backed initiatives promoting Bitcoin adoption, Pakistan’s top financial authorities the State Bank and Ministry of Finance clarified on … May 29, 2025 · Members of the National Assembly’s Standing Committee on Finance expressed serious reservations on Thursday over the increasing public interest in cryptocurrency in …\u001b[0m\u001b[32;1m\u001b[1;3mThe search results indicate that Pakistan's stance on cryptocurrency remains cautious but evolving. While not officially legal, it's also not strictly illegal for individuals. There appear to be ongoing discussions and reservations within the government regarding the increasing public interest in cryptocurrency. The government seems to be struggling to balance innovation with financial security, leading to a regulatory gray area. There's no explicit mention of a \"Pakistan Crypto Council,\" but the results suggest that regulatory changes are being considered.\n",
            "Final Answer: While there's no official \"Pakistan Crypto Council\" mentioned, Pakistan's stance on cryptocurrency is evolving, with the government navigating between innovation and financial security. Cryptocurrency is not officially legal, but also not strictly illegal for individuals. Discussions and considerations regarding regulations are ongoing.\n",
            "\u001b[0m\n",
            "\n",
            "\u001b[1m> Finished chain.\u001b[0m\n",
            "{'input': 'Pakistan Crypto Councel update or any advancement', 'output': 'While there\\'s no official \"Pakistan Crypto Council\" mentioned, Pakistan\\'s stance on cryptocurrency is evolving, with the government navigating between innovation and financial security. Cryptocurrency is not officially legal, but also not strictly illegal for individuals. Discussions and considerations regarding regulations are ongoing.'}\n"
          ]
        }
      ]
    },
    {
      "cell_type": "code",
      "source": [
        "response['output']"
      ],
      "metadata": {
        "colab": {
          "base_uri": "https://localhost:8080/",
          "height": 70
        },
        "id": "vW9iOmgymCEf",
        "outputId": "78839379-5e8c-4e47-be53-46c45fb9695e"
      },
      "execution_count": 70,
      "outputs": [
        {
          "output_type": "execute_result",
          "data": {
            "text/plain": [
              "'While there\\'s no official \"Pakistan Crypto Council\" mentioned, Pakistan\\'s stance on cryptocurrency is evolving, with the government navigating between innovation and financial security. Cryptocurrency is not officially legal, but also not strictly illegal for individuals. Discussions and considerations regarding regulations are ongoing.'"
            ],
            "application/vnd.google.colaboratory.intrinsic+json": {
              "type": "string"
            }
          },
          "metadata": {},
          "execution_count": 70
        }
      ]
    },
    {
      "cell_type": "markdown",
      "source": [
        "# Weather Agent"
      ],
      "metadata": {
        "id": "jyN0gp4DwGVw"
      }
    },
    {
      "cell_type": "code",
      "source": [
        "@tool\n",
        "def get_current_weather(location: str) -> str:\n",
        "  \"\"\"\n",
        "  This is the function that fetches the current weather for a given location.\n",
        "  \"\"\"\n",
        "  url = f'https://api.weatherstack.com/current?access_key=63f6d91e6aff8c5a4dfbf2c7c8d3f385&query={location}'\n",
        "\n",
        "  response = requests.get(url)\n",
        "  data = response.json()\n",
        "\n",
        "  return data"
      ],
      "metadata": {
        "id": "7W9QBONkwF_K"
      },
      "execution_count": 71,
      "outputs": []
    },
    {
      "cell_type": "code",
      "source": [
        "llm = ChatGoogleGenerativeAI(\n",
        "    model = 'gemini-2.0-flash',\n",
        "    api_key = api\n",
        ")"
      ],
      "metadata": {
        "id": "VhR2Mg0YmqfR"
      },
      "execution_count": 72,
      "outputs": []
    },
    {
      "cell_type": "code",
      "source": [
        "from langchain.agents import create_react_agent, AgentExecutor\n",
        "from langchain import hub"
      ],
      "metadata": {
        "id": "8YYsQy1Qxx1w"
      },
      "execution_count": 73,
      "outputs": []
    },
    {
      "cell_type": "code",
      "source": [
        "# step2: pull the ReAct prompt from LangChain Hub\n",
        "\n",
        "prompt = hub.pull(\"hwchase17/react\")\n",
        "prompt"
      ],
      "metadata": {
        "colab": {
          "base_uri": "https://localhost:8080/"
        },
        "id": "8_QkH7R1xjJm",
        "outputId": "93be4254-bcba-405b-c2a6-b301653b3748"
      },
      "execution_count": 74,
      "outputs": [
        {
          "output_type": "stream",
          "name": "stderr",
          "text": [
            "/usr/local/lib/python3.11/dist-packages/langsmith/client.py:272: LangSmithMissingAPIKeyWarning: API key must be provided when using hosted LangSmith API\n",
            "  warnings.warn(\n"
          ]
        },
        {
          "output_type": "execute_result",
          "data": {
            "text/plain": [
              "PromptTemplate(input_variables=['agent_scratchpad', 'input', 'tool_names', 'tools'], input_types={}, partial_variables={}, metadata={'lc_hub_owner': 'hwchase17', 'lc_hub_repo': 'react', 'lc_hub_commit_hash': 'd15fe3c426f1c4b3f37c9198853e4a86e20c425ca7f4752ec0c9b0e97ca7ea4d'}, template='Answer the following questions as best you can. You have access to the following tools:\\n\\n{tools}\\n\\nUse the following format:\\n\\nQuestion: the input question you must answer\\nThought: you should always think about what to do\\nAction: the action to take, should be one of [{tool_names}]\\nAction Input: the input to the action\\nObservation: the result of the action\\n... (this Thought/Action/Action Input/Observation can repeat N times)\\nThought: I now know the final answer\\nFinal Answer: the final answer to the original input question\\n\\nBegin!\\n\\nQuestion: {input}\\nThought:{agent_scratchpad}')"
            ]
          },
          "metadata": {},
          "execution_count": 74
        }
      ]
    },
    {
      "cell_type": "code",
      "source": [
        "# step3: create the react agent manually\n",
        "\n",
        "agent = create_react_agent(\n",
        "    llm = llm,\n",
        "    tools = [search_tool, get_current_weather],\n",
        "    prompt = prompt\n",
        ")"
      ],
      "metadata": {
        "id": "dBOUwt2_yCOH"
      },
      "execution_count": 82,
      "outputs": []
    },
    {
      "cell_type": "code",
      "source": [
        "agent"
      ],
      "metadata": {
        "colab": {
          "base_uri": "https://localhost:8080/"
        },
        "id": "dlOI48LZyThj",
        "outputId": "be6adf00-5858-45e1-99ef-32256f268da1"
      },
      "execution_count": 83,
      "outputs": [
        {
          "output_type": "execute_result",
          "data": {
            "text/plain": [
              "RunnableAssign(mapper={\n",
              "  agent_scratchpad: RunnableLambda(lambda x: format_log_to_str(x['intermediate_steps']))\n",
              "})\n",
              "| PromptTemplate(input_variables=['agent_scratchpad', 'input'], input_types={}, partial_variables={'tools': 'duckduckgo_search - A wrapper around DuckDuckGo Search. Useful for when you need to answer questions about current events. Input should be a search query.\\nget_current_weather(location: str) -> str - This is the function that fetches the current weather for a given location.', 'tool_names': 'duckduckgo_search, get_current_weather'}, metadata={'lc_hub_owner': 'hwchase17', 'lc_hub_repo': 'react', 'lc_hub_commit_hash': 'd15fe3c426f1c4b3f37c9198853e4a86e20c425ca7f4752ec0c9b0e97ca7ea4d'}, template='Answer the following questions as best you can. You have access to the following tools:\\n\\n{tools}\\n\\nUse the following format:\\n\\nQuestion: the input question you must answer\\nThought: you should always think about what to do\\nAction: the action to take, should be one of [{tool_names}]\\nAction Input: the input to the action\\nObservation: the result of the action\\n... (this Thought/Action/Action Input/Observation can repeat N times)\\nThought: I now know the final answer\\nFinal Answer: the final answer to the original input question\\n\\nBegin!\\n\\nQuestion: {input}\\nThought:{agent_scratchpad}')\n",
              "| RunnableBinding(bound=ChatGoogleGenerativeAI(model='models/gemini-2.0-flash', google_api_key=SecretStr('**********'), client=<google.ai.generativelanguage_v1beta.services.generative_service.client.GenerativeServiceClient object at 0x7b4dae75cb90>, default_metadata=(), model_kwargs={}), kwargs={'stop': ['\\nObservation']}, config={}, config_factories=[])\n",
              "| ReActSingleInputOutputParser()"
            ]
          },
          "metadata": {},
          "execution_count": 83
        }
      ]
    },
    {
      "cell_type": "code",
      "source": [
        "# step4: wrap the react agent with agent executer\n",
        "\n",
        "agent_executer = AgentExecutor(\n",
        "    agent =  agent,\n",
        "    tools = [search_tool, get_current_weather],\n",
        "    verbose=True\n",
        ")"
      ],
      "metadata": {
        "id": "2Gii1o6NyUx-"
      },
      "execution_count": 84,
      "outputs": []
    },
    {
      "cell_type": "code",
      "source": [
        "# step5: invoke\n",
        "\n",
        "response = agent_executer.invoke({'input':'Find the capital of Pakistan and then find its current weather condition'})\n",
        "print(response)"
      ],
      "metadata": {
        "colab": {
          "base_uri": "https://localhost:8080/"
        },
        "id": "Rq5InsO_ys8i",
        "outputId": "f56d1952-74c8-4a4a-999c-2d1acd2b724d"
      },
      "execution_count": 85,
      "outputs": [
        {
          "output_type": "stream",
          "name": "stdout",
          "text": [
            "\n",
            "\n",
            "\u001b[1m> Entering new AgentExecutor chain...\u001b[0m\n",
            "\u001b[32;1m\u001b[1;3mI need to first find the capital of Pakistan and then use that information to find the current weather.\n",
            "Action: duckduckgo_search\n",
            "Action Input: capital of Pakistan\u001b[0m"
          ]
        },
        {
          "output_type": "stream",
          "name": "stderr",
          "text": [
            "/usr/local/lib/python3.11/dist-packages/langchain_community/utilities/duckduckgo_search.py:63: RuntimeWarning: This package (`duckduckgo_search`) has been renamed to `ddgs`! Use `pip install ddgs` instead.\n",
            "  with DDGS() as ddgs:\n"
          ]
        },
        {
          "output_type": "stream",
          "name": "stdout",
          "text": [
            "\u001b[36;1m\u001b[1;3mApr 30, 2024 · Urdu, as National and Official working language in Pakistan. Many Islamabad inhabitants are from Rawalpindi and Pashtun areas, they talk Pashtu. Punjabi is also spoken … On this page you may find the Capital of Pakistan CodyCross Answers and Solutions. This is a popular game developed by Fanatee Inc. The provincial Capital city of Sindh is Karachi, Pakistan. Karachi was also the former federal capital city from 1947-1959. Rawalpindi became the interim capital until Islamabad was … Pakistan 's military dictator Ayub Khan decided to shift the capital city from Karachi to Islamabad in late 1950 as Karachi had become economic hub of the country and the infrastructure of the ... May 22, 2024 · What is the latitude and longitude of Islamabad? Islamabad, the capital city of Pakistan, is located at approximately 33.6844° N latitude and 73.0479° E longitude.\u001b[0m\u001b[32;1m\u001b[1;3mThe capital of Pakistan is Islamabad. Now I need to find the current weather in Islamabad.\n",
            "Action: get_current_weather\n",
            "Action Input: Islamabad\u001b[0m\u001b[33;1m\u001b[1;3m{'request': {'type': 'City', 'query': 'Islamabad, Pakistan', 'language': 'en', 'unit': 'm'}, 'location': {'name': 'Islamabad', 'country': 'Pakistan', 'region': 'Islamabad', 'lat': '33.700', 'lon': '73.167', 'timezone_id': 'Asia/Karachi', 'localtime': '2025-07-26 13:16', 'localtime_epoch': 1753535760, 'utc_offset': '5.0'}, 'current': {'observation_time': '08:16 AM', 'temperature': 35, 'weather_code': 113, 'weather_icons': ['https://cdn.worldweatheronline.com/images/wsymbols01_png_64/wsymbol_0001_sunny.png'], 'weather_descriptions': ['Sunny'], 'astro': {'sunrise': '05:15 AM', 'sunset': '07:12 PM', 'moonrise': '06:34 AM', 'moonset': '08:27 PM', 'moon_phase': 'Waxing Crescent', 'moon_illumination': 2}, 'air_quality': {'co': '1393.05', 'no2': '45.88', 'o3': '108', 'so2': '27.195', 'pm2_5': '75.11', 'pm10': '110.26', 'us-epa-index': '4', 'gb-defra-index': '4'}, 'wind_speed': 7, 'wind_degree': 167, 'wind_dir': 'SSE', 'pressure': 998, 'precip': 0, 'humidity': 44, 'cloudcover': 13, 'feelslike': 40, 'uv_index': 9, 'visibility': 10, 'is_day': 'yes'}}\u001b[0m\u001b[32;1m\u001b[1;3mI now know the final answer\n",
            "Final Answer: The capital of Pakistan is Islamabad, and the current weather condition in Islamabad is sunny with a temperature of 35 degrees Celsius.\n",
            "\u001b[0m\n",
            "\n",
            "\u001b[1m> Finished chain.\u001b[0m\n",
            "{'input': 'Find the capital of Pakistan and then find its current weather condition', 'output': 'The capital of Pakistan is Islamabad, and the current weather condition in Islamabad is sunny with a temperature of 35 degrees Celsius.'}\n"
          ]
        }
      ]
    },
    {
      "cell_type": "code",
      "source": [
        "response['output']"
      ],
      "metadata": {
        "colab": {
          "base_uri": "https://localhost:8080/",
          "height": 35
        },
        "id": "HL52z1F0zFxl",
        "outputId": "771fc9b7-7be6-4c6a-eea3-f8557346ee80"
      },
      "execution_count": 86,
      "outputs": [
        {
          "output_type": "execute_result",
          "data": {
            "text/plain": [
              "'The capital of Pakistan is Islamabad, and the current weather condition in Islamabad is sunny with a temperature of 35 degrees Celsius.'"
            ],
            "application/vnd.google.colaboratory.intrinsic+json": {
              "type": "string"
            }
          },
          "metadata": {},
          "execution_count": 86
        }
      ]
    },
    {
      "cell_type": "code",
      "source": [],
      "metadata": {
        "id": "qYBrU9OxzGJg"
      },
      "execution_count": 79,
      "outputs": []
    }
  ]
}