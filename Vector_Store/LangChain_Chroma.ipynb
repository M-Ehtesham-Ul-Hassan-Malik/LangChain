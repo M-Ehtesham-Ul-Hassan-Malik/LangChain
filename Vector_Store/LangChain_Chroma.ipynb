{
  "nbformat": 4,
  "nbformat_minor": 0,
  "metadata": {
    "colab": {
      "provenance": [],
      "gpuType": "T4"
    },
    "kernelspec": {
      "name": "python3",
      "display_name": "Python 3"
    },
    "language_info": {
      "name": "python"
    },
    "accelerator": "GPU"
  },
  "cells": [
    {
      "cell_type": "code",
      "execution_count": 1,
      "metadata": {
        "colab": {
          "base_uri": "https://localhost:8080/",
          "height": 1000
        },
        "id": "ITwT1XiD8hrL",
        "outputId": "fca60800-8574-40f6-d189-bab8105e4f61"
      },
      "outputs": [
        {
          "output_type": "stream",
          "name": "stdout",
          "text": [
            "Requirement already satisfied: langchain in /usr/local/lib/python3.11/dist-packages (0.3.26)\n",
            "Collecting chromadb\n",
            "  Downloading chromadb-1.0.15-cp39-abi3-manylinux_2_17_x86_64.manylinux2014_x86_64.whl.metadata (7.0 kB)\n",
            "Requirement already satisfied: tiktoken in /usr/local/lib/python3.11/dist-packages (0.9.0)\n",
            "Collecting pypdf\n",
            "  Downloading pypdf-5.8.0-py3-none-any.whl.metadata (7.1 kB)\n",
            "Collecting langchain_google_genai\n",
            "  Downloading langchain_google_genai-2.1.8-py3-none-any.whl.metadata (7.0 kB)\n",
            "Collecting langchain_community\n",
            "  Downloading langchain_community-0.3.27-py3-none-any.whl.metadata (2.9 kB)\n",
            "Requirement already satisfied: langchain-core<1.0.0,>=0.3.66 in /usr/local/lib/python3.11/dist-packages (from langchain) (0.3.69)\n",
            "Requirement already satisfied: langchain-text-splitters<1.0.0,>=0.3.8 in /usr/local/lib/python3.11/dist-packages (from langchain) (0.3.8)\n",
            "Requirement already satisfied: langsmith>=0.1.17 in /usr/local/lib/python3.11/dist-packages (from langchain) (0.4.7)\n",
            "Requirement already satisfied: pydantic<3.0.0,>=2.7.4 in /usr/local/lib/python3.11/dist-packages (from langchain) (2.11.7)\n",
            "Requirement already satisfied: SQLAlchemy<3,>=1.4 in /usr/local/lib/python3.11/dist-packages (from langchain) (2.0.41)\n",
            "Requirement already satisfied: requests<3,>=2 in /usr/local/lib/python3.11/dist-packages (from langchain) (2.32.3)\n",
            "Requirement already satisfied: PyYAML>=5.3 in /usr/local/lib/python3.11/dist-packages (from langchain) (6.0.2)\n",
            "Requirement already satisfied: build>=1.0.3 in /usr/local/lib/python3.11/dist-packages (from chromadb) (1.2.2.post1)\n",
            "Collecting pybase64>=1.4.1 (from chromadb)\n",
            "  Downloading pybase64-1.4.1-cp311-cp311-manylinux_2_5_x86_64.manylinux1_x86_64.manylinux_2_17_x86_64.manylinux2014_x86_64.whl.metadata (8.4 kB)\n",
            "Requirement already satisfied: uvicorn>=0.18.3 in /usr/local/lib/python3.11/dist-packages (from uvicorn[standard]>=0.18.3->chromadb) (0.35.0)\n",
            "Requirement already satisfied: numpy>=1.22.5 in /usr/local/lib/python3.11/dist-packages (from chromadb) (2.0.2)\n",
            "Collecting posthog<6.0.0,>=2.4.0 (from chromadb)\n",
            "  Downloading posthog-5.4.0-py3-none-any.whl.metadata (5.7 kB)\n",
            "Requirement already satisfied: typing-extensions>=4.5.0 in /usr/local/lib/python3.11/dist-packages (from chromadb) (4.14.1)\n",
            "Collecting onnxruntime>=1.14.1 (from chromadb)\n",
            "  Downloading onnxruntime-1.22.1-cp311-cp311-manylinux_2_27_x86_64.manylinux_2_28_x86_64.whl.metadata (4.6 kB)\n",
            "Collecting opentelemetry-api>=1.2.0 (from chromadb)\n",
            "  Downloading opentelemetry_api-1.35.0-py3-none-any.whl.metadata (1.5 kB)\n",
            "Collecting opentelemetry-exporter-otlp-proto-grpc>=1.2.0 (from chromadb)\n",
            "  Downloading opentelemetry_exporter_otlp_proto_grpc-1.35.0-py3-none-any.whl.metadata (2.4 kB)\n",
            "Collecting opentelemetry-sdk>=1.2.0 (from chromadb)\n",
            "  Downloading opentelemetry_sdk-1.35.0-py3-none-any.whl.metadata (1.5 kB)\n",
            "Requirement already satisfied: tokenizers>=0.13.2 in /usr/local/lib/python3.11/dist-packages (from chromadb) (0.21.2)\n",
            "Collecting pypika>=0.48.9 (from chromadb)\n",
            "  Downloading PyPika-0.48.9.tar.gz (67 kB)\n",
            "\u001b[2K     \u001b[90m━━━━━━━━━━━━━━━━━━━━━━━━━━━━━━━━━━━━━━━━\u001b[0m \u001b[32m67.3/67.3 kB\u001b[0m \u001b[31m3.3 MB/s\u001b[0m eta \u001b[36m0:00:00\u001b[0m\n",
            "\u001b[?25h  Installing build dependencies ... \u001b[?25l\u001b[?25hdone\n",
            "  Getting requirements to build wheel ... \u001b[?25l\u001b[?25hdone\n",
            "  Preparing metadata (pyproject.toml) ... \u001b[?25l\u001b[?25hdone\n",
            "Requirement already satisfied: tqdm>=4.65.0 in /usr/local/lib/python3.11/dist-packages (from chromadb) (4.67.1)\n",
            "Collecting overrides>=7.3.1 (from chromadb)\n",
            "  Downloading overrides-7.7.0-py3-none-any.whl.metadata (5.8 kB)\n",
            "Requirement already satisfied: importlib-resources in /usr/local/lib/python3.11/dist-packages (from chromadb) (6.5.2)\n",
            "Requirement already satisfied: grpcio>=1.58.0 in /usr/local/lib/python3.11/dist-packages (from chromadb) (1.73.1)\n",
            "Collecting bcrypt>=4.0.1 (from chromadb)\n",
            "  Downloading bcrypt-4.3.0-cp39-abi3-manylinux_2_34_x86_64.whl.metadata (10 kB)\n",
            "Requirement already satisfied: typer>=0.9.0 in /usr/local/lib/python3.11/dist-packages (from chromadb) (0.16.0)\n",
            "Collecting kubernetes>=28.1.0 (from chromadb)\n",
            "  Downloading kubernetes-33.1.0-py2.py3-none-any.whl.metadata (1.7 kB)\n",
            "Requirement already satisfied: tenacity>=8.2.3 in /usr/local/lib/python3.11/dist-packages (from chromadb) (8.5.0)\n",
            "Collecting mmh3>=4.0.1 (from chromadb)\n",
            "  Downloading mmh3-5.1.0-cp311-cp311-manylinux_2_5_x86_64.manylinux1_x86_64.manylinux_2_17_x86_64.manylinux2014_x86_64.whl.metadata (16 kB)\n",
            "Requirement already satisfied: orjson>=3.9.12 in /usr/local/lib/python3.11/dist-packages (from chromadb) (3.11.0)\n",
            "Requirement already satisfied: httpx>=0.27.0 in /usr/local/lib/python3.11/dist-packages (from chromadb) (0.28.1)\n",
            "Requirement already satisfied: rich>=10.11.0 in /usr/local/lib/python3.11/dist-packages (from chromadb) (13.9.4)\n",
            "Requirement already satisfied: jsonschema>=4.19.0 in /usr/local/lib/python3.11/dist-packages (from chromadb) (4.25.0)\n",
            "Requirement already satisfied: regex>=2022.1.18 in /usr/local/lib/python3.11/dist-packages (from tiktoken) (2024.11.6)\n",
            "Collecting filetype<2.0.0,>=1.2.0 (from langchain_google_genai)\n",
            "  Downloading filetype-1.2.0-py2.py3-none-any.whl.metadata (6.5 kB)\n",
            "Collecting google-ai-generativelanguage<0.7.0,>=0.6.18 (from langchain_google_genai)\n",
            "  Downloading google_ai_generativelanguage-0.6.18-py3-none-any.whl.metadata (9.8 kB)\n",
            "Requirement already satisfied: aiohttp<4.0.0,>=3.8.3 in /usr/local/lib/python3.11/dist-packages (from langchain_community) (3.11.15)\n",
            "Collecting dataclasses-json<0.7,>=0.5.7 (from langchain_community)\n",
            "  Downloading dataclasses_json-0.6.7-py3-none-any.whl.metadata (25 kB)\n",
            "Collecting pydantic-settings<3.0.0,>=2.4.0 (from langchain_community)\n",
            "  Downloading pydantic_settings-2.10.1-py3-none-any.whl.metadata (3.4 kB)\n",
            "Collecting httpx-sse<1.0.0,>=0.4.0 (from langchain_community)\n",
            "  Downloading httpx_sse-0.4.1-py3-none-any.whl.metadata (9.4 kB)\n",
            "Requirement already satisfied: aiohappyeyeballs>=2.3.0 in /usr/local/lib/python3.11/dist-packages (from aiohttp<4.0.0,>=3.8.3->langchain_community) (2.6.1)\n",
            "Requirement already satisfied: aiosignal>=1.1.2 in /usr/local/lib/python3.11/dist-packages (from aiohttp<4.0.0,>=3.8.3->langchain_community) (1.4.0)\n",
            "Requirement already satisfied: attrs>=17.3.0 in /usr/local/lib/python3.11/dist-packages (from aiohttp<4.0.0,>=3.8.3->langchain_community) (25.3.0)\n",
            "Requirement already satisfied: frozenlist>=1.1.1 in /usr/local/lib/python3.11/dist-packages (from aiohttp<4.0.0,>=3.8.3->langchain_community) (1.7.0)\n",
            "Requirement already satisfied: multidict<7.0,>=4.5 in /usr/local/lib/python3.11/dist-packages (from aiohttp<4.0.0,>=3.8.3->langchain_community) (6.6.3)\n",
            "Requirement already satisfied: propcache>=0.2.0 in /usr/local/lib/python3.11/dist-packages (from aiohttp<4.0.0,>=3.8.3->langchain_community) (0.3.2)\n",
            "Requirement already satisfied: yarl<2.0,>=1.17.0 in /usr/local/lib/python3.11/dist-packages (from aiohttp<4.0.0,>=3.8.3->langchain_community) (1.20.1)\n",
            "Requirement already satisfied: packaging>=19.1 in /usr/local/lib/python3.11/dist-packages (from build>=1.0.3->chromadb) (25.0)\n",
            "Requirement already satisfied: pyproject_hooks in /usr/local/lib/python3.11/dist-packages (from build>=1.0.3->chromadb) (1.2.0)\n",
            "Collecting marshmallow<4.0.0,>=3.18.0 (from dataclasses-json<0.7,>=0.5.7->langchain_community)\n",
            "  Downloading marshmallow-3.26.1-py3-none-any.whl.metadata (7.3 kB)\n",
            "Collecting typing-inspect<1,>=0.4.0 (from dataclasses-json<0.7,>=0.5.7->langchain_community)\n",
            "  Downloading typing_inspect-0.9.0-py3-none-any.whl.metadata (1.5 kB)\n",
            "Requirement already satisfied: google-api-core!=2.0.*,!=2.1.*,!=2.10.*,!=2.2.*,!=2.3.*,!=2.4.*,!=2.5.*,!=2.6.*,!=2.7.*,!=2.8.*,!=2.9.*,<3.0.0,>=1.34.1 in /usr/local/lib/python3.11/dist-packages (from google-api-core[grpc]!=2.0.*,!=2.1.*,!=2.10.*,!=2.2.*,!=2.3.*,!=2.4.*,!=2.5.*,!=2.6.*,!=2.7.*,!=2.8.*,!=2.9.*,<3.0.0,>=1.34.1->google-ai-generativelanguage<0.7.0,>=0.6.18->langchain_google_genai) (2.25.1)\n",
            "Requirement already satisfied: google-auth!=2.24.0,!=2.25.0,<3.0.0,>=2.14.1 in /usr/local/lib/python3.11/dist-packages (from google-ai-generativelanguage<0.7.0,>=0.6.18->langchain_google_genai) (2.38.0)\n",
            "Requirement already satisfied: proto-plus<2.0.0,>=1.22.3 in /usr/local/lib/python3.11/dist-packages (from google-ai-generativelanguage<0.7.0,>=0.6.18->langchain_google_genai) (1.26.1)\n",
            "Requirement already satisfied: protobuf!=4.21.0,!=4.21.1,!=4.21.2,!=4.21.3,!=4.21.4,!=4.21.5,<7.0.0,>=3.20.2 in /usr/local/lib/python3.11/dist-packages (from google-ai-generativelanguage<0.7.0,>=0.6.18->langchain_google_genai) (5.29.5)\n",
            "Requirement already satisfied: anyio in /usr/local/lib/python3.11/dist-packages (from httpx>=0.27.0->chromadb) (4.9.0)\n",
            "Requirement already satisfied: certifi in /usr/local/lib/python3.11/dist-packages (from httpx>=0.27.0->chromadb) (2025.7.14)\n",
            "Requirement already satisfied: httpcore==1.* in /usr/local/lib/python3.11/dist-packages (from httpx>=0.27.0->chromadb) (1.0.9)\n",
            "Requirement already satisfied: idna in /usr/local/lib/python3.11/dist-packages (from httpx>=0.27.0->chromadb) (3.10)\n",
            "Requirement already satisfied: h11>=0.16 in /usr/local/lib/python3.11/dist-packages (from httpcore==1.*->httpx>=0.27.0->chromadb) (0.16.0)\n",
            "Requirement already satisfied: jsonschema-specifications>=2023.03.6 in /usr/local/lib/python3.11/dist-packages (from jsonschema>=4.19.0->chromadb) (2025.4.1)\n",
            "Requirement already satisfied: referencing>=0.28.4 in /usr/local/lib/python3.11/dist-packages (from jsonschema>=4.19.0->chromadb) (0.36.2)\n",
            "Requirement already satisfied: rpds-py>=0.7.1 in /usr/local/lib/python3.11/dist-packages (from jsonschema>=4.19.0->chromadb) (0.26.0)\n",
            "Requirement already satisfied: six>=1.9.0 in /usr/local/lib/python3.11/dist-packages (from kubernetes>=28.1.0->chromadb) (1.17.0)\n",
            "Requirement already satisfied: python-dateutil>=2.5.3 in /usr/local/lib/python3.11/dist-packages (from kubernetes>=28.1.0->chromadb) (2.9.0.post0)\n",
            "Requirement already satisfied: websocket-client!=0.40.0,!=0.41.*,!=0.42.*,>=0.32.0 in /usr/local/lib/python3.11/dist-packages (from kubernetes>=28.1.0->chromadb) (1.8.0)\n",
            "Requirement already satisfied: requests-oauthlib in /usr/local/lib/python3.11/dist-packages (from kubernetes>=28.1.0->chromadb) (2.0.0)\n",
            "Requirement already satisfied: oauthlib>=3.2.2 in /usr/local/lib/python3.11/dist-packages (from kubernetes>=28.1.0->chromadb) (3.3.1)\n",
            "Requirement already satisfied: urllib3>=1.24.2 in /usr/local/lib/python3.11/dist-packages (from kubernetes>=28.1.0->chromadb) (2.5.0)\n",
            "Collecting durationpy>=0.7 (from kubernetes>=28.1.0->chromadb)\n",
            "  Downloading durationpy-0.10-py3-none-any.whl.metadata (340 bytes)\n",
            "Requirement already satisfied: jsonpatch<2.0,>=1.33 in /usr/local/lib/python3.11/dist-packages (from langchain-core<1.0.0,>=0.3.66->langchain) (1.33)\n",
            "Requirement already satisfied: requests-toolbelt<2.0.0,>=1.0.0 in /usr/local/lib/python3.11/dist-packages (from langsmith>=0.1.17->langchain) (1.0.0)\n",
            "Requirement already satisfied: zstandard<0.24.0,>=0.23.0 in /usr/local/lib/python3.11/dist-packages (from langsmith>=0.1.17->langchain) (0.23.0)\n",
            "Collecting coloredlogs (from onnxruntime>=1.14.1->chromadb)\n",
            "  Downloading coloredlogs-15.0.1-py2.py3-none-any.whl.metadata (12 kB)\n",
            "Requirement already satisfied: flatbuffers in /usr/local/lib/python3.11/dist-packages (from onnxruntime>=1.14.1->chromadb) (25.2.10)\n",
            "Requirement already satisfied: sympy in /usr/local/lib/python3.11/dist-packages (from onnxruntime>=1.14.1->chromadb) (1.13.1)\n",
            "Requirement already satisfied: importlib-metadata<8.8.0,>=6.0 in /usr/local/lib/python3.11/dist-packages (from opentelemetry-api>=1.2.0->chromadb) (8.7.0)\n",
            "Requirement already satisfied: googleapis-common-protos~=1.57 in /usr/local/lib/python3.11/dist-packages (from opentelemetry-exporter-otlp-proto-grpc>=1.2.0->chromadb) (1.70.0)\n",
            "Collecting opentelemetry-exporter-otlp-proto-common==1.35.0 (from opentelemetry-exporter-otlp-proto-grpc>=1.2.0->chromadb)\n",
            "  Downloading opentelemetry_exporter_otlp_proto_common-1.35.0-py3-none-any.whl.metadata (1.8 kB)\n",
            "Collecting opentelemetry-proto==1.35.0 (from opentelemetry-exporter-otlp-proto-grpc>=1.2.0->chromadb)\n",
            "  Downloading opentelemetry_proto-1.35.0-py3-none-any.whl.metadata (2.3 kB)\n",
            "Collecting opentelemetry-semantic-conventions==0.56b0 (from opentelemetry-sdk>=1.2.0->chromadb)\n",
            "  Downloading opentelemetry_semantic_conventions-0.56b0-py3-none-any.whl.metadata (2.4 kB)\n",
            "Collecting backoff>=1.10.0 (from posthog<6.0.0,>=2.4.0->chromadb)\n",
            "  Downloading backoff-2.2.1-py3-none-any.whl.metadata (14 kB)\n",
            "Requirement already satisfied: distro>=1.5.0 in /usr/local/lib/python3.11/dist-packages (from posthog<6.0.0,>=2.4.0->chromadb) (1.9.0)\n",
            "Requirement already satisfied: annotated-types>=0.6.0 in /usr/local/lib/python3.11/dist-packages (from pydantic<3.0.0,>=2.7.4->langchain) (0.7.0)\n",
            "Requirement already satisfied: pydantic-core==2.33.2 in /usr/local/lib/python3.11/dist-packages (from pydantic<3.0.0,>=2.7.4->langchain) (2.33.2)\n",
            "Requirement already satisfied: typing-inspection>=0.4.0 in /usr/local/lib/python3.11/dist-packages (from pydantic<3.0.0,>=2.7.4->langchain) (0.4.1)\n",
            "Collecting python-dotenv>=0.21.0 (from pydantic-settings<3.0.0,>=2.4.0->langchain_community)\n",
            "  Downloading python_dotenv-1.1.1-py3-none-any.whl.metadata (24 kB)\n",
            "Requirement already satisfied: charset-normalizer<4,>=2 in /usr/local/lib/python3.11/dist-packages (from requests<3,>=2->langchain) (3.4.2)\n",
            "Requirement already satisfied: markdown-it-py>=2.2.0 in /usr/local/lib/python3.11/dist-packages (from rich>=10.11.0->chromadb) (3.0.0)\n",
            "Requirement already satisfied: pygments<3.0.0,>=2.13.0 in /usr/local/lib/python3.11/dist-packages (from rich>=10.11.0->chromadb) (2.19.2)\n",
            "Requirement already satisfied: greenlet>=1 in /usr/local/lib/python3.11/dist-packages (from SQLAlchemy<3,>=1.4->langchain) (3.2.3)\n",
            "Requirement already satisfied: huggingface-hub<1.0,>=0.16.4 in /usr/local/lib/python3.11/dist-packages (from tokenizers>=0.13.2->chromadb) (0.33.4)\n",
            "Requirement already satisfied: click>=8.0.0 in /usr/local/lib/python3.11/dist-packages (from typer>=0.9.0->chromadb) (8.2.1)\n",
            "Requirement already satisfied: shellingham>=1.3.0 in /usr/local/lib/python3.11/dist-packages (from typer>=0.9.0->chromadb) (1.5.4)\n",
            "Collecting httptools>=0.6.3 (from uvicorn[standard]>=0.18.3->chromadb)\n",
            "  Downloading httptools-0.6.4-cp311-cp311-manylinux_2_5_x86_64.manylinux1_x86_64.manylinux_2_17_x86_64.manylinux2014_x86_64.whl.metadata (3.6 kB)\n",
            "Collecting uvloop>=0.15.1 (from uvicorn[standard]>=0.18.3->chromadb)\n",
            "  Downloading uvloop-0.21.0-cp311-cp311-manylinux_2_17_x86_64.manylinux2014_x86_64.whl.metadata (4.9 kB)\n",
            "Collecting watchfiles>=0.13 (from uvicorn[standard]>=0.18.3->chromadb)\n",
            "  Downloading watchfiles-1.1.0-cp311-cp311-manylinux_2_17_x86_64.manylinux2014_x86_64.whl.metadata (4.9 kB)\n",
            "Requirement already satisfied: websockets>=10.4 in /usr/local/lib/python3.11/dist-packages (from uvicorn[standard]>=0.18.3->chromadb) (15.0.1)\n",
            "Requirement already satisfied: grpcio-status<2.0.0,>=1.33.2 in /usr/local/lib/python3.11/dist-packages (from google-api-core[grpc]!=2.0.*,!=2.1.*,!=2.10.*,!=2.2.*,!=2.3.*,!=2.4.*,!=2.5.*,!=2.6.*,!=2.7.*,!=2.8.*,!=2.9.*,<3.0.0,>=1.34.1->google-ai-generativelanguage<0.7.0,>=0.6.18->langchain_google_genai) (1.71.2)\n",
            "Requirement already satisfied: cachetools<6.0,>=2.0.0 in /usr/local/lib/python3.11/dist-packages (from google-auth!=2.24.0,!=2.25.0,<3.0.0,>=2.14.1->google-ai-generativelanguage<0.7.0,>=0.6.18->langchain_google_genai) (5.5.2)\n",
            "Requirement already satisfied: pyasn1-modules>=0.2.1 in /usr/local/lib/python3.11/dist-packages (from google-auth!=2.24.0,!=2.25.0,<3.0.0,>=2.14.1->google-ai-generativelanguage<0.7.0,>=0.6.18->langchain_google_genai) (0.4.2)\n",
            "Requirement already satisfied: rsa<5,>=3.1.4 in /usr/local/lib/python3.11/dist-packages (from google-auth!=2.24.0,!=2.25.0,<3.0.0,>=2.14.1->google-ai-generativelanguage<0.7.0,>=0.6.18->langchain_google_genai) (4.9.1)\n",
            "Requirement already satisfied: filelock in /usr/local/lib/python3.11/dist-packages (from huggingface-hub<1.0,>=0.16.4->tokenizers>=0.13.2->chromadb) (3.18.0)\n",
            "Requirement already satisfied: fsspec>=2023.5.0 in /usr/local/lib/python3.11/dist-packages (from huggingface-hub<1.0,>=0.16.4->tokenizers>=0.13.2->chromadb) (2025.7.0)\n",
            "Requirement already satisfied: hf-xet<2.0.0,>=1.1.2 in /usr/local/lib/python3.11/dist-packages (from huggingface-hub<1.0,>=0.16.4->tokenizers>=0.13.2->chromadb) (1.1.5)\n",
            "Requirement already satisfied: zipp>=3.20 in /usr/local/lib/python3.11/dist-packages (from importlib-metadata<8.8.0,>=6.0->opentelemetry-api>=1.2.0->chromadb) (3.23.0)\n",
            "Requirement already satisfied: jsonpointer>=1.9 in /usr/local/lib/python3.11/dist-packages (from jsonpatch<2.0,>=1.33->langchain-core<1.0.0,>=0.3.66->langchain) (3.0.0)\n",
            "Requirement already satisfied: mdurl~=0.1 in /usr/local/lib/python3.11/dist-packages (from markdown-it-py>=2.2.0->rich>=10.11.0->chromadb) (0.1.2)\n",
            "Collecting mypy-extensions>=0.3.0 (from typing-inspect<1,>=0.4.0->dataclasses-json<0.7,>=0.5.7->langchain_community)\n",
            "  Downloading mypy_extensions-1.1.0-py3-none-any.whl.metadata (1.1 kB)\n",
            "Requirement already satisfied: sniffio>=1.1 in /usr/local/lib/python3.11/dist-packages (from anyio->httpx>=0.27.0->chromadb) (1.3.1)\n",
            "Collecting humanfriendly>=9.1 (from coloredlogs->onnxruntime>=1.14.1->chromadb)\n",
            "  Downloading humanfriendly-10.0-py2.py3-none-any.whl.metadata (9.2 kB)\n",
            "Requirement already satisfied: mpmath<1.4,>=1.1.0 in /usr/local/lib/python3.11/dist-packages (from sympy->onnxruntime>=1.14.1->chromadb) (1.3.0)\n",
            "Requirement already satisfied: pyasn1<0.7.0,>=0.6.1 in /usr/local/lib/python3.11/dist-packages (from pyasn1-modules>=0.2.1->google-auth!=2.24.0,!=2.25.0,<3.0.0,>=2.14.1->google-ai-generativelanguage<0.7.0,>=0.6.18->langchain_google_genai) (0.6.1)\n",
            "Downloading chromadb-1.0.15-cp39-abi3-manylinux_2_17_x86_64.manylinux2014_x86_64.whl (19.5 MB)\n",
            "\u001b[2K   \u001b[90m━━━━━━━━━━━━━━━━━━━━━━━━━━━━━━━━━━━━━━━━\u001b[0m \u001b[32m19.5/19.5 MB\u001b[0m \u001b[31m85.1 MB/s\u001b[0m eta \u001b[36m0:00:00\u001b[0m\n",
            "\u001b[?25hDownloading pypdf-5.8.0-py3-none-any.whl (309 kB)\n",
            "\u001b[2K   \u001b[90m━━━━━━━━━━━━━━━━━━━━━━━━━━━━━━━━━━━━━━━━\u001b[0m \u001b[32m309.7/309.7 kB\u001b[0m \u001b[31m30.3 MB/s\u001b[0m eta \u001b[36m0:00:00\u001b[0m\n",
            "\u001b[?25hDownloading langchain_google_genai-2.1.8-py3-none-any.whl (47 kB)\n",
            "\u001b[2K   \u001b[90m━━━━━━━━━━━━━━━━━━━━━━━━━━━━━━━━━━━━━━━━\u001b[0m \u001b[32m47.8/47.8 kB\u001b[0m \u001b[31m5.0 MB/s\u001b[0m eta \u001b[36m0:00:00\u001b[0m\n",
            "\u001b[?25hDownloading langchain_community-0.3.27-py3-none-any.whl (2.5 MB)\n",
            "\u001b[2K   \u001b[90m━━━━━━━━━━━━━━━━━━━━━━━━━━━━━━━━━━━━━━━━\u001b[0m \u001b[32m2.5/2.5 MB\u001b[0m \u001b[31m87.9 MB/s\u001b[0m eta \u001b[36m0:00:00\u001b[0m\n",
            "\u001b[?25hDownloading bcrypt-4.3.0-cp39-abi3-manylinux_2_34_x86_64.whl (284 kB)\n",
            "\u001b[2K   \u001b[90m━━━━━━━━━━━━━━━━━━━━━━━━━━━━━━━━━━━━━━━━\u001b[0m \u001b[32m284.2/284.2 kB\u001b[0m \u001b[31m27.9 MB/s\u001b[0m eta \u001b[36m0:00:00\u001b[0m\n",
            "\u001b[?25hDownloading dataclasses_json-0.6.7-py3-none-any.whl (28 kB)\n",
            "Downloading filetype-1.2.0-py2.py3-none-any.whl (19 kB)\n",
            "Downloading google_ai_generativelanguage-0.6.18-py3-none-any.whl (1.4 MB)\n",
            "\u001b[2K   \u001b[90m━━━━━━━━━━━━━━━━━━━━━━━━━━━━━━━━━━━━━━━━\u001b[0m \u001b[32m1.4/1.4 MB\u001b[0m \u001b[31m61.8 MB/s\u001b[0m eta \u001b[36m0:00:00\u001b[0m\n",
            "\u001b[?25hDownloading httpx_sse-0.4.1-py3-none-any.whl (8.1 kB)\n",
            "Downloading kubernetes-33.1.0-py2.py3-none-any.whl (1.9 MB)\n",
            "\u001b[2K   \u001b[90m━━━━━━━━━━━━━━━━━━━━━━━━━━━━━━━━━━━━━━━━\u001b[0m \u001b[32m1.9/1.9 MB\u001b[0m \u001b[31m76.1 MB/s\u001b[0m eta \u001b[36m0:00:00\u001b[0m\n",
            "\u001b[?25hDownloading mmh3-5.1.0-cp311-cp311-manylinux_2_5_x86_64.manylinux1_x86_64.manylinux_2_17_x86_64.manylinux2014_x86_64.whl (101 kB)\n",
            "\u001b[2K   \u001b[90m━━━━━━━━━━━━━━━━━━━━━━━━━━━━━━━━━━━━━━━━\u001b[0m \u001b[32m101.6/101.6 kB\u001b[0m \u001b[31m11.1 MB/s\u001b[0m eta \u001b[36m0:00:00\u001b[0m\n",
            "\u001b[?25hDownloading onnxruntime-1.22.1-cp311-cp311-manylinux_2_27_x86_64.manylinux_2_28_x86_64.whl (16.5 MB)\n",
            "\u001b[2K   \u001b[90m━━━━━━━━━━━━━━━━━━━━━━━━━━━━━━━━━━━━━━━━\u001b[0m \u001b[32m16.5/16.5 MB\u001b[0m \u001b[31m89.2 MB/s\u001b[0m eta \u001b[36m0:00:00\u001b[0m\n",
            "\u001b[?25hDownloading opentelemetry_api-1.35.0-py3-none-any.whl (65 kB)\n",
            "\u001b[2K   \u001b[90m━━━━━━━━━━━━━━━━━━━━━━━━━━━━━━━━━━━━━━━━\u001b[0m \u001b[32m65.6/65.6 kB\u001b[0m \u001b[31m6.3 MB/s\u001b[0m eta \u001b[36m0:00:00\u001b[0m\n",
            "\u001b[?25hDownloading opentelemetry_exporter_otlp_proto_grpc-1.35.0-py3-none-any.whl (18 kB)\n",
            "Downloading opentelemetry_exporter_otlp_proto_common-1.35.0-py3-none-any.whl (18 kB)\n",
            "Downloading opentelemetry_proto-1.35.0-py3-none-any.whl (72 kB)\n",
            "\u001b[2K   \u001b[90m━━━━━━━━━━━━━━━━━━━━━━━━━━━━━━━━━━━━━━━━\u001b[0m \u001b[32m72.5/72.5 kB\u001b[0m \u001b[31m7.8 MB/s\u001b[0m eta \u001b[36m0:00:00\u001b[0m\n",
            "\u001b[?25hDownloading opentelemetry_sdk-1.35.0-py3-none-any.whl (119 kB)\n",
            "\u001b[2K   \u001b[90m━━━━━━━━━━━━━━━━━━━━━━━━━━━━━━━━━━━━━━━━\u001b[0m \u001b[32m119.4/119.4 kB\u001b[0m \u001b[31m12.6 MB/s\u001b[0m eta \u001b[36m0:00:00\u001b[0m\n",
            "\u001b[?25hDownloading opentelemetry_semantic_conventions-0.56b0-py3-none-any.whl (201 kB)\n",
            "\u001b[2K   \u001b[90m━━━━━━━━━━━━━━━━━━━━━━━━━━━━━━━━━━━━━━━━\u001b[0m \u001b[32m201.6/201.6 kB\u001b[0m \u001b[31m19.0 MB/s\u001b[0m eta \u001b[36m0:00:00\u001b[0m\n",
            "\u001b[?25hDownloading overrides-7.7.0-py3-none-any.whl (17 kB)\n",
            "Downloading posthog-5.4.0-py3-none-any.whl (105 kB)\n",
            "\u001b[2K   \u001b[90m━━━━━━━━━━━━━━━━━━━━━━━━━━━━━━━━━━━━━━━━\u001b[0m \u001b[32m105.4/105.4 kB\u001b[0m \u001b[31m11.1 MB/s\u001b[0m eta \u001b[36m0:00:00\u001b[0m\n",
            "\u001b[?25hDownloading pybase64-1.4.1-cp311-cp311-manylinux_2_5_x86_64.manylinux1_x86_64.manylinux_2_17_x86_64.manylinux2014_x86_64.whl (71 kB)\n",
            "\u001b[2K   \u001b[90m━━━━━━━━━━━━━━━━━━━━━━━━━━━━━━━━━━━━━━━━\u001b[0m \u001b[32m71.2/71.2 kB\u001b[0m \u001b[31m7.6 MB/s\u001b[0m eta \u001b[36m0:00:00\u001b[0m\n",
            "\u001b[?25hDownloading pydantic_settings-2.10.1-py3-none-any.whl (45 kB)\n",
            "\u001b[2K   \u001b[90m━━━━━━━━━━━━━━━━━━━━━━━━━━━━━━━━━━━━━━━━\u001b[0m \u001b[32m45.2/45.2 kB\u001b[0m \u001b[31m4.5 MB/s\u001b[0m eta \u001b[36m0:00:00\u001b[0m\n",
            "\u001b[?25hDownloading backoff-2.2.1-py3-none-any.whl (15 kB)\n",
            "Downloading durationpy-0.10-py3-none-any.whl (3.9 kB)\n",
            "Downloading httptools-0.6.4-cp311-cp311-manylinux_2_5_x86_64.manylinux1_x86_64.manylinux_2_17_x86_64.manylinux2014_x86_64.whl (459 kB)\n",
            "\u001b[2K   \u001b[90m━━━━━━━━━━━━━━━━━━━━━━━━━━━━━━━━━━━━━━━━\u001b[0m \u001b[32m459.8/459.8 kB\u001b[0m \u001b[31m40.7 MB/s\u001b[0m eta \u001b[36m0:00:00\u001b[0m\n",
            "\u001b[?25hDownloading marshmallow-3.26.1-py3-none-any.whl (50 kB)\n",
            "\u001b[2K   \u001b[90m━━━━━━━━━━━━━━━━━━━━━━━━━━━━━━━━━━━━━━━━\u001b[0m \u001b[32m50.9/50.9 kB\u001b[0m \u001b[31m5.5 MB/s\u001b[0m eta \u001b[36m0:00:00\u001b[0m\n",
            "\u001b[?25hDownloading python_dotenv-1.1.1-py3-none-any.whl (20 kB)\n",
            "Downloading typing_inspect-0.9.0-py3-none-any.whl (8.8 kB)\n",
            "Downloading uvloop-0.21.0-cp311-cp311-manylinux_2_17_x86_64.manylinux2014_x86_64.whl (4.0 MB)\n",
            "\u001b[2K   \u001b[90m━━━━━━━━━━━━━━━━━━━━━━━━━━━━━━━━━━━━━━━━\u001b[0m \u001b[32m4.0/4.0 MB\u001b[0m \u001b[31m77.8 MB/s\u001b[0m eta \u001b[36m0:00:00\u001b[0m\n",
            "\u001b[?25hDownloading watchfiles-1.1.0-cp311-cp311-manylinux_2_17_x86_64.manylinux2014_x86_64.whl (453 kB)\n",
            "\u001b[2K   \u001b[90m━━━━━━━━━━━━━━━━━━━━━━━━━━━━━━━━━━━━━━━━\u001b[0m \u001b[32m453.1/453.1 kB\u001b[0m \u001b[31m36.5 MB/s\u001b[0m eta \u001b[36m0:00:00\u001b[0m\n",
            "\u001b[?25hDownloading coloredlogs-15.0.1-py2.py3-none-any.whl (46 kB)\n",
            "\u001b[2K   \u001b[90m━━━━━━━━━━━━━━━━━━━━━━━━━━━━━━━━━━━━━━━━\u001b[0m \u001b[32m46.0/46.0 kB\u001b[0m \u001b[31m4.4 MB/s\u001b[0m eta \u001b[36m0:00:00\u001b[0m\n",
            "\u001b[?25hDownloading humanfriendly-10.0-py2.py3-none-any.whl (86 kB)\n",
            "\u001b[2K   \u001b[90m━━━━━━━━━━━━━━━━━━━━━━━━━━━━━━━━━━━━━━━━\u001b[0m \u001b[32m86.8/86.8 kB\u001b[0m \u001b[31m9.4 MB/s\u001b[0m eta \u001b[36m0:00:00\u001b[0m\n",
            "\u001b[?25hDownloading mypy_extensions-1.1.0-py3-none-any.whl (5.0 kB)\n",
            "Building wheels for collected packages: pypika\n",
            "  Building wheel for pypika (pyproject.toml) ... \u001b[?25l\u001b[?25hdone\n",
            "  Created wheel for pypika: filename=pypika-0.48.9-py2.py3-none-any.whl size=53803 sha256=818280e922dbfafb55bc2b3549e0490c3a9e679fdf0bba816b90561be5e8d7d7\n",
            "  Stored in directory: /root/.cache/pip/wheels/a3/01/bd/4c40ceb9d5354160cb186dcc153360f4ab7eb23e2b24daf96d\n",
            "Successfully built pypika\n",
            "Installing collected packages: pypika, filetype, durationpy, uvloop, python-dotenv, pypdf, pybase64, overrides, opentelemetry-proto, mypy-extensions, mmh3, marshmallow, humanfriendly, httpx-sse, httptools, bcrypt, backoff, watchfiles, typing-inspect, posthog, opentelemetry-exporter-otlp-proto-common, opentelemetry-api, coloredlogs, pydantic-settings, opentelemetry-semantic-conventions, onnxruntime, kubernetes, dataclasses-json, opentelemetry-sdk, opentelemetry-exporter-otlp-proto-grpc, google-ai-generativelanguage, langchain_google_genai, chromadb, langchain_community\n",
            "  Attempting uninstall: google-ai-generativelanguage\n",
            "    Found existing installation: google-ai-generativelanguage 0.6.15\n",
            "    Uninstalling google-ai-generativelanguage-0.6.15:\n",
            "      Successfully uninstalled google-ai-generativelanguage-0.6.15\n",
            "\u001b[31mERROR: pip's dependency resolver does not currently take into account all the packages that are installed. This behaviour is the source of the following dependency conflicts.\n",
            "google-generativeai 0.8.5 requires google-ai-generativelanguage==0.6.15, but you have google-ai-generativelanguage 0.6.18 which is incompatible.\u001b[0m\u001b[31m\n",
            "\u001b[0mSuccessfully installed backoff-2.2.1 bcrypt-4.3.0 chromadb-1.0.15 coloredlogs-15.0.1 dataclasses-json-0.6.7 durationpy-0.10 filetype-1.2.0 google-ai-generativelanguage-0.6.18 httptools-0.6.4 httpx-sse-0.4.1 humanfriendly-10.0 kubernetes-33.1.0 langchain_community-0.3.27 langchain_google_genai-2.1.8 marshmallow-3.26.1 mmh3-5.1.0 mypy-extensions-1.1.0 onnxruntime-1.22.1 opentelemetry-api-1.35.0 opentelemetry-exporter-otlp-proto-common-1.35.0 opentelemetry-exporter-otlp-proto-grpc-1.35.0 opentelemetry-proto-1.35.0 opentelemetry-sdk-1.35.0 opentelemetry-semantic-conventions-0.56b0 overrides-7.7.0 posthog-5.4.0 pybase64-1.4.1 pydantic-settings-2.10.1 pypdf-5.8.0 pypika-0.48.9 python-dotenv-1.1.1 typing-inspect-0.9.0 uvloop-0.21.0 watchfiles-1.1.0\n"
          ]
        },
        {
          "output_type": "display_data",
          "data": {
            "application/vnd.colab-display-data+json": {
              "pip_warning": {
                "packages": [
                  "google"
                ]
              },
              "id": "facbdfb4940e4f2faef3367797c2ab83"
            }
          },
          "metadata": {}
        }
      ],
      "source": [
        "!pip install langchain chromadb tiktoken pypdf langchain_google_genai langchain_community"
      ]
    },
    {
      "cell_type": "code",
      "source": [
        "from langchain_google_genai import GoogleGenerativeAIEmbeddings\n",
        "from langchain.vectorstores import Chroma"
      ],
      "metadata": {
        "id": "lsDtW1QY9uaq"
      },
      "execution_count": 2,
      "outputs": []
    },
    {
      "cell_type": "code",
      "source": [
        "from langchain.schema import Document\n",
        "\n",
        "doc1 = Document(\n",
        "    page_content=\"Lahore is the cultural capital of Pakistan, known for its rich history, vibrant arts, and historical architecture. Home to landmarks like the Badshahi Mosque, Lahore Fort, and Shalimar Gardens, the city reflects the grandeur of the Mughal era. It’s also famous for its food streets, educational institutions like LUMS and Punjab University, and lively festivals that attract people from all over the country.\",\n",
        "    metadata={\n",
        "        \"city\": \"Lahore\",\n",
        "        \"province\": \"Punjab\",\n",
        "        \"known_for\": \"Cultural heritage, Mughal architecture, Food streets\",\n",
        "        \"landmarks\": \"Badshahi Mosque, Lahore Fort, Shalimar Gardens\",\n",
        "        \"major_industries\": \"Education, Tourism, Food, Media\",\n",
        "        \"population_estimate\": 11000000,\n",
        "        \"nickname\": \"Heart of Pakistan\"\n",
        "    }\n",
        ")\n",
        "\n",
        "doc2 = Document(\n",
        "    page_content=\"Karachi, the largest city of Pakistan, is the country's economic engine and main seaport. It’s a melting pot of cultures, home to a vibrant business environment, beautiful beaches like Clifton and Hawksbay, and key institutions like the Karachi Stock Exchange and major media houses.\",\n",
        "    metadata={\n",
        "        \"city\": \"Karachi\",\n",
        "        \"province\": \"Sindh\",\n",
        "        \"known_for\": \"Economic hub, Seaport, Beaches\",\n",
        "        \"landmarks\": \"Clifton Beach, Hawksbay, Mazar-e-Quaid\",\n",
        "        \"major_industries\": \"Finance, Shipping, Media, Manufacturing\",\n",
        "        \"population_estimate\": 15000000,\n",
        "        \"nickname\": \"City of Lights\"\n",
        "    }\n",
        ")\n",
        "\n",
        "doc3 = Document(\n",
        "    page_content=\"Islamabad, the capital city of Pakistan, is known for its modern architecture, organized layout, and lush greenery. It houses key government buildings, the iconic Faisal Mosque, and several parks and museums. It offers a peaceful contrast to the hustle of other big cities.\",\n",
        "    metadata={\n",
        "        \"city\": \"Islamabad\",\n",
        "        \"province\": \"Islamabad Capital Territory\",\n",
        "        \"known_for\": \"Government, Cleanliness, Modern architecture\",\n",
        "        \"landmarks\": \"Faisal Mosque, Daman-e-Koh, Pakistan Monument\",\n",
        "        \"major_industries\": \"Government, Services, Tourism\",\n",
        "        \"population_estimate\": 1300000,\n",
        "        \"nickname\": \"Green City\"\n",
        "    }\n",
        ")\n",
        "\n",
        "doc4 = Document(\n",
        "    page_content=\"Faisalabad is a major industrial center of Pakistan, often referred to as the Manchester of Pakistan due to its thriving textile industry. It plays a significant role in the country’s economy and is also known for its clock tower and historical markets.\",\n",
        "    metadata={\n",
        "        \"city\": \"Faisalabad\",\n",
        "        \"province\": \"Punjab\",\n",
        "        \"known_for\": \"Textile industry, Markets, Industrial growth\",\n",
        "        \"landmarks\": \"Clock Tower, Jinnah Garden\",\n",
        "        \"major_industries\": \"Textile, Manufacturing, Trade\",\n",
        "        \"population_estimate\": 3200000,\n",
        "        \"nickname\": \"Manchester of Pakistan\"\n",
        "    }\n",
        ")\n",
        "\n",
        "doc5 = Document(\n",
        "    page_content=\"Multan, known as the City of Saints, is one of the oldest cities in South Asia. It is famous for its Sufi shrines, mangoes, and pottery. The city carries immense historical and spiritual significance and has a growing trade and agricultural economy.\",\n",
        "    metadata={\n",
        "        \"city\": \"Multan\",\n",
        "        \"province\": \"Punjab\",\n",
        "        \"known_for\": \"Sufi shrines, Mangoes, Pottery\",\n",
        "        \"landmarks\": \"Shrine of Bahauddin Zakariya, Multan Fort\",\n",
        "        \"major_industries\": \"Agriculture, Handicrafts, Trade\",\n",
        "        \"population_estimate\": 1900000,\n",
        "        \"nickname\": \"City of Saints\"\n",
        "    }\n",
        ")\n",
        "\n",
        "doc6 = Document(\n",
        "    page_content=\"Sargodha is primarily known for its citrus orchards, especially kinnow. It serves as a key agricultural city in central Punjab and also houses an important Pakistan Air Force base. The city has a growing education sector as well.\",\n",
        "    metadata={\n",
        "        \"city\": \"Sargodha\",\n",
        "        \"province\": \"Punjab\",\n",
        "        \"known_for\": \"Citrus fruit, Agriculture, Airbase\",\n",
        "        \"landmarks\": \"PAF Base Sargodha, Company Bagh\",\n",
        "        \"major_industries\": \"Agriculture, Education, Defense\",\n",
        "        \"population_estimate\": 870000,\n",
        "        \"nickname\": \"City of Eagles\"\n",
        "    }\n",
        ")\n",
        "\n",
        "doc7 = Document(\n",
        "    page_content=\"Nawabshah is an agricultural city in Sindh, known for producing sugarcane, wheat, and bananas. It has warm weather and a growing infrastructure, including educational institutes and hospitals.\",\n",
        "    metadata={\n",
        "        \"city\": \"Nawabshah\",\n",
        "        \"province\": \"Sindh\",\n",
        "        \"known_for\": \"Agriculture, Warm weather, Bananas\",\n",
        "        \"landmarks\": \"Peoples Medical University, Quaid-e-Awam University\",\n",
        "        \"major_industries\": \"Agriculture, Education, Healthcare\",\n",
        "        \"population_estimate\": 280000,\n",
        "        \"nickname\": \"Banana City\"\n",
        "    }\n",
        ")\n",
        "\n",
        "doc8 = Document(\n",
        "    page_content=\"Gujranwala is an industrial powerhouse of Pakistan, especially in the production of ceramics, electrical appliances, and agricultural tools. The city is also known for its wrestlers and hearty Punjabi cuisine.\",\n",
        "    metadata={\n",
        "        \"city\": \"Gujranwala\",\n",
        "        \"province\": \"Punjab\",\n",
        "        \"known_for\": \"Industry, Wrestling, Punjabi food\",\n",
        "        \"landmarks\": \"Jinnah Stadium, Sheranwala Bagh\",\n",
        "        \"major_industries\": \"Manufacturing, Agriculture tools, Sports\",\n",
        "        \"population_estimate\": 2100000,\n",
        "        \"nickname\": \"City of Wrestlers\"\n",
        "    }\n",
        ")\n"
      ],
      "metadata": {
        "id": "gtKBmlZi-cUH"
      },
      "execution_count": 3,
      "outputs": []
    },
    {
      "cell_type": "code",
      "source": [
        "docs = [doc1, doc2, doc3, doc4, doc5, doc6, doc7, doc8]"
      ],
      "metadata": {
        "id": "s_jNwWm3_3oq"
      },
      "execution_count": 4,
      "outputs": []
    },
    {
      "cell_type": "code",
      "source": [
        "from google.colab import userdata\n",
        "api_key = userdata.get('GOOGLE_API_KEY')"
      ],
      "metadata": {
        "id": "5FKGNVdwB4j2"
      },
      "execution_count": 5,
      "outputs": []
    },
    {
      "cell_type": "code",
      "source": [
        "embeddings = GoogleGenerativeAIEmbeddings(\n",
        "    model=\"models/embedding-001\",\n",
        "    google_api_key=api_key\n",
        ")"
      ],
      "metadata": {
        "id": "R_hMPRdAAr3A"
      },
      "execution_count": 6,
      "outputs": []
    },
    {
      "cell_type": "code",
      "source": [
        "vectorstore = Chroma(\n",
        "    collection_name=\"cities\",\n",
        "    embedding_function=embeddings,\n",
        "    persist_directory=\"./chroma_db\"\n",
        ")"
      ],
      "metadata": {
        "id": "EVLUvB3yAD-X",
        "colab": {
          "base_uri": "https://localhost:8080/"
        },
        "outputId": "ba5fa4bb-8d37-42e7-df96-755ae328981d"
      },
      "execution_count": 7,
      "outputs": [
        {
          "output_type": "stream",
          "name": "stderr",
          "text": [
            "/tmp/ipython-input-7-185649515.py:1: LangChainDeprecationWarning: The class `Chroma` was deprecated in LangChain 0.2.9 and will be removed in 1.0. An updated version of the class exists in the :class:`~langchain-chroma package and should be used instead. To use it run `pip install -U :class:`~langchain-chroma` and import as `from :class:`~langchain_chroma import Chroma``.\n",
            "  vectorstore = Chroma(\n"
          ]
        }
      ]
    },
    {
      "cell_type": "code",
      "source": [
        "# add documents\n",
        "vectorstore.add_documents(docs)"
      ],
      "metadata": {
        "colab": {
          "base_uri": "https://localhost:8080/"
        },
        "id": "tpFbXOoUA0cm",
        "outputId": "ac5a87f8-bb63-4148-dfab-43046fee7e53"
      },
      "execution_count": 8,
      "outputs": [
        {
          "output_type": "execute_result",
          "data": {
            "text/plain": [
              "['03487e6e-3bae-4603-86d2-f0ffdb27cf11',\n",
              " 'beffaa77-0ef8-4c16-abf0-c04b9671ea84',\n",
              " 'ae9b1dd6-8927-482e-890c-5ccd3573041f',\n",
              " '0e3b72b4-0430-4e47-a9d6-cea82b7a2bea',\n",
              " '94da1dd1-7273-447e-971b-1dc0b81424e6',\n",
              " 'a7fbf782-69c6-4afd-920e-da1ee5845542',\n",
              " 'b72bb61d-29ba-48a7-8aef-48317da77f33',\n",
              " 'f6a699ac-63eb-4565-b697-2f8d3c164bf4']"
            ]
          },
          "metadata": {},
          "execution_count": 8
        }
      ]
    },
    {
      "cell_type": "code",
      "source": [
        "# view documents\n",
        "vectorstore.get(include=['embeddings', 'documents', 'metadatas'])"
      ],
      "metadata": {
        "id": "dNSR3hDJBRgS",
        "colab": {
          "base_uri": "https://localhost:8080/"
        },
        "outputId": "f5411bb9-11d4-4e11-b0b2-b14a49aeff34"
      },
      "execution_count": 9,
      "outputs": [
        {
          "output_type": "execute_result",
          "data": {
            "text/plain": [
              "{'ids': ['03487e6e-3bae-4603-86d2-f0ffdb27cf11',\n",
              "  'beffaa77-0ef8-4c16-abf0-c04b9671ea84',\n",
              "  'ae9b1dd6-8927-482e-890c-5ccd3573041f',\n",
              "  '0e3b72b4-0430-4e47-a9d6-cea82b7a2bea',\n",
              "  '94da1dd1-7273-447e-971b-1dc0b81424e6',\n",
              "  'a7fbf782-69c6-4afd-920e-da1ee5845542',\n",
              "  'b72bb61d-29ba-48a7-8aef-48317da77f33',\n",
              "  'f6a699ac-63eb-4565-b697-2f8d3c164bf4'],\n",
              " 'embeddings': array([[ 6.49329349e-02, -2.58703567e-02, -1.84473991e-02, ...,\n",
              "         -1.92072242e-02, -9.87045746e-03, -1.68562066e-02],\n",
              "        [ 6.43695816e-02, -1.84956770e-02, -4.57060523e-02, ...,\n",
              "          3.70914768e-03, -3.63523774e-02, -1.10762995e-02],\n",
              "        [ 6.29224181e-02, -2.76765451e-02, -5.33727966e-02, ...,\n",
              "          4.83389059e-03, -3.49496561e-03, -2.58659944e-02],\n",
              "        ...,\n",
              "        [ 3.80976461e-02, -2.62660328e-02, -5.09040393e-02, ...,\n",
              "         -5.55939833e-03, -3.85419130e-02, -2.29065996e-02],\n",
              "        [ 4.28045504e-02, -3.69757265e-02, -5.57769015e-02, ...,\n",
              "          2.68180408e-02, -3.04440837e-02, -2.16263812e-02],\n",
              "        [ 6.44716620e-02, -2.61759702e-02, -5.09191081e-02, ...,\n",
              "          8.72752498e-05,  8.91471561e-03, -4.64977045e-03]]),\n",
              " 'documents': ['Lahore is the cultural capital of Pakistan, known for its rich history, vibrant arts, and historical architecture. Home to landmarks like the Badshahi Mosque, Lahore Fort, and Shalimar Gardens, the city reflects the grandeur of the Mughal era. It’s also famous for its food streets, educational institutions like LUMS and Punjab University, and lively festivals that attract people from all over the country.',\n",
              "  \"Karachi, the largest city of Pakistan, is the country's economic engine and main seaport. It’s a melting pot of cultures, home to a vibrant business environment, beautiful beaches like Clifton and Hawksbay, and key institutions like the Karachi Stock Exchange and major media houses.\",\n",
              "  'Islamabad, the capital city of Pakistan, is known for its modern architecture, organized layout, and lush greenery. It houses key government buildings, the iconic Faisal Mosque, and several parks and museums. It offers a peaceful contrast to the hustle of other big cities.',\n",
              "  'Faisalabad is a major industrial center of Pakistan, often referred to as the Manchester of Pakistan due to its thriving textile industry. It plays a significant role in the country’s economy and is also known for its clock tower and historical markets.',\n",
              "  'Multan, known as the City of Saints, is one of the oldest cities in South Asia. It is famous for its Sufi shrines, mangoes, and pottery. The city carries immense historical and spiritual significance and has a growing trade and agricultural economy.',\n",
              "  'Sargodha is primarily known for its citrus orchards, especially kinnow. It serves as a key agricultural city in central Punjab and also houses an important Pakistan Air Force base. The city has a growing education sector as well.',\n",
              "  'Nawabshah is an agricultural city in Sindh, known for producing sugarcane, wheat, and bananas. It has warm weather and a growing infrastructure, including educational institutes and hospitals.',\n",
              "  'Gujranwala is an industrial powerhouse of Pakistan, especially in the production of ceramics, electrical appliances, and agricultural tools. The city is also known for its wrestlers and hearty Punjabi cuisine.'],\n",
              " 'uris': None,\n",
              " 'included': ['embeddings', 'documents', 'metadatas'],\n",
              " 'data': None,\n",
              " 'metadatas': [{'population_estimate': 11000000,\n",
              "   'province': 'Punjab',\n",
              "   'major_industries': 'Education, Tourism, Food, Media',\n",
              "   'known_for': 'Cultural heritage, Mughal architecture, Food streets',\n",
              "   'city': 'Lahore',\n",
              "   'landmarks': 'Badshahi Mosque, Lahore Fort, Shalimar Gardens',\n",
              "   'nickname': 'Heart of Pakistan'},\n",
              "  {'province': 'Sindh',\n",
              "   'landmarks': 'Clifton Beach, Hawksbay, Mazar-e-Quaid',\n",
              "   'city': 'Karachi',\n",
              "   'population_estimate': 15000000,\n",
              "   'nickname': 'City of Lights',\n",
              "   'major_industries': 'Finance, Shipping, Media, Manufacturing',\n",
              "   'known_for': 'Economic hub, Seaport, Beaches'},\n",
              "  {'major_industries': 'Government, Services, Tourism',\n",
              "   'population_estimate': 1300000,\n",
              "   'province': 'Islamabad Capital Territory',\n",
              "   'known_for': 'Government, Cleanliness, Modern architecture',\n",
              "   'city': 'Islamabad',\n",
              "   'landmarks': 'Faisal Mosque, Daman-e-Koh, Pakistan Monument',\n",
              "   'nickname': 'Green City'},\n",
              "  {'population_estimate': 3200000,\n",
              "   'city': 'Faisalabad',\n",
              "   'landmarks': 'Clock Tower, Jinnah Garden',\n",
              "   'province': 'Punjab',\n",
              "   'major_industries': 'Textile, Manufacturing, Trade',\n",
              "   'nickname': 'Manchester of Pakistan',\n",
              "   'known_for': 'Textile industry, Markets, Industrial growth'},\n",
              "  {'landmarks': 'Shrine of Bahauddin Zakariya, Multan Fort',\n",
              "   'province': 'Punjab',\n",
              "   'population_estimate': 1900000,\n",
              "   'city': 'Multan',\n",
              "   'known_for': 'Sufi shrines, Mangoes, Pottery',\n",
              "   'major_industries': 'Agriculture, Handicrafts, Trade',\n",
              "   'nickname': 'City of Saints'},\n",
              "  {'city': 'Sargodha',\n",
              "   'landmarks': 'PAF Base Sargodha, Company Bagh',\n",
              "   'population_estimate': 870000,\n",
              "   'nickname': 'City of Eagles',\n",
              "   'major_industries': 'Agriculture, Education, Defense',\n",
              "   'known_for': 'Citrus fruit, Agriculture, Airbase',\n",
              "   'province': 'Punjab'},\n",
              "  {'province': 'Sindh',\n",
              "   'landmarks': 'Peoples Medical University, Quaid-e-Awam University',\n",
              "   'nickname': 'Banana City',\n",
              "   'city': 'Nawabshah',\n",
              "   'major_industries': 'Agriculture, Education, Healthcare',\n",
              "   'known_for': 'Agriculture, Warm weather, Bananas',\n",
              "   'population_estimate': 280000},\n",
              "  {'population_estimate': 2100000,\n",
              "   'known_for': 'Industry, Wrestling, Punjabi food',\n",
              "   'landmarks': 'Jinnah Stadium, Sheranwala Bagh',\n",
              "   'major_industries': 'Manufacturing, Agriculture tools, Sports',\n",
              "   'nickname': 'City of Wrestlers',\n",
              "   'city': 'Gujranwala',\n",
              "   'province': 'Punjab'}]}"
            ]
          },
          "metadata": {},
          "execution_count": 9
        }
      ]
    },
    {
      "cell_type": "code",
      "source": [
        "# search document\n",
        "vectorstore.similarity_search(\n",
        "    query=\"Largest city of Pakistan?\",\n",
        "    k=1                                         # k is the number of results\n",
        ")"
      ],
      "metadata": {
        "colab": {
          "base_uri": "https://localhost:8080/"
        },
        "id": "ydguInkqm7_o",
        "outputId": "cfdf0741-7d25-4dd0-8aae-4325417c2332"
      },
      "execution_count": 10,
      "outputs": [
        {
          "output_type": "execute_result",
          "data": {
            "text/plain": [
              "[Document(metadata={'known_for': 'Economic hub, Seaport, Beaches', 'major_industries': 'Finance, Shipping, Media, Manufacturing', 'city': 'Karachi', 'population_estimate': 15000000, 'nickname': 'City of Lights', 'province': 'Sindh', 'landmarks': 'Clifton Beach, Hawksbay, Mazar-e-Quaid'}, page_content=\"Karachi, the largest city of Pakistan, is the country's economic engine and main seaport. It’s a melting pot of cultures, home to a vibrant business environment, beautiful beaches like Clifton and Hawksbay, and key institutions like the Karachi Stock Exchange and major media houses.\")]"
            ]
          },
          "metadata": {},
          "execution_count": 10
        }
      ]
    },
    {
      "cell_type": "code",
      "source": [
        "# search with similarity score\n",
        "vectorstore.similarity_search_with_score(\n",
        "    query=\"capital of Pakistan?\",\n",
        "    k=2\n",
        ")\n",
        "\n",
        "# lower the result better the results\n",
        "# score represents the distance (between vectors)"
      ],
      "metadata": {
        "colab": {
          "base_uri": "https://localhost:8080/"
        },
        "id": "6UOeq23LnVl0",
        "outputId": "899aecb1-53f5-4dcd-9b5d-9112b2397a2b"
      },
      "execution_count": 11,
      "outputs": [
        {
          "output_type": "execute_result",
          "data": {
            "text/plain": [
              "[(Document(metadata={'population_estimate': 1300000, 'major_industries': 'Government, Services, Tourism', 'known_for': 'Government, Cleanliness, Modern architecture', 'nickname': 'Green City', 'city': 'Islamabad', 'landmarks': 'Faisal Mosque, Daman-e-Koh, Pakistan Monument', 'province': 'Islamabad Capital Territory'}, page_content='Islamabad, the capital city of Pakistan, is known for its modern architecture, organized layout, and lush greenery. It houses key government buildings, the iconic Faisal Mosque, and several parks and museums. It offers a peaceful contrast to the hustle of other big cities.'),\n",
              "  0.4054342806339264),\n",
              " (Document(metadata={'population_estimate': 15000000, 'known_for': 'Economic hub, Seaport, Beaches', 'nickname': 'City of Lights', 'landmarks': 'Clifton Beach, Hawksbay, Mazar-e-Quaid', 'province': 'Sindh', 'major_industries': 'Finance, Shipping, Media, Manufacturing', 'city': 'Karachi'}, page_content=\"Karachi, the largest city of Pakistan, is the country's economic engine and main seaport. It’s a melting pot of cultures, home to a vibrant business environment, beautiful beaches like Clifton and Hawksbay, and key institutions like the Karachi Stock Exchange and major media houses.\"),\n",
              "  0.5031387805938721)]"
            ]
          },
          "metadata": {},
          "execution_count": 11
        }
      ]
    },
    {
      "cell_type": "code",
      "source": [
        "# meta data filtering\n",
        "vectorstore.similarity_search_with_score(\n",
        "    query=\"\",\n",
        "    # k=2,\n",
        "    filter={\"city\": \"Islamabad\"}\n",
        ")"
      ],
      "metadata": {
        "colab": {
          "base_uri": "https://localhost:8080/"
        },
        "id": "VSQ71metn3aV",
        "outputId": "df9072be-93e6-4536-fc35-89082081469d"
      },
      "execution_count": 12,
      "outputs": [
        {
          "output_type": "execute_result",
          "data": {
            "text/plain": [
              "[(Document(metadata={'city': 'Islamabad', 'province': 'Islamabad Capital Territory', 'known_for': 'Government, Cleanliness, Modern architecture', 'major_industries': 'Government, Services, Tourism', 'population_estimate': 1300000, 'nickname': 'Green City', 'landmarks': 'Faisal Mosque, Daman-e-Koh, Pakistan Monument'}, page_content='Islamabad, the capital city of Pakistan, is known for its modern architecture, organized layout, and lush greenery. It houses key government buildings, the iconic Faisal Mosque, and several parks and museums. It offers a peaceful contrast to the hustle of other big cities.'),\n",
              "  0.5072088837623596)]"
            ]
          },
          "metadata": {},
          "execution_count": 12
        }
      ]
    },
    {
      "cell_type": "code",
      "source": [
        "# update document\n",
        "updated_doc1 = Document(\n",
        "    page_content=\"Lahore is the capital and largest city of the Pakistani province of Punjab. It is the second-largest city in Pakistan, after Karachi, and 27th largest in the world, with a population of over 14 million. Lahore is one of Pakistan's major industrial, educational and economic hubs. It has been the historic capital and cultural center of the wider Punjab region, and is one of Pakistan's most socially liberal, progressive, and cosmopolitan cities. \",\n",
        "    metadata={\n",
        "        \"city\": \"Lahore\",\n",
        "        \"province\": \"Punjab\",\n",
        "        \"known_for\": \"Cultural heritage, Mughal architecture, Food streets\",\n",
        "        \"landmarks\": \"Badshahi Mosque, Lahore Fort, Shalimar Gardens\",\n",
        "        \"major_industries\": \"Education, Tourism, Food, Media\",\n",
        "        \"population_estimate\": 11000000,\n",
        "        \"nickname\": \"Heart of Pakistan\"\n",
        "    }\n",
        ")\n",
        "\n",
        "vectorstore.update_document(\n",
        "    document_id=\"03487e6e-3bae-4603-86d2-f0ffdb27cf11\",\n",
        "    document=updated_doc1\n",
        ")"
      ],
      "metadata": {
        "id": "_qpls3_dopqO"
      },
      "execution_count": 15,
      "outputs": []
    },
    {
      "cell_type": "code",
      "source": [
        "# view documents\n",
        "vectorstore.get(include=['embeddings', 'documents', 'metadatas'])"
      ],
      "metadata": {
        "colab": {
          "base_uri": "https://localhost:8080/"
        },
        "id": "Zh-z0Flzpmtc",
        "outputId": "332f506f-6d9f-438d-e2a5-28b596b7d86f"
      },
      "execution_count": 16,
      "outputs": [
        {
          "output_type": "execute_result",
          "data": {
            "text/plain": [
              "{'ids': ['03487e6e-3bae-4603-86d2-f0ffdb27cf11',\n",
              "  'beffaa77-0ef8-4c16-abf0-c04b9671ea84',\n",
              "  'ae9b1dd6-8927-482e-890c-5ccd3573041f',\n",
              "  '0e3b72b4-0430-4e47-a9d6-cea82b7a2bea',\n",
              "  '94da1dd1-7273-447e-971b-1dc0b81424e6',\n",
              "  'a7fbf782-69c6-4afd-920e-da1ee5845542',\n",
              "  'b72bb61d-29ba-48a7-8aef-48317da77f33',\n",
              "  'f6a699ac-63eb-4565-b697-2f8d3c164bf4'],\n",
              " 'embeddings': array([[ 5.78516871e-02, -3.39379646e-02, -3.85108255e-02, ...,\n",
              "          8.12286697e-03,  1.19663251e-03, -1.17022283e-02],\n",
              "        [ 6.43695816e-02, -1.84956770e-02, -4.57060523e-02, ...,\n",
              "          3.70914768e-03, -3.63523774e-02, -1.10762995e-02],\n",
              "        [ 6.29224181e-02, -2.76765451e-02, -5.33727966e-02, ...,\n",
              "          4.83389059e-03, -3.49496561e-03, -2.58659944e-02],\n",
              "        ...,\n",
              "        [ 3.80976461e-02, -2.62660328e-02, -5.09040393e-02, ...,\n",
              "         -5.55939833e-03, -3.85419130e-02, -2.29065996e-02],\n",
              "        [ 4.28045504e-02, -3.69757265e-02, -5.57769015e-02, ...,\n",
              "          2.68180408e-02, -3.04440837e-02, -2.16263812e-02],\n",
              "        [ 6.44716620e-02, -2.61759702e-02, -5.09191081e-02, ...,\n",
              "          8.72752498e-05,  8.91471561e-03, -4.64977045e-03]]),\n",
              " 'documents': [\"Lahore is the capital and largest city of the Pakistani province of Punjab. It is the second-largest city in Pakistan, after Karachi, and 27th largest in the world, with a population of over 14 million. Lahore is one of Pakistan's major industrial, educational and economic hubs. It has been the historic capital and cultural center of the wider Punjab region, and is one of Pakistan's most socially liberal, progressive, and cosmopolitan cities. \",\n",
              "  \"Karachi, the largest city of Pakistan, is the country's economic engine and main seaport. It’s a melting pot of cultures, home to a vibrant business environment, beautiful beaches like Clifton and Hawksbay, and key institutions like the Karachi Stock Exchange and major media houses.\",\n",
              "  'Islamabad, the capital city of Pakistan, is known for its modern architecture, organized layout, and lush greenery. It houses key government buildings, the iconic Faisal Mosque, and several parks and museums. It offers a peaceful contrast to the hustle of other big cities.',\n",
              "  'Faisalabad is a major industrial center of Pakistan, often referred to as the Manchester of Pakistan due to its thriving textile industry. It plays a significant role in the country’s economy and is also known for its clock tower and historical markets.',\n",
              "  'Multan, known as the City of Saints, is one of the oldest cities in South Asia. It is famous for its Sufi shrines, mangoes, and pottery. The city carries immense historical and spiritual significance and has a growing trade and agricultural economy.',\n",
              "  'Sargodha is primarily known for its citrus orchards, especially kinnow. It serves as a key agricultural city in central Punjab and also houses an important Pakistan Air Force base. The city has a growing education sector as well.',\n",
              "  'Nawabshah is an agricultural city in Sindh, known for producing sugarcane, wheat, and bananas. It has warm weather and a growing infrastructure, including educational institutes and hospitals.',\n",
              "  'Gujranwala is an industrial powerhouse of Pakistan, especially in the production of ceramics, electrical appliances, and agricultural tools. The city is also known for its wrestlers and hearty Punjabi cuisine.'],\n",
              " 'uris': None,\n",
              " 'included': ['embeddings', 'documents', 'metadatas'],\n",
              " 'data': None,\n",
              " 'metadatas': [{'major_industries': 'Education, Tourism, Food, Media',\n",
              "   'nickname': 'Heart of Pakistan',\n",
              "   'landmarks': 'Badshahi Mosque, Lahore Fort, Shalimar Gardens',\n",
              "   'known_for': 'Cultural heritage, Mughal architecture, Food streets',\n",
              "   'province': 'Punjab',\n",
              "   'city': 'Lahore',\n",
              "   'population_estimate': 11000000},\n",
              "  {'province': 'Sindh',\n",
              "   'landmarks': 'Clifton Beach, Hawksbay, Mazar-e-Quaid',\n",
              "   'nickname': 'City of Lights',\n",
              "   'known_for': 'Economic hub, Seaport, Beaches',\n",
              "   'major_industries': 'Finance, Shipping, Media, Manufacturing',\n",
              "   'city': 'Karachi',\n",
              "   'population_estimate': 15000000},\n",
              "  {'population_estimate': 1300000,\n",
              "   'known_for': 'Government, Cleanliness, Modern architecture',\n",
              "   'major_industries': 'Government, Services, Tourism',\n",
              "   'landmarks': 'Faisal Mosque, Daman-e-Koh, Pakistan Monument',\n",
              "   'province': 'Islamabad Capital Territory',\n",
              "   'nickname': 'Green City',\n",
              "   'city': 'Islamabad'},\n",
              "  {'province': 'Punjab',\n",
              "   'landmarks': 'Clock Tower, Jinnah Garden',\n",
              "   'city': 'Faisalabad',\n",
              "   'major_industries': 'Textile, Manufacturing, Trade',\n",
              "   'population_estimate': 3200000,\n",
              "   'nickname': 'Manchester of Pakistan',\n",
              "   'known_for': 'Textile industry, Markets, Industrial growth'},\n",
              "  {'city': 'Multan',\n",
              "   'known_for': 'Sufi shrines, Mangoes, Pottery',\n",
              "   'nickname': 'City of Saints',\n",
              "   'province': 'Punjab',\n",
              "   'landmarks': 'Shrine of Bahauddin Zakariya, Multan Fort',\n",
              "   'major_industries': 'Agriculture, Handicrafts, Trade',\n",
              "   'population_estimate': 1900000},\n",
              "  {'nickname': 'City of Eagles',\n",
              "   'province': 'Punjab',\n",
              "   'known_for': 'Citrus fruit, Agriculture, Airbase',\n",
              "   'major_industries': 'Agriculture, Education, Defense',\n",
              "   'city': 'Sargodha',\n",
              "   'landmarks': 'PAF Base Sargodha, Company Bagh',\n",
              "   'population_estimate': 870000},\n",
              "  {'known_for': 'Agriculture, Warm weather, Bananas',\n",
              "   'landmarks': 'Peoples Medical University, Quaid-e-Awam University',\n",
              "   'nickname': 'Banana City',\n",
              "   'city': 'Nawabshah',\n",
              "   'major_industries': 'Agriculture, Education, Healthcare',\n",
              "   'population_estimate': 280000,\n",
              "   'province': 'Sindh'},\n",
              "  {'landmarks': 'Jinnah Stadium, Sheranwala Bagh',\n",
              "   'province': 'Punjab',\n",
              "   'city': 'Gujranwala',\n",
              "   'known_for': 'Industry, Wrestling, Punjabi food',\n",
              "   'nickname': 'City of Wrestlers',\n",
              "   'major_industries': 'Manufacturing, Agriculture tools, Sports',\n",
              "   'population_estimate': 2100000}]}"
            ]
          },
          "metadata": {},
          "execution_count": 16
        }
      ]
    },
    {
      "cell_type": "code",
      "source": [
        "# delete document\n",
        "vectorstore.delete(ids=[\"03487e6e-3bae-4603-86d2-f0ffdb27cf11\"])"
      ],
      "metadata": {
        "id": "QGU0QNCVptTl"
      },
      "execution_count": 18,
      "outputs": []
    },
    {
      "cell_type": "code",
      "source": [
        "# view documents\n",
        "vectorstore.get(include=['embeddings', 'documents', 'metadatas'])"
      ],
      "metadata": {
        "colab": {
          "base_uri": "https://localhost:8080/"
        },
        "id": "7KRgWinhr7RA",
        "outputId": "b5d2e0c0-1989-43cc-e0f2-e76fa629f0e9"
      },
      "execution_count": 19,
      "outputs": [
        {
          "output_type": "execute_result",
          "data": {
            "text/plain": [
              "{'ids': ['beffaa77-0ef8-4c16-abf0-c04b9671ea84',\n",
              "  'ae9b1dd6-8927-482e-890c-5ccd3573041f',\n",
              "  '0e3b72b4-0430-4e47-a9d6-cea82b7a2bea',\n",
              "  '94da1dd1-7273-447e-971b-1dc0b81424e6',\n",
              "  'a7fbf782-69c6-4afd-920e-da1ee5845542',\n",
              "  'b72bb61d-29ba-48a7-8aef-48317da77f33',\n",
              "  'f6a699ac-63eb-4565-b697-2f8d3c164bf4'],\n",
              " 'embeddings': array([[ 6.43695816e-02, -1.84956770e-02, -4.57060523e-02, ...,\n",
              "          3.70914768e-03, -3.63523774e-02, -1.10762995e-02],\n",
              "        [ 6.29224181e-02, -2.76765451e-02, -5.33727966e-02, ...,\n",
              "          4.83389059e-03, -3.49496561e-03, -2.58659944e-02],\n",
              "        [ 8.62626433e-02, -6.06560111e-02, -1.79803260e-02, ...,\n",
              "          7.29880901e-03, -8.49386305e-03, -4.56011295e-02],\n",
              "        ...,\n",
              "        [ 3.80976461e-02, -2.62660328e-02, -5.09040393e-02, ...,\n",
              "         -5.55939833e-03, -3.85419130e-02, -2.29065996e-02],\n",
              "        [ 4.28045504e-02, -3.69757265e-02, -5.57769015e-02, ...,\n",
              "          2.68180408e-02, -3.04440837e-02, -2.16263812e-02],\n",
              "        [ 6.44716620e-02, -2.61759702e-02, -5.09191081e-02, ...,\n",
              "          8.72752498e-05,  8.91471561e-03, -4.64977045e-03]]),\n",
              " 'documents': [\"Karachi, the largest city of Pakistan, is the country's economic engine and main seaport. It’s a melting pot of cultures, home to a vibrant business environment, beautiful beaches like Clifton and Hawksbay, and key institutions like the Karachi Stock Exchange and major media houses.\",\n",
              "  'Islamabad, the capital city of Pakistan, is known for its modern architecture, organized layout, and lush greenery. It houses key government buildings, the iconic Faisal Mosque, and several parks and museums. It offers a peaceful contrast to the hustle of other big cities.',\n",
              "  'Faisalabad is a major industrial center of Pakistan, often referred to as the Manchester of Pakistan due to its thriving textile industry. It plays a significant role in the country’s economy and is also known for its clock tower and historical markets.',\n",
              "  'Multan, known as the City of Saints, is one of the oldest cities in South Asia. It is famous for its Sufi shrines, mangoes, and pottery. The city carries immense historical and spiritual significance and has a growing trade and agricultural economy.',\n",
              "  'Sargodha is primarily known for its citrus orchards, especially kinnow. It serves as a key agricultural city in central Punjab and also houses an important Pakistan Air Force base. The city has a growing education sector as well.',\n",
              "  'Nawabshah is an agricultural city in Sindh, known for producing sugarcane, wheat, and bananas. It has warm weather and a growing infrastructure, including educational institutes and hospitals.',\n",
              "  'Gujranwala is an industrial powerhouse of Pakistan, especially in the production of ceramics, electrical appliances, and agricultural tools. The city is also known for its wrestlers and hearty Punjabi cuisine.'],\n",
              " 'uris': None,\n",
              " 'included': ['embeddings', 'documents', 'metadatas'],\n",
              " 'data': None,\n",
              " 'metadatas': [{'major_industries': 'Finance, Shipping, Media, Manufacturing',\n",
              "   'landmarks': 'Clifton Beach, Hawksbay, Mazar-e-Quaid',\n",
              "   'nickname': 'City of Lights',\n",
              "   'known_for': 'Economic hub, Seaport, Beaches',\n",
              "   'province': 'Sindh',\n",
              "   'city': 'Karachi',\n",
              "   'population_estimate': 15000000},\n",
              "  {'city': 'Islamabad',\n",
              "   'population_estimate': 1300000,\n",
              "   'province': 'Islamabad Capital Territory',\n",
              "   'landmarks': 'Faisal Mosque, Daman-e-Koh, Pakistan Monument',\n",
              "   'known_for': 'Government, Cleanliness, Modern architecture',\n",
              "   'nickname': 'Green City',\n",
              "   'major_industries': 'Government, Services, Tourism'},\n",
              "  {'nickname': 'Manchester of Pakistan',\n",
              "   'major_industries': 'Textile, Manufacturing, Trade',\n",
              "   'landmarks': 'Clock Tower, Jinnah Garden',\n",
              "   'city': 'Faisalabad',\n",
              "   'population_estimate': 3200000,\n",
              "   'known_for': 'Textile industry, Markets, Industrial growth',\n",
              "   'province': 'Punjab'},\n",
              "  {'landmarks': 'Shrine of Bahauddin Zakariya, Multan Fort',\n",
              "   'nickname': 'City of Saints',\n",
              "   'major_industries': 'Agriculture, Handicrafts, Trade',\n",
              "   'city': 'Multan',\n",
              "   'known_for': 'Sufi shrines, Mangoes, Pottery',\n",
              "   'population_estimate': 1900000,\n",
              "   'province': 'Punjab'},\n",
              "  {'landmarks': 'PAF Base Sargodha, Company Bagh',\n",
              "   'major_industries': 'Agriculture, Education, Defense',\n",
              "   'province': 'Punjab',\n",
              "   'known_for': 'Citrus fruit, Agriculture, Airbase',\n",
              "   'city': 'Sargodha',\n",
              "   'population_estimate': 870000,\n",
              "   'nickname': 'City of Eagles'},\n",
              "  {'population_estimate': 280000,\n",
              "   'known_for': 'Agriculture, Warm weather, Bananas',\n",
              "   'city': 'Nawabshah',\n",
              "   'nickname': 'Banana City',\n",
              "   'province': 'Sindh',\n",
              "   'major_industries': 'Agriculture, Education, Healthcare',\n",
              "   'landmarks': 'Peoples Medical University, Quaid-e-Awam University'},\n",
              "  {'province': 'Punjab',\n",
              "   'major_industries': 'Manufacturing, Agriculture tools, Sports',\n",
              "   'nickname': 'City of Wrestlers',\n",
              "   'population_estimate': 2100000,\n",
              "   'city': 'Gujranwala',\n",
              "   'landmarks': 'Jinnah Stadium, Sheranwala Bagh',\n",
              "   'known_for': 'Industry, Wrestling, Punjabi food'}]}"
            ]
          },
          "metadata": {},
          "execution_count": 19
        }
      ]
    },
    {
      "cell_type": "code",
      "source": [],
      "metadata": {
        "id": "AZmKxbtWsBmR"
      },
      "execution_count": null,
      "outputs": []
    }
  ]
}