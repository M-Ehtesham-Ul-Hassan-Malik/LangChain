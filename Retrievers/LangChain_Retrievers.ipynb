{
  "nbformat": 4,
  "nbformat_minor": 0,
  "metadata": {
    "colab": {
      "provenance": [],
      "gpuType": "T4"
    },
    "kernelspec": {
      "name": "python3",
      "display_name": "Python 3"
    },
    "language_info": {
      "name": "python"
    },
    "accelerator": "GPU"
  },
  "cells": [
    {
      "cell_type": "code",
      "execution_count": 3,
      "metadata": {
        "colab": {
          "base_uri": "https://localhost:8080/",
          "height": 1000
        },
        "id": "dVuV6dKG9KZa",
        "outputId": "8f67645d-7816-4c77-e548-9f1be8b387f3"
      },
      "outputs": [
        {
          "output_type": "stream",
          "name": "stdout",
          "text": [
            "Requirement already satisfied: langchain in /usr/local/lib/python3.11/dist-packages (0.3.26)\n",
            "Collecting chromadb\n",
            "  Using cached chromadb-1.0.15-cp39-abi3-manylinux_2_17_x86_64.manylinux2014_x86_64.whl.metadata (7.0 kB)\n",
            "Collecting faiss-cpu\n",
            "  Downloading faiss_cpu-1.11.0.post1-cp311-cp311-manylinux_2_27_x86_64.manylinux_2_28_x86_64.whl.metadata (5.0 kB)\n",
            "Collecting langchain_google_genai\n",
            "  Downloading langchain_google_genai-2.1.8-py3-none-any.whl.metadata (7.0 kB)\n",
            "Collecting langchain_community\n",
            "  Downloading langchain_community-0.3.27-py3-none-any.whl.metadata (2.9 kB)\n",
            "Requirement already satisfied: tiktoken in /usr/local/lib/python3.11/dist-packages (0.9.0)\n",
            "Collecting wikipedia\n",
            "  Downloading wikipedia-1.4.0.tar.gz (27 kB)\n",
            "  Preparing metadata (setup.py) ... \u001b[?25l\u001b[?25hdone\n",
            "Requirement already satisfied: langchain-core<1.0.0,>=0.3.66 in /usr/local/lib/python3.11/dist-packages (from langchain) (0.3.69)\n",
            "Requirement already satisfied: langchain-text-splitters<1.0.0,>=0.3.8 in /usr/local/lib/python3.11/dist-packages (from langchain) (0.3.8)\n",
            "Requirement already satisfied: langsmith>=0.1.17 in /usr/local/lib/python3.11/dist-packages (from langchain) (0.4.7)\n",
            "Requirement already satisfied: pydantic<3.0.0,>=2.7.4 in /usr/local/lib/python3.11/dist-packages (from langchain) (2.11.7)\n",
            "Requirement already satisfied: SQLAlchemy<3,>=1.4 in /usr/local/lib/python3.11/dist-packages (from langchain) (2.0.41)\n",
            "Requirement already satisfied: requests<3,>=2 in /usr/local/lib/python3.11/dist-packages (from langchain) (2.32.3)\n",
            "Requirement already satisfied: PyYAML>=5.3 in /usr/local/lib/python3.11/dist-packages (from langchain) (6.0.2)\n",
            "Requirement already satisfied: build>=1.0.3 in /usr/local/lib/python3.11/dist-packages (from chromadb) (1.2.2.post1)\n",
            "Collecting pybase64>=1.4.1 (from chromadb)\n",
            "  Downloading pybase64-1.4.1-cp311-cp311-manylinux_2_5_x86_64.manylinux1_x86_64.manylinux_2_17_x86_64.manylinux2014_x86_64.whl.metadata (8.4 kB)\n",
            "Requirement already satisfied: uvicorn>=0.18.3 in /usr/local/lib/python3.11/dist-packages (from uvicorn[standard]>=0.18.3->chromadb) (0.35.0)\n",
            "Requirement already satisfied: numpy>=1.22.5 in /usr/local/lib/python3.11/dist-packages (from chromadb) (2.0.2)\n",
            "Collecting posthog<6.0.0,>=2.4.0 (from chromadb)\n",
            "  Downloading posthog-5.4.0-py3-none-any.whl.metadata (5.7 kB)\n",
            "Requirement already satisfied: typing-extensions>=4.5.0 in /usr/local/lib/python3.11/dist-packages (from chromadb) (4.14.1)\n",
            "Collecting onnxruntime>=1.14.1 (from chromadb)\n",
            "  Downloading onnxruntime-1.22.1-cp311-cp311-manylinux_2_27_x86_64.manylinux_2_28_x86_64.whl.metadata (4.6 kB)\n",
            "Collecting opentelemetry-api>=1.2.0 (from chromadb)\n",
            "  Downloading opentelemetry_api-1.35.0-py3-none-any.whl.metadata (1.5 kB)\n",
            "Collecting opentelemetry-exporter-otlp-proto-grpc>=1.2.0 (from chromadb)\n",
            "  Downloading opentelemetry_exporter_otlp_proto_grpc-1.35.0-py3-none-any.whl.metadata (2.4 kB)\n",
            "Collecting opentelemetry-sdk>=1.2.0 (from chromadb)\n",
            "  Downloading opentelemetry_sdk-1.35.0-py3-none-any.whl.metadata (1.5 kB)\n",
            "Requirement already satisfied: tokenizers>=0.13.2 in /usr/local/lib/python3.11/dist-packages (from chromadb) (0.21.2)\n",
            "Collecting pypika>=0.48.9 (from chromadb)\n",
            "  Downloading PyPika-0.48.9.tar.gz (67 kB)\n",
            "\u001b[2K     \u001b[90m━━━━━━━━━━━━━━━━━━━━━━━━━━━━━━━━━━━━━━━━\u001b[0m \u001b[32m67.3/67.3 kB\u001b[0m \u001b[31m7.0 MB/s\u001b[0m eta \u001b[36m0:00:00\u001b[0m\n",
            "\u001b[?25h  Installing build dependencies ... \u001b[?25l\u001b[?25hdone\n",
            "  Getting requirements to build wheel ... \u001b[?25l\u001b[?25hdone\n",
            "  Preparing metadata (pyproject.toml) ... \u001b[?25l\u001b[?25hdone\n",
            "Requirement already satisfied: tqdm>=4.65.0 in /usr/local/lib/python3.11/dist-packages (from chromadb) (4.67.1)\n",
            "Collecting overrides>=7.3.1 (from chromadb)\n",
            "  Downloading overrides-7.7.0-py3-none-any.whl.metadata (5.8 kB)\n",
            "Requirement already satisfied: importlib-resources in /usr/local/lib/python3.11/dist-packages (from chromadb) (6.5.2)\n",
            "Requirement already satisfied: grpcio>=1.58.0 in /usr/local/lib/python3.11/dist-packages (from chromadb) (1.73.1)\n",
            "Collecting bcrypt>=4.0.1 (from chromadb)\n",
            "  Downloading bcrypt-4.3.0-cp39-abi3-manylinux_2_34_x86_64.whl.metadata (10 kB)\n",
            "Requirement already satisfied: typer>=0.9.0 in /usr/local/lib/python3.11/dist-packages (from chromadb) (0.16.0)\n",
            "Collecting kubernetes>=28.1.0 (from chromadb)\n",
            "  Downloading kubernetes-33.1.0-py2.py3-none-any.whl.metadata (1.7 kB)\n",
            "Requirement already satisfied: tenacity>=8.2.3 in /usr/local/lib/python3.11/dist-packages (from chromadb) (8.5.0)\n",
            "Collecting mmh3>=4.0.1 (from chromadb)\n",
            "  Downloading mmh3-5.1.0-cp311-cp311-manylinux_2_5_x86_64.manylinux1_x86_64.manylinux_2_17_x86_64.manylinux2014_x86_64.whl.metadata (16 kB)\n",
            "Requirement already satisfied: orjson>=3.9.12 in /usr/local/lib/python3.11/dist-packages (from chromadb) (3.11.0)\n",
            "Requirement already satisfied: httpx>=0.27.0 in /usr/local/lib/python3.11/dist-packages (from chromadb) (0.28.1)\n",
            "Requirement already satisfied: rich>=10.11.0 in /usr/local/lib/python3.11/dist-packages (from chromadb) (13.9.4)\n",
            "Requirement already satisfied: jsonschema>=4.19.0 in /usr/local/lib/python3.11/dist-packages (from chromadb) (4.25.0)\n",
            "Requirement already satisfied: packaging in /usr/local/lib/python3.11/dist-packages (from faiss-cpu) (25.0)\n",
            "Collecting filetype<2.0.0,>=1.2.0 (from langchain_google_genai)\n",
            "  Downloading filetype-1.2.0-py2.py3-none-any.whl.metadata (6.5 kB)\n",
            "Collecting google-ai-generativelanguage<0.7.0,>=0.6.18 (from langchain_google_genai)\n",
            "  Downloading google_ai_generativelanguage-0.6.18-py3-none-any.whl.metadata (9.8 kB)\n",
            "Requirement already satisfied: aiohttp<4.0.0,>=3.8.3 in /usr/local/lib/python3.11/dist-packages (from langchain_community) (3.11.15)\n",
            "Collecting dataclasses-json<0.7,>=0.5.7 (from langchain_community)\n",
            "  Downloading dataclasses_json-0.6.7-py3-none-any.whl.metadata (25 kB)\n",
            "Collecting pydantic-settings<3.0.0,>=2.4.0 (from langchain_community)\n",
            "  Downloading pydantic_settings-2.10.1-py3-none-any.whl.metadata (3.4 kB)\n",
            "Collecting httpx-sse<1.0.0,>=0.4.0 (from langchain_community)\n",
            "  Downloading httpx_sse-0.4.1-py3-none-any.whl.metadata (9.4 kB)\n",
            "Requirement already satisfied: regex>=2022.1.18 in /usr/local/lib/python3.11/dist-packages (from tiktoken) (2024.11.6)\n",
            "Requirement already satisfied: beautifulsoup4 in /usr/local/lib/python3.11/dist-packages (from wikipedia) (4.13.4)\n",
            "Requirement already satisfied: aiohappyeyeballs>=2.3.0 in /usr/local/lib/python3.11/dist-packages (from aiohttp<4.0.0,>=3.8.3->langchain_community) (2.6.1)\n",
            "Requirement already satisfied: aiosignal>=1.1.2 in /usr/local/lib/python3.11/dist-packages (from aiohttp<4.0.0,>=3.8.3->langchain_community) (1.4.0)\n",
            "Requirement already satisfied: attrs>=17.3.0 in /usr/local/lib/python3.11/dist-packages (from aiohttp<4.0.0,>=3.8.3->langchain_community) (25.3.0)\n",
            "Requirement already satisfied: frozenlist>=1.1.1 in /usr/local/lib/python3.11/dist-packages (from aiohttp<4.0.0,>=3.8.3->langchain_community) (1.7.0)\n",
            "Requirement already satisfied: multidict<7.0,>=4.5 in /usr/local/lib/python3.11/dist-packages (from aiohttp<4.0.0,>=3.8.3->langchain_community) (6.6.3)\n",
            "Requirement already satisfied: propcache>=0.2.0 in /usr/local/lib/python3.11/dist-packages (from aiohttp<4.0.0,>=3.8.3->langchain_community) (0.3.2)\n",
            "Requirement already satisfied: yarl<2.0,>=1.17.0 in /usr/local/lib/python3.11/dist-packages (from aiohttp<4.0.0,>=3.8.3->langchain_community) (1.20.1)\n",
            "Requirement already satisfied: pyproject_hooks in /usr/local/lib/python3.11/dist-packages (from build>=1.0.3->chromadb) (1.2.0)\n",
            "Collecting marshmallow<4.0.0,>=3.18.0 (from dataclasses-json<0.7,>=0.5.7->langchain_community)\n",
            "  Downloading marshmallow-3.26.1-py3-none-any.whl.metadata (7.3 kB)\n",
            "Collecting typing-inspect<1,>=0.4.0 (from dataclasses-json<0.7,>=0.5.7->langchain_community)\n",
            "  Downloading typing_inspect-0.9.0-py3-none-any.whl.metadata (1.5 kB)\n",
            "Requirement already satisfied: google-api-core!=2.0.*,!=2.1.*,!=2.10.*,!=2.2.*,!=2.3.*,!=2.4.*,!=2.5.*,!=2.6.*,!=2.7.*,!=2.8.*,!=2.9.*,<3.0.0,>=1.34.1 in /usr/local/lib/python3.11/dist-packages (from google-api-core[grpc]!=2.0.*,!=2.1.*,!=2.10.*,!=2.2.*,!=2.3.*,!=2.4.*,!=2.5.*,!=2.6.*,!=2.7.*,!=2.8.*,!=2.9.*,<3.0.0,>=1.34.1->google-ai-generativelanguage<0.7.0,>=0.6.18->langchain_google_genai) (2.25.1)\n",
            "Requirement already satisfied: google-auth!=2.24.0,!=2.25.0,<3.0.0,>=2.14.1 in /usr/local/lib/python3.11/dist-packages (from google-ai-generativelanguage<0.7.0,>=0.6.18->langchain_google_genai) (2.38.0)\n",
            "Requirement already satisfied: proto-plus<2.0.0,>=1.22.3 in /usr/local/lib/python3.11/dist-packages (from google-ai-generativelanguage<0.7.0,>=0.6.18->langchain_google_genai) (1.26.1)\n",
            "Requirement already satisfied: protobuf!=4.21.0,!=4.21.1,!=4.21.2,!=4.21.3,!=4.21.4,!=4.21.5,<7.0.0,>=3.20.2 in /usr/local/lib/python3.11/dist-packages (from google-ai-generativelanguage<0.7.0,>=0.6.18->langchain_google_genai) (5.29.5)\n",
            "Requirement already satisfied: anyio in /usr/local/lib/python3.11/dist-packages (from httpx>=0.27.0->chromadb) (4.9.0)\n",
            "Requirement already satisfied: certifi in /usr/local/lib/python3.11/dist-packages (from httpx>=0.27.0->chromadb) (2025.7.14)\n",
            "Requirement already satisfied: httpcore==1.* in /usr/local/lib/python3.11/dist-packages (from httpx>=0.27.0->chromadb) (1.0.9)\n",
            "Requirement already satisfied: idna in /usr/local/lib/python3.11/dist-packages (from httpx>=0.27.0->chromadb) (3.10)\n",
            "Requirement already satisfied: h11>=0.16 in /usr/local/lib/python3.11/dist-packages (from httpcore==1.*->httpx>=0.27.0->chromadb) (0.16.0)\n",
            "Requirement already satisfied: jsonschema-specifications>=2023.03.6 in /usr/local/lib/python3.11/dist-packages (from jsonschema>=4.19.0->chromadb) (2025.4.1)\n",
            "Requirement already satisfied: referencing>=0.28.4 in /usr/local/lib/python3.11/dist-packages (from jsonschema>=4.19.0->chromadb) (0.36.2)\n",
            "Requirement already satisfied: rpds-py>=0.7.1 in /usr/local/lib/python3.11/dist-packages (from jsonschema>=4.19.0->chromadb) (0.26.0)\n",
            "Requirement already satisfied: six>=1.9.0 in /usr/local/lib/python3.11/dist-packages (from kubernetes>=28.1.0->chromadb) (1.17.0)\n",
            "Requirement already satisfied: python-dateutil>=2.5.3 in /usr/local/lib/python3.11/dist-packages (from kubernetes>=28.1.0->chromadb) (2.9.0.post0)\n",
            "Requirement already satisfied: websocket-client!=0.40.0,!=0.41.*,!=0.42.*,>=0.32.0 in /usr/local/lib/python3.11/dist-packages (from kubernetes>=28.1.0->chromadb) (1.8.0)\n",
            "Requirement already satisfied: requests-oauthlib in /usr/local/lib/python3.11/dist-packages (from kubernetes>=28.1.0->chromadb) (2.0.0)\n",
            "Requirement already satisfied: oauthlib>=3.2.2 in /usr/local/lib/python3.11/dist-packages (from kubernetes>=28.1.0->chromadb) (3.3.1)\n",
            "Requirement already satisfied: urllib3>=1.24.2 in /usr/local/lib/python3.11/dist-packages (from kubernetes>=28.1.0->chromadb) (2.5.0)\n",
            "Collecting durationpy>=0.7 (from kubernetes>=28.1.0->chromadb)\n",
            "  Downloading durationpy-0.10-py3-none-any.whl.metadata (340 bytes)\n",
            "Requirement already satisfied: jsonpatch<2.0,>=1.33 in /usr/local/lib/python3.11/dist-packages (from langchain-core<1.0.0,>=0.3.66->langchain) (1.33)\n",
            "Requirement already satisfied: requests-toolbelt<2.0.0,>=1.0.0 in /usr/local/lib/python3.11/dist-packages (from langsmith>=0.1.17->langchain) (1.0.0)\n",
            "Requirement already satisfied: zstandard<0.24.0,>=0.23.0 in /usr/local/lib/python3.11/dist-packages (from langsmith>=0.1.17->langchain) (0.23.0)\n",
            "Collecting coloredlogs (from onnxruntime>=1.14.1->chromadb)\n",
            "  Downloading coloredlogs-15.0.1-py2.py3-none-any.whl.metadata (12 kB)\n",
            "Requirement already satisfied: flatbuffers in /usr/local/lib/python3.11/dist-packages (from onnxruntime>=1.14.1->chromadb) (25.2.10)\n",
            "Requirement already satisfied: sympy in /usr/local/lib/python3.11/dist-packages (from onnxruntime>=1.14.1->chromadb) (1.13.1)\n",
            "Requirement already satisfied: importlib-metadata<8.8.0,>=6.0 in /usr/local/lib/python3.11/dist-packages (from opentelemetry-api>=1.2.0->chromadb) (8.7.0)\n",
            "Requirement already satisfied: googleapis-common-protos~=1.57 in /usr/local/lib/python3.11/dist-packages (from opentelemetry-exporter-otlp-proto-grpc>=1.2.0->chromadb) (1.70.0)\n",
            "Collecting opentelemetry-exporter-otlp-proto-common==1.35.0 (from opentelemetry-exporter-otlp-proto-grpc>=1.2.0->chromadb)\n",
            "  Downloading opentelemetry_exporter_otlp_proto_common-1.35.0-py3-none-any.whl.metadata (1.8 kB)\n",
            "Collecting opentelemetry-proto==1.35.0 (from opentelemetry-exporter-otlp-proto-grpc>=1.2.0->chromadb)\n",
            "  Downloading opentelemetry_proto-1.35.0-py3-none-any.whl.metadata (2.3 kB)\n",
            "Collecting opentelemetry-semantic-conventions==0.56b0 (from opentelemetry-sdk>=1.2.0->chromadb)\n",
            "  Downloading opentelemetry_semantic_conventions-0.56b0-py3-none-any.whl.metadata (2.4 kB)\n",
            "Collecting backoff>=1.10.0 (from posthog<6.0.0,>=2.4.0->chromadb)\n",
            "  Downloading backoff-2.2.1-py3-none-any.whl.metadata (14 kB)\n",
            "Requirement already satisfied: distro>=1.5.0 in /usr/local/lib/python3.11/dist-packages (from posthog<6.0.0,>=2.4.0->chromadb) (1.9.0)\n",
            "Requirement already satisfied: annotated-types>=0.6.0 in /usr/local/lib/python3.11/dist-packages (from pydantic<3.0.0,>=2.7.4->langchain) (0.7.0)\n",
            "Requirement already satisfied: pydantic-core==2.33.2 in /usr/local/lib/python3.11/dist-packages (from pydantic<3.0.0,>=2.7.4->langchain) (2.33.2)\n",
            "Requirement already satisfied: typing-inspection>=0.4.0 in /usr/local/lib/python3.11/dist-packages (from pydantic<3.0.0,>=2.7.4->langchain) (0.4.1)\n",
            "Collecting python-dotenv>=0.21.0 (from pydantic-settings<3.0.0,>=2.4.0->langchain_community)\n",
            "  Downloading python_dotenv-1.1.1-py3-none-any.whl.metadata (24 kB)\n",
            "Requirement already satisfied: charset-normalizer<4,>=2 in /usr/local/lib/python3.11/dist-packages (from requests<3,>=2->langchain) (3.4.2)\n",
            "Requirement already satisfied: markdown-it-py>=2.2.0 in /usr/local/lib/python3.11/dist-packages (from rich>=10.11.0->chromadb) (3.0.0)\n",
            "Requirement already satisfied: pygments<3.0.0,>=2.13.0 in /usr/local/lib/python3.11/dist-packages (from rich>=10.11.0->chromadb) (2.19.2)\n",
            "Requirement already satisfied: greenlet>=1 in /usr/local/lib/python3.11/dist-packages (from SQLAlchemy<3,>=1.4->langchain) (3.2.3)\n",
            "Requirement already satisfied: huggingface-hub<1.0,>=0.16.4 in /usr/local/lib/python3.11/dist-packages (from tokenizers>=0.13.2->chromadb) (0.33.4)\n",
            "Requirement already satisfied: click>=8.0.0 in /usr/local/lib/python3.11/dist-packages (from typer>=0.9.0->chromadb) (8.2.1)\n",
            "Requirement already satisfied: shellingham>=1.3.0 in /usr/local/lib/python3.11/dist-packages (from typer>=0.9.0->chromadb) (1.5.4)\n",
            "Collecting httptools>=0.6.3 (from uvicorn[standard]>=0.18.3->chromadb)\n",
            "  Downloading httptools-0.6.4-cp311-cp311-manylinux_2_5_x86_64.manylinux1_x86_64.manylinux_2_17_x86_64.manylinux2014_x86_64.whl.metadata (3.6 kB)\n",
            "Collecting uvloop>=0.15.1 (from uvicorn[standard]>=0.18.3->chromadb)\n",
            "  Downloading uvloop-0.21.0-cp311-cp311-manylinux_2_17_x86_64.manylinux2014_x86_64.whl.metadata (4.9 kB)\n",
            "Collecting watchfiles>=0.13 (from uvicorn[standard]>=0.18.3->chromadb)\n",
            "  Downloading watchfiles-1.1.0-cp311-cp311-manylinux_2_17_x86_64.manylinux2014_x86_64.whl.metadata (4.9 kB)\n",
            "Requirement already satisfied: websockets>=10.4 in /usr/local/lib/python3.11/dist-packages (from uvicorn[standard]>=0.18.3->chromadb) (15.0.1)\n",
            "Requirement already satisfied: soupsieve>1.2 in /usr/local/lib/python3.11/dist-packages (from beautifulsoup4->wikipedia) (2.7)\n",
            "Requirement already satisfied: grpcio-status<2.0.0,>=1.33.2 in /usr/local/lib/python3.11/dist-packages (from google-api-core[grpc]!=2.0.*,!=2.1.*,!=2.10.*,!=2.2.*,!=2.3.*,!=2.4.*,!=2.5.*,!=2.6.*,!=2.7.*,!=2.8.*,!=2.9.*,<3.0.0,>=1.34.1->google-ai-generativelanguage<0.7.0,>=0.6.18->langchain_google_genai) (1.71.2)\n",
            "Requirement already satisfied: cachetools<6.0,>=2.0.0 in /usr/local/lib/python3.11/dist-packages (from google-auth!=2.24.0,!=2.25.0,<3.0.0,>=2.14.1->google-ai-generativelanguage<0.7.0,>=0.6.18->langchain_google_genai) (5.5.2)\n",
            "Requirement already satisfied: pyasn1-modules>=0.2.1 in /usr/local/lib/python3.11/dist-packages (from google-auth!=2.24.0,!=2.25.0,<3.0.0,>=2.14.1->google-ai-generativelanguage<0.7.0,>=0.6.18->langchain_google_genai) (0.4.2)\n",
            "Requirement already satisfied: rsa<5,>=3.1.4 in /usr/local/lib/python3.11/dist-packages (from google-auth!=2.24.0,!=2.25.0,<3.0.0,>=2.14.1->google-ai-generativelanguage<0.7.0,>=0.6.18->langchain_google_genai) (4.9.1)\n",
            "Requirement already satisfied: filelock in /usr/local/lib/python3.11/dist-packages (from huggingface-hub<1.0,>=0.16.4->tokenizers>=0.13.2->chromadb) (3.18.0)\n",
            "Requirement already satisfied: fsspec>=2023.5.0 in /usr/local/lib/python3.11/dist-packages (from huggingface-hub<1.0,>=0.16.4->tokenizers>=0.13.2->chromadb) (2025.7.0)\n",
            "Requirement already satisfied: hf-xet<2.0.0,>=1.1.2 in /usr/local/lib/python3.11/dist-packages (from huggingface-hub<1.0,>=0.16.4->tokenizers>=0.13.2->chromadb) (1.1.5)\n",
            "Requirement already satisfied: zipp>=3.20 in /usr/local/lib/python3.11/dist-packages (from importlib-metadata<8.8.0,>=6.0->opentelemetry-api>=1.2.0->chromadb) (3.23.0)\n",
            "Requirement already satisfied: jsonpointer>=1.9 in /usr/local/lib/python3.11/dist-packages (from jsonpatch<2.0,>=1.33->langchain-core<1.0.0,>=0.3.66->langchain) (3.0.0)\n",
            "Requirement already satisfied: mdurl~=0.1 in /usr/local/lib/python3.11/dist-packages (from markdown-it-py>=2.2.0->rich>=10.11.0->chromadb) (0.1.2)\n",
            "Collecting mypy-extensions>=0.3.0 (from typing-inspect<1,>=0.4.0->dataclasses-json<0.7,>=0.5.7->langchain_community)\n",
            "  Downloading mypy_extensions-1.1.0-py3-none-any.whl.metadata (1.1 kB)\n",
            "Requirement already satisfied: sniffio>=1.1 in /usr/local/lib/python3.11/dist-packages (from anyio->httpx>=0.27.0->chromadb) (1.3.1)\n",
            "Collecting humanfriendly>=9.1 (from coloredlogs->onnxruntime>=1.14.1->chromadb)\n",
            "  Downloading humanfriendly-10.0-py2.py3-none-any.whl.metadata (9.2 kB)\n",
            "Requirement already satisfied: mpmath<1.4,>=1.1.0 in /usr/local/lib/python3.11/dist-packages (from sympy->onnxruntime>=1.14.1->chromadb) (1.3.0)\n",
            "Requirement already satisfied: pyasn1<0.7.0,>=0.6.1 in /usr/local/lib/python3.11/dist-packages (from pyasn1-modules>=0.2.1->google-auth!=2.24.0,!=2.25.0,<3.0.0,>=2.14.1->google-ai-generativelanguage<0.7.0,>=0.6.18->langchain_google_genai) (0.6.1)\n",
            "Downloading chromadb-1.0.15-cp39-abi3-manylinux_2_17_x86_64.manylinux2014_x86_64.whl (19.5 MB)\n",
            "\u001b[2K   \u001b[90m━━━━━━━━━━━━━━━━━━━━━━━━━━━━━━━━━━━━━━━━\u001b[0m \u001b[32m19.5/19.5 MB\u001b[0m \u001b[31m85.6 MB/s\u001b[0m eta \u001b[36m0:00:00\u001b[0m\n",
            "\u001b[?25hDownloading faiss_cpu-1.11.0.post1-cp311-cp311-manylinux_2_27_x86_64.manylinux_2_28_x86_64.whl (31.3 MB)\n",
            "\u001b[2K   \u001b[90m━━━━━━━━━━━━━━━━━━━━━━━━━━━━━━━━━━━━━━━━\u001b[0m \u001b[32m31.3/31.3 MB\u001b[0m \u001b[31m25.3 MB/s\u001b[0m eta \u001b[36m0:00:00\u001b[0m\n",
            "\u001b[?25hDownloading langchain_google_genai-2.1.8-py3-none-any.whl (47 kB)\n",
            "\u001b[2K   \u001b[90m━━━━━━━━━━━━━━━━━━━━━━━━━━━━━━━━━━━━━━━━\u001b[0m \u001b[32m47.8/47.8 kB\u001b[0m \u001b[31m4.5 MB/s\u001b[0m eta \u001b[36m0:00:00\u001b[0m\n",
            "\u001b[?25hDownloading langchain_community-0.3.27-py3-none-any.whl (2.5 MB)\n",
            "\u001b[2K   \u001b[90m━━━━━━━━━━━━━━━━━━━━━━━━━━━━━━━━━━━━━━━━\u001b[0m \u001b[32m2.5/2.5 MB\u001b[0m \u001b[31m88.4 MB/s\u001b[0m eta \u001b[36m0:00:00\u001b[0m\n",
            "\u001b[?25hDownloading bcrypt-4.3.0-cp39-abi3-manylinux_2_34_x86_64.whl (284 kB)\n",
            "\u001b[2K   \u001b[90m━━━━━━━━━━━━━━━━━━━━━━━━━━━━━━━━━━━━━━━━\u001b[0m \u001b[32m284.2/284.2 kB\u001b[0m \u001b[31m26.3 MB/s\u001b[0m eta \u001b[36m0:00:00\u001b[0m\n",
            "\u001b[?25hDownloading dataclasses_json-0.6.7-py3-none-any.whl (28 kB)\n",
            "Downloading filetype-1.2.0-py2.py3-none-any.whl (19 kB)\n",
            "Downloading google_ai_generativelanguage-0.6.18-py3-none-any.whl (1.4 MB)\n",
            "\u001b[2K   \u001b[90m━━━━━━━━━━━━━━━━━━━━━━━━━━━━━━━━━━━━━━━━\u001b[0m \u001b[32m1.4/1.4 MB\u001b[0m \u001b[31m68.8 MB/s\u001b[0m eta \u001b[36m0:00:00\u001b[0m\n",
            "\u001b[?25hDownloading httpx_sse-0.4.1-py3-none-any.whl (8.1 kB)\n",
            "Downloading kubernetes-33.1.0-py2.py3-none-any.whl (1.9 MB)\n",
            "\u001b[2K   \u001b[90m━━━━━━━━━━━━━━━━━━━━━━━━━━━━━━━━━━━━━━━━\u001b[0m \u001b[32m1.9/1.9 MB\u001b[0m \u001b[31m77.8 MB/s\u001b[0m eta \u001b[36m0:00:00\u001b[0m\n",
            "\u001b[?25hDownloading mmh3-5.1.0-cp311-cp311-manylinux_2_5_x86_64.manylinux1_x86_64.manylinux_2_17_x86_64.manylinux2014_x86_64.whl (101 kB)\n",
            "\u001b[2K   \u001b[90m━━━━━━━━━━━━━━━━━━━━━━━━━━━━━━━━━━━━━━━━\u001b[0m \u001b[32m101.6/101.6 kB\u001b[0m \u001b[31m9.9 MB/s\u001b[0m eta \u001b[36m0:00:00\u001b[0m\n",
            "\u001b[?25hDownloading onnxruntime-1.22.1-cp311-cp311-manylinux_2_27_x86_64.manylinux_2_28_x86_64.whl (16.5 MB)\n",
            "\u001b[2K   \u001b[90m━━━━━━━━━━━━━━━━━━━━━━━━━━━━━━━━━━━━━━━━\u001b[0m \u001b[32m16.5/16.5 MB\u001b[0m \u001b[31m85.7 MB/s\u001b[0m eta \u001b[36m0:00:00\u001b[0m\n",
            "\u001b[?25hDownloading opentelemetry_api-1.35.0-py3-none-any.whl (65 kB)\n",
            "\u001b[2K   \u001b[90m━━━━━━━━━━━━━━━━━━━━━━━━━━━━━━━━━━━━━━━━\u001b[0m \u001b[32m65.6/65.6 kB\u001b[0m \u001b[31m6.7 MB/s\u001b[0m eta \u001b[36m0:00:00\u001b[0m\n",
            "\u001b[?25hDownloading opentelemetry_exporter_otlp_proto_grpc-1.35.0-py3-none-any.whl (18 kB)\n",
            "Downloading opentelemetry_exporter_otlp_proto_common-1.35.0-py3-none-any.whl (18 kB)\n",
            "Downloading opentelemetry_proto-1.35.0-py3-none-any.whl (72 kB)\n",
            "\u001b[2K   \u001b[90m━━━━━━━━━━━━━━━━━━━━━━━━━━━━━━━━━━━━━━━━\u001b[0m \u001b[32m72.5/72.5 kB\u001b[0m \u001b[31m6.8 MB/s\u001b[0m eta \u001b[36m0:00:00\u001b[0m\n",
            "\u001b[?25hDownloading opentelemetry_sdk-1.35.0-py3-none-any.whl (119 kB)\n",
            "\u001b[2K   \u001b[90m━━━━━━━━━━━━━━━━━━━━━━━━━━━━━━━━━━━━━━━━\u001b[0m \u001b[32m119.4/119.4 kB\u001b[0m \u001b[31m11.9 MB/s\u001b[0m eta \u001b[36m0:00:00\u001b[0m\n",
            "\u001b[?25hDownloading opentelemetry_semantic_conventions-0.56b0-py3-none-any.whl (201 kB)\n",
            "\u001b[2K   \u001b[90m━━━━━━━━━━━━━━━━━━━━━━━━━━━━━━━━━━━━━━━━\u001b[0m \u001b[32m201.6/201.6 kB\u001b[0m \u001b[31m19.8 MB/s\u001b[0m eta \u001b[36m0:00:00\u001b[0m\n",
            "\u001b[?25hDownloading overrides-7.7.0-py3-none-any.whl (17 kB)\n",
            "Downloading posthog-5.4.0-py3-none-any.whl (105 kB)\n",
            "\u001b[2K   \u001b[90m━━━━━━━━━━━━━━━━━━━━━━━━━━━━━━━━━━━━━━━━\u001b[0m \u001b[32m105.4/105.4 kB\u001b[0m \u001b[31m10.8 MB/s\u001b[0m eta \u001b[36m0:00:00\u001b[0m\n",
            "\u001b[?25hDownloading pybase64-1.4.1-cp311-cp311-manylinux_2_5_x86_64.manylinux1_x86_64.manylinux_2_17_x86_64.manylinux2014_x86_64.whl (71 kB)\n",
            "\u001b[2K   \u001b[90m━━━━━━━━━━━━━━━━━━━━━━━━━━━━━━━━━━━━━━━━\u001b[0m \u001b[32m71.2/71.2 kB\u001b[0m \u001b[31m6.8 MB/s\u001b[0m eta \u001b[36m0:00:00\u001b[0m\n",
            "\u001b[?25hDownloading pydantic_settings-2.10.1-py3-none-any.whl (45 kB)\n",
            "\u001b[2K   \u001b[90m━━━━━━━━━━━━━━━━━━━━━━━━━━━━━━━━━━━━━━━━\u001b[0m \u001b[32m45.2/45.2 kB\u001b[0m \u001b[31m4.7 MB/s\u001b[0m eta \u001b[36m0:00:00\u001b[0m\n",
            "\u001b[?25hDownloading backoff-2.2.1-py3-none-any.whl (15 kB)\n",
            "Downloading durationpy-0.10-py3-none-any.whl (3.9 kB)\n",
            "Downloading httptools-0.6.4-cp311-cp311-manylinux_2_5_x86_64.manylinux1_x86_64.manylinux_2_17_x86_64.manylinux2014_x86_64.whl (459 kB)\n",
            "\u001b[2K   \u001b[90m━━━━━━━━━━━━━━━━━━━━━━━━━━━━━━━━━━━━━━━━\u001b[0m \u001b[32m459.8/459.8 kB\u001b[0m \u001b[31m36.8 MB/s\u001b[0m eta \u001b[36m0:00:00\u001b[0m\n",
            "\u001b[?25hDownloading marshmallow-3.26.1-py3-none-any.whl (50 kB)\n",
            "\u001b[2K   \u001b[90m━━━━━━━━━━━━━━━━━━━━━━━━━━━━━━━━━━━━━━━━\u001b[0m \u001b[32m50.9/50.9 kB\u001b[0m \u001b[31m4.7 MB/s\u001b[0m eta \u001b[36m0:00:00\u001b[0m\n",
            "\u001b[?25hDownloading python_dotenv-1.1.1-py3-none-any.whl (20 kB)\n",
            "Downloading typing_inspect-0.9.0-py3-none-any.whl (8.8 kB)\n",
            "Downloading uvloop-0.21.0-cp311-cp311-manylinux_2_17_x86_64.manylinux2014_x86_64.whl (4.0 MB)\n",
            "\u001b[2K   \u001b[90m━━━━━━━━━━━━━━━━━━━━━━━━━━━━━━━━━━━━━━━━\u001b[0m \u001b[32m4.0/4.0 MB\u001b[0m \u001b[31m77.8 MB/s\u001b[0m eta \u001b[36m0:00:00\u001b[0m\n",
            "\u001b[?25hDownloading watchfiles-1.1.0-cp311-cp311-manylinux_2_17_x86_64.manylinux2014_x86_64.whl (453 kB)\n",
            "\u001b[2K   \u001b[90m━━━━━━━━━━━━━━━━━━━━━━━━━━━━━━━━━━━━━━━━\u001b[0m \u001b[32m453.1/453.1 kB\u001b[0m \u001b[31m26.1 MB/s\u001b[0m eta \u001b[36m0:00:00\u001b[0m\n",
            "\u001b[?25hDownloading coloredlogs-15.0.1-py2.py3-none-any.whl (46 kB)\n",
            "\u001b[2K   \u001b[90m━━━━━━━━━━━━━━━━━━━━━━━━━━━━━━━━━━━━━━━━\u001b[0m \u001b[32m46.0/46.0 kB\u001b[0m \u001b[31m3.7 MB/s\u001b[0m eta \u001b[36m0:00:00\u001b[0m\n",
            "\u001b[?25hDownloading humanfriendly-10.0-py2.py3-none-any.whl (86 kB)\n",
            "\u001b[2K   \u001b[90m━━━━━━━━━━━━━━━━━━━━━━━━━━━━━━━━━━━━━━━━\u001b[0m \u001b[32m86.8/86.8 kB\u001b[0m \u001b[31m9.5 MB/s\u001b[0m eta \u001b[36m0:00:00\u001b[0m\n",
            "\u001b[?25hDownloading mypy_extensions-1.1.0-py3-none-any.whl (5.0 kB)\n",
            "Building wheels for collected packages: wikipedia, pypika\n",
            "  Building wheel for wikipedia (setup.py) ... \u001b[?25l\u001b[?25hdone\n",
            "  Created wheel for wikipedia: filename=wikipedia-1.4.0-py3-none-any.whl size=11678 sha256=0f887e5f1d6f44992f99c1113a89dbdc45f6a59fda346ad76c7ff33fdb0fc586\n",
            "  Stored in directory: /root/.cache/pip/wheels/8f/ab/cb/45ccc40522d3a1c41e1d2ad53b8f33a62f394011ec38cd71c6\n",
            "  Building wheel for pypika (pyproject.toml) ... \u001b[?25l\u001b[?25hdone\n",
            "  Created wheel for pypika: filename=pypika-0.48.9-py2.py3-none-any.whl size=53803 sha256=f40acbf9444b812a6794bd573d8f2f53bdd6c2bb39896743882932978eeb3b2f\n",
            "  Stored in directory: /root/.cache/pip/wheels/a3/01/bd/4c40ceb9d5354160cb186dcc153360f4ab7eb23e2b24daf96d\n",
            "Successfully built wikipedia pypika\n",
            "Installing collected packages: pypika, filetype, durationpy, uvloop, python-dotenv, pybase64, overrides, opentelemetry-proto, mypy-extensions, mmh3, marshmallow, humanfriendly, httpx-sse, httptools, faiss-cpu, bcrypt, backoff, wikipedia, watchfiles, typing-inspect, posthog, opentelemetry-exporter-otlp-proto-common, opentelemetry-api, coloredlogs, pydantic-settings, opentelemetry-semantic-conventions, onnxruntime, kubernetes, dataclasses-json, opentelemetry-sdk, opentelemetry-exporter-otlp-proto-grpc, google-ai-generativelanguage, langchain_google_genai, chromadb, langchain_community\n",
            "  Attempting uninstall: google-ai-generativelanguage\n",
            "    Found existing installation: google-ai-generativelanguage 0.6.15\n",
            "    Uninstalling google-ai-generativelanguage-0.6.15:\n",
            "      Successfully uninstalled google-ai-generativelanguage-0.6.15\n",
            "\u001b[31mERROR: pip's dependency resolver does not currently take into account all the packages that are installed. This behaviour is the source of the following dependency conflicts.\n",
            "google-generativeai 0.8.5 requires google-ai-generativelanguage==0.6.15, but you have google-ai-generativelanguage 0.6.18 which is incompatible.\u001b[0m\u001b[31m\n",
            "\u001b[0mSuccessfully installed backoff-2.2.1 bcrypt-4.3.0 chromadb-1.0.15 coloredlogs-15.0.1 dataclasses-json-0.6.7 durationpy-0.10 faiss-cpu-1.11.0.post1 filetype-1.2.0 google-ai-generativelanguage-0.6.18 httptools-0.6.4 httpx-sse-0.4.1 humanfriendly-10.0 kubernetes-33.1.0 langchain_community-0.3.27 langchain_google_genai-2.1.8 marshmallow-3.26.1 mmh3-5.1.0 mypy-extensions-1.1.0 onnxruntime-1.22.1 opentelemetry-api-1.35.0 opentelemetry-exporter-otlp-proto-common-1.35.0 opentelemetry-exporter-otlp-proto-grpc-1.35.0 opentelemetry-proto-1.35.0 opentelemetry-sdk-1.35.0 opentelemetry-semantic-conventions-0.56b0 overrides-7.7.0 posthog-5.4.0 pybase64-1.4.1 pydantic-settings-2.10.1 pypika-0.48.9 python-dotenv-1.1.1 typing-inspect-0.9.0 uvloop-0.21.0 watchfiles-1.1.0 wikipedia-1.4.0\n"
          ]
        },
        {
          "output_type": "display_data",
          "data": {
            "application/vnd.colab-display-data+json": {
              "pip_warning": {
                "packages": [
                  "google"
                ]
              },
              "id": "198a6e940a8b464cbea83cb409d4eb92"
            }
          },
          "metadata": {}
        }
      ],
      "source": [
        "!pip install langchain chromadb faiss-cpu langchain_google_genai langchain_community tiktoken wikipedia"
      ]
    },
    {
      "cell_type": "markdown",
      "source": [
        "# Wikipedia Retriever"
      ],
      "metadata": {
        "id": "H7cdAsNf9256"
      }
    },
    {
      "cell_type": "code",
      "source": [
        "from langchain_community.retrievers import WikipediaRetriever"
      ],
      "metadata": {
        "id": "M6PegvNX9t80"
      },
      "execution_count": 4,
      "outputs": []
    },
    {
      "cell_type": "code",
      "source": [
        "# initialize the retriver (optionally can select the num of results and languge of result)\n",
        "\n",
        "retriver = WikipediaRetriever(\n",
        "    top_k_results=2,\n",
        "    lang='en'\n",
        ")"
      ],
      "metadata": {
        "id": "1KPSOJNc-DXm"
      },
      "execution_count": 7,
      "outputs": []
    },
    {
      "cell_type": "code",
      "source": [
        "# define your querry\n",
        "querry = \"The geopolitical history of Pakistan and India from Chinese perspective\"\n",
        "\n",
        "# get the relevent Wikipedia documents\n",
        "docs = retriver.invoke(querry)"
      ],
      "metadata": {
        "id": "65JJE82Q-sQD"
      },
      "execution_count": 8,
      "outputs": []
    },
    {
      "cell_type": "code",
      "source": [
        "docs"
      ],
      "metadata": {
        "colab": {
          "base_uri": "https://localhost:8080/"
        },
        "id": "5IAXJ5RQ_Mra",
        "outputId": "bfff0bf7-b259-4a15-fe96-1da0b7f845bb"
      },
      "execution_count": 9,
      "outputs": [
        {
          "output_type": "execute_result",
          "data": {
            "text/plain": [
              "[Document(metadata={'title': 'United States aid to Pakistan', 'summary': 'The United States has been providing military aid and economic assistance to Pakistan for various purposes since 1948. In 2017, the U.S. stopped military aid to Pakistan, which was about US$2 billion per year. With U.S. military assistance suspended in 2018 and civilian aid reduced to about $300 million for 2022, Pakistani authorities have turned to other countries for help.', 'source': 'https://en.wikipedia.org/wiki/United_States_aid_to_Pakistan'}, page_content=\"The United States has been providing military aid and economic assistance to Pakistan for various purposes since 1948. In 2017, the U.S. stopped military aid to Pakistan, which was about US$2 billion per year. With U.S. military assistance suspended in 2018 and civilian aid reduced to about $300 million for 2022, Pakistani authorities have turned to other countries for help.\\n\\n\\n== History ==\\nFrom 1947 to 1958, under civilian leadership, the United States provided Pakistan with modest economic aid and limited military assistance. During this period, Pakistan became a member of the South East Asian Treaty Organization (SEATO) and the Central Treaty Organization (CENTO), after a Mutual Defence Assistance Agreement signed in May 1954, which facilitated increased levels of both economic and military aid from the U.S.\\nIn 1958, Ayub Khan led Pakistan's first military coup, becoming Chief Martial Law Administrator (CMLA) and later President until 1969. During his tenure, the U.S. delivered substantial economic and military aid, despite Pakistan's governance by military regime, and amidst events like the Indo-Pakistani war of 1965.\\nYahya Khan succeeded Ayub in 1969, holding power during the Indo-Pakistani war of 1971 which led to the secession of East Pakistan and the formation of Bangladesh. Under Yahya, the U.S. provided adequate economic but minimal military aid.\\nCivilian governance of Zulfikar Ali Bhutto resumed from 1971 to 1977, during which the U.S. offered modest economic support and withheld military aid as Pakistan finalized its constitution, establishing a parliamentary democracy.\\nFollowing another military coup in 1977, Muhammad Zia-ul-Haq led the country. In April 1979, President Jimmy Carter halted all aid, excluding food assistance, due to Pakistan's efforts to establish a uranium enrichment facility, following Symington Amendment. Initial U.S. aid was limited, increasing significantly after geopolitical shifts such as the Soviet invasion of Afghanistan in 1979 and the fall of the Shah of Iran. U.S. sanctions imposed in April 1979 due to Pakistan's nuclear activities were lifted by the end of the year in light of these events.\\nBetween 1988 and 1999, under civilian and democratic governments, U.S. aid was low, particularly after the Soviet withdrawal from Afghanistan in 1989. The aid was suspended in the 1990s under President George H. W. Bush, who cited concerns over Pakistan's developing nuclear program. Relations between the two countries deteriorated as the U.S. implemented the Pressler Amendment. This amendment led to severe sanctions against Pakistan, exacerbating economic challenges for the country's nascent civilian government. Consequently, all forms of bilateral aid from the U.S. to Pakistan were halted. The once expansive operations of the U.S. Agency for International Development (USAID) in Pakistan, which had employed over 1,000 staff across the country, were dramatically reduced almost overnight. Further complications arose from U.S. sanctions following Pakistan's nuclear tests in 1998, which were conducted in response to similar tests by India.\\nThe return of military rule under Pervez Musharraf from 1999 to 2008 initially saw little U.S. economic or military aid. However, following the September 11, 2001 attacks, all U.S. sanctions were removed, and Pakistan, having aligned with the U.S. in the War on Terror, received substantial increases in both economic and military assistance.\\nOn June 16, 2009, the U.S. Senate Foreign Relations Committee passed the Enhanced Partnership with Pakistan Act of 2009, commonly referred to as the Kerry-Lugar Bill. The bipartisan act authorized an annual provision of $1.5 billion in U.S. aid to Pakistan, aimed at fostering enhanced bilateral relations.\\nIn 2011, the Obama administration suspended more than one-third of all military assistance, totaling approximately $800 million due to Osama bin Laden-related controversy. This reduction encompassed funds designated for military h\"),\n",
              " Document(metadata={'title': 'Indo-Pakistani war of 1965', 'summary': \"The Indo-Pakistani war of 1965, also known as  the second Kashmir war, was an armed conflict between Pakistan and India that took place from August 1965 to September 1965. The conflict began following Pakistan's unsuccessful Operation Gibraltar, which was designed to infiltrate forces into Jammu and Kashmir to precipitate an insurgency against Indian rule. The seventeen day war caused thousands of casualties on both sides and witnessed the largest engagement of armoured vehicles and the largest tank battle since World War II. Hostilities between the two countries ended after a ceasefire was declared through UNSC Resolution 211 following a diplomatic intervention by the Soviet Union and the United States, and the subsequent issuance of the Tashkent Declaration. Much of the war was fought by the countries' land forces in Kashmir and along the border between India and Pakistan. This war saw the largest amassing of troops in Kashmir since the Partition of India in 1947, a number that was overshadowed only during the 2001–2002 military standoff between India and Pakistan. Most of the battles were fought by opposing infantry and armoured units, with substantial backing from air forces, and naval operations.\\nIndia had the upper hand over Pakistan on the ground when the ceasefire was declared, but the PAF managed to achieve air superiority over the combat zones despite being numerically inferior. Although the two countries fought to a standoff, the conflict is seen as a strategic and political defeat for Pakistan, as it had not succeeded in fomenting an insurrection in Kashmir and was instead forced to shift gears in the defence of Lahore. India also failed to achieve its objective of military deterrence and did not capitalise on its advantageous military situation before the ceasefire was declared.\", 'source': 'https://en.wikipedia.org/wiki/Indo-Pakistani_war_of_1965'}, page_content=\"The Indo-Pakistani war of 1965, also known as  the second Kashmir war, was an armed conflict between Pakistan and India that took place from August 1965 to September 1965. The conflict began following Pakistan's unsuccessful Operation Gibraltar, which was designed to infiltrate forces into Jammu and Kashmir to precipitate an insurgency against Indian rule. The seventeen day war caused thousands of casualties on both sides and witnessed the largest engagement of armoured vehicles and the largest tank battle since World War II. Hostilities between the two countries ended after a ceasefire was declared through UNSC Resolution 211 following a diplomatic intervention by the Soviet Union and the United States, and the subsequent issuance of the Tashkent Declaration. Much of the war was fought by the countries' land forces in Kashmir and along the border between India and Pakistan. This war saw the largest amassing of troops in Kashmir since the Partition of India in 1947, a number that was overshadowed only during the 2001–2002 military standoff between India and Pakistan. Most of the battles were fought by opposing infantry and armoured units, with substantial backing from air forces, and naval operations.\\nIndia had the upper hand over Pakistan on the ground when the ceasefire was declared, but the PAF managed to achieve air superiority over the combat zones despite being numerically inferior. Although the two countries fought to a standoff, the conflict is seen as a strategic and political defeat for Pakistan, as it had not succeeded in fomenting an insurrection in Kashmir and was instead forced to shift gears in the defence of Lahore. India also failed to achieve its objective of military deterrence and did not capitalise on its advantageous military situation before the ceasefire was declared.\\n\\n\\n== Background ==\\nSince the partition of British India in August 1947, Pakistan and India remained in contention over several issues. Although the Kashmir conflict was the predominant issue dividing the nations, other border disputes existed, most notably over the Rann of Kutch, a barren region in the Indian state of Gujarat. The issue first arose in 1956, which ended with India regaining control over the disputed area. In the 1960s Pakistan received 700 million dollars of military aid from the United States, by signing a defence agreement in 1954, which significantly modernised Pakistan's military equipment. After the defeat in 1962 Sino-Indian War, the Indian military was undergoing major changes in personnel and equipment. During this period, despite being numerically smaller than the Indian military, Pakistan's armed forces had a qualitative edge in air power and armour over India, which Pakistan sought to use before India completed its defence build-up.\\n\\nPakistani soldiers began patrolling in territory controlled by India in January 1965, which was followed by attacks by both countries on each other's posts on 8 April 1965. Initially involving border police from both nations, the disputed area soon witnessed intermittent skirmishes between the countries' armed forces. Pakistan launched Operation Desert Hawk and captured a few Indian posts near the Kanjarkot fort border area. In June 1965, British Prime Minister Harold Wilson successfully persuaded both countries to end hostilities. Both countries signed an agreement to settle the disputed border through international arbitration by the International Court of Justice on 30 June 1965. A tribunal was set to resolve the dispute, the verdict which came later in 1968, saw Pakistan awarded 780 square kilometres (301 square miles) of the Rann of Kutch, as against its original claim of 9,100 km2 (3,500 sq mi). Pakistan's purpose for this operation was to assess the response of the Indian government and military and to draw Indian armour southward to Kutch, away from the Punjab and Kashmir region.\\nAfter its success in the Rann of Kutch, Pakistan, under the leadership of Muhammad Ayub Khan, bel\")]"
            ]
          },
          "metadata": {},
          "execution_count": 9
        }
      ]
    },
    {
      "cell_type": "code",
      "source": [
        "# print the retrived content\n",
        "for i, doc in enumerate(docs):\n",
        "  print(f\"\\n___________Result {i+1}___________ \")\n",
        "  print(doc.page_content) # turncate for display"
      ],
      "metadata": {
        "colab": {
          "base_uri": "https://localhost:8080/"
        },
        "id": "k9Zw4_K8_fEO",
        "outputId": "f51d414a-14b9-4767-c891-2a05e054f275"
      },
      "execution_count": 11,
      "outputs": [
        {
          "output_type": "stream",
          "name": "stdout",
          "text": [
            "\n",
            "___________Result 1___________ \n",
            "The United States has been providing military aid and economic assistance to Pakistan for various purposes since 1948. In 2017, the U.S. stopped military aid to Pakistan, which was about US$2 billion per year. With U.S. military assistance suspended in 2018 and civilian aid reduced to about $300 million for 2022, Pakistani authorities have turned to other countries for help.\n",
            "\n",
            "\n",
            "== History ==\n",
            "From 1947 to 1958, under civilian leadership, the United States provided Pakistan with modest economic aid and limited military assistance. During this period, Pakistan became a member of the South East Asian Treaty Organization (SEATO) and the Central Treaty Organization (CENTO), after a Mutual Defence Assistance Agreement signed in May 1954, which facilitated increased levels of both economic and military aid from the U.S.\n",
            "In 1958, Ayub Khan led Pakistan's first military coup, becoming Chief Martial Law Administrator (CMLA) and later President until 1969. During his tenure, the U.S. delivered substantial economic and military aid, despite Pakistan's governance by military regime, and amidst events like the Indo-Pakistani war of 1965.\n",
            "Yahya Khan succeeded Ayub in 1969, holding power during the Indo-Pakistani war of 1971 which led to the secession of East Pakistan and the formation of Bangladesh. Under Yahya, the U.S. provided adequate economic but minimal military aid.\n",
            "Civilian governance of Zulfikar Ali Bhutto resumed from 1971 to 1977, during which the U.S. offered modest economic support and withheld military aid as Pakistan finalized its constitution, establishing a parliamentary democracy.\n",
            "Following another military coup in 1977, Muhammad Zia-ul-Haq led the country. In April 1979, President Jimmy Carter halted all aid, excluding food assistance, due to Pakistan's efforts to establish a uranium enrichment facility, following Symington Amendment. Initial U.S. aid was limited, increasing significantly after geopolitical shifts such as the Soviet invasion of Afghanistan in 1979 and the fall of the Shah of Iran. U.S. sanctions imposed in April 1979 due to Pakistan's nuclear activities were lifted by the end of the year in light of these events.\n",
            "Between 1988 and 1999, under civilian and democratic governments, U.S. aid was low, particularly after the Soviet withdrawal from Afghanistan in 1989. The aid was suspended in the 1990s under President George H. W. Bush, who cited concerns over Pakistan's developing nuclear program. Relations between the two countries deteriorated as the U.S. implemented the Pressler Amendment. This amendment led to severe sanctions against Pakistan, exacerbating economic challenges for the country's nascent civilian government. Consequently, all forms of bilateral aid from the U.S. to Pakistan were halted. The once expansive operations of the U.S. Agency for International Development (USAID) in Pakistan, which had employed over 1,000 staff across the country, were dramatically reduced almost overnight. Further complications arose from U.S. sanctions following Pakistan's nuclear tests in 1998, which were conducted in response to similar tests by India.\n",
            "The return of military rule under Pervez Musharraf from 1999 to 2008 initially saw little U.S. economic or military aid. However, following the September 11, 2001 attacks, all U.S. sanctions were removed, and Pakistan, having aligned with the U.S. in the War on Terror, received substantial increases in both economic and military assistance.\n",
            "On June 16, 2009, the U.S. Senate Foreign Relations Committee passed the Enhanced Partnership with Pakistan Act of 2009, commonly referred to as the Kerry-Lugar Bill. The bipartisan act authorized an annual provision of $1.5 billion in U.S. aid to Pakistan, aimed at fostering enhanced bilateral relations.\n",
            "In 2011, the Obama administration suspended more than one-third of all military assistance, totaling approximately $800 million due to Osama bin Laden-related controversy. This reduction encompassed funds designated for military h\n",
            "\n",
            "___________Result 2___________ \n",
            "The Indo-Pakistani war of 1965, also known as  the second Kashmir war, was an armed conflict between Pakistan and India that took place from August 1965 to September 1965. The conflict began following Pakistan's unsuccessful Operation Gibraltar, which was designed to infiltrate forces into Jammu and Kashmir to precipitate an insurgency against Indian rule. The seventeen day war caused thousands of casualties on both sides and witnessed the largest engagement of armoured vehicles and the largest tank battle since World War II. Hostilities between the two countries ended after a ceasefire was declared through UNSC Resolution 211 following a diplomatic intervention by the Soviet Union and the United States, and the subsequent issuance of the Tashkent Declaration. Much of the war was fought by the countries' land forces in Kashmir and along the border between India and Pakistan. This war saw the largest amassing of troops in Kashmir since the Partition of India in 1947, a number that was overshadowed only during the 2001–2002 military standoff between India and Pakistan. Most of the battles were fought by opposing infantry and armoured units, with substantial backing from air forces, and naval operations.\n",
            "India had the upper hand over Pakistan on the ground when the ceasefire was declared, but the PAF managed to achieve air superiority over the combat zones despite being numerically inferior. Although the two countries fought to a standoff, the conflict is seen as a strategic and political defeat for Pakistan, as it had not succeeded in fomenting an insurrection in Kashmir and was instead forced to shift gears in the defence of Lahore. India also failed to achieve its objective of military deterrence and did not capitalise on its advantageous military situation before the ceasefire was declared.\n",
            "\n",
            "\n",
            "== Background ==\n",
            "Since the partition of British India in August 1947, Pakistan and India remained in contention over several issues. Although the Kashmir conflict was the predominant issue dividing the nations, other border disputes existed, most notably over the Rann of Kutch, a barren region in the Indian state of Gujarat. The issue first arose in 1956, which ended with India regaining control over the disputed area. In the 1960s Pakistan received 700 million dollars of military aid from the United States, by signing a defence agreement in 1954, which significantly modernised Pakistan's military equipment. After the defeat in 1962 Sino-Indian War, the Indian military was undergoing major changes in personnel and equipment. During this period, despite being numerically smaller than the Indian military, Pakistan's armed forces had a qualitative edge in air power and armour over India, which Pakistan sought to use before India completed its defence build-up.\n",
            "\n",
            "Pakistani soldiers began patrolling in territory controlled by India in January 1965, which was followed by attacks by both countries on each other's posts on 8 April 1965. Initially involving border police from both nations, the disputed area soon witnessed intermittent skirmishes between the countries' armed forces. Pakistan launched Operation Desert Hawk and captured a few Indian posts near the Kanjarkot fort border area. In June 1965, British Prime Minister Harold Wilson successfully persuaded both countries to end hostilities. Both countries signed an agreement to settle the disputed border through international arbitration by the International Court of Justice on 30 June 1965. A tribunal was set to resolve the dispute, the verdict which came later in 1968, saw Pakistan awarded 780 square kilometres (301 square miles) of the Rann of Kutch, as against its original claim of 9,100 km2 (3,500 sq mi). Pakistan's purpose for this operation was to assess the response of the Indian government and military and to draw Indian armour southward to Kutch, away from the Punjab and Kashmir region.\n",
            "After its success in the Rann of Kutch, Pakistan, under the leadership of Muhammad Ayub Khan, bel\n"
          ]
        }
      ]
    },
    {
      "cell_type": "markdown",
      "source": [
        "# Vector Store Retriever"
      ],
      "metadata": {
        "id": "M47fdkIBAfam"
      }
    },
    {
      "cell_type": "code",
      "source": [
        "from langchain.vectorstores import Chroma\n",
        "from langchain_google_genai import GoogleGenerativeAIEmbeddings\n",
        "from langchain_core.documents import Document"
      ],
      "metadata": {
        "id": "DwB9cjt9_rVg"
      },
      "execution_count": 18,
      "outputs": []
    },
    {
      "cell_type": "code",
      "source": [
        "from google.colab import userdata\n",
        "api_key = userdata.get('GOOGLE_API_KEY')"
      ],
      "metadata": {
        "id": "5VHPjbaQB1w0"
      },
      "execution_count": 14,
      "outputs": []
    },
    {
      "cell_type": "code",
      "source": [
        "# Step1: Source documents\n",
        "documents = [\n",
        "    Document(page_content=\"Lahore is the cultural capital of Pakistan, known for its rich history, vibrant arts, and historical architecture. Home to landmarks like the Badshahi Mosque, Lahore Fort, and Shalimar Gardens, the city reflects the grandeur of the Mughal era. It’s also famous for its food streets, educational institutions like LUMS and Punjab University, and lively festivals that attract people from all over the country.\"),\n",
        "    Document(page_content=\"Karachi, the largest city of Pakistan, is the country's economic engine and main seaport. It’s a melting pot of cultures, home to a vibrant business environment, beautiful beaches like Clifton and Hawksbay, and key institutions like the Karachi Stock Exchange and major media houses.\"),\n",
        "    Document(page_content=\"Islamabad, the capital city of Pakistan, is known for its modern architecture, organized layout, and lush greenery. It houses key government buildings, the iconic Faisal Mosque, and several parks and museums. It offers a peaceful contrast to the hustle of other big cities.\"),\n",
        "    Document(page_content=\"Faisalabad is a major industrial center of Pakistan, often referred to as the Manchester of Pakistan due to its thriving textile industry. It plays a significant role in the country’s economy and is also known for its clock tower and historical markets.\"),\n",
        "]"
      ],
      "metadata": {
        "id": "bW5BdmnwA8_8"
      },
      "execution_count": 13,
      "outputs": []
    },
    {
      "cell_type": "code",
      "source": [
        "# Step2: Initialize embedding model\n",
        "\n",
        "embedding_model = GoogleGenerativeAIEmbeddings(\n",
        "    model = 'models/embedding-001',\n",
        "    google_api_key = api_key\n",
        ")\n"
      ],
      "metadata": {
        "id": "agckvqzeBtpW"
      },
      "execution_count": 19,
      "outputs": []
    },
    {
      "cell_type": "code",
      "source": [
        "# Step3: Creating chroma vector store in memory\n",
        "\n",
        "vectorstore = Chroma.from_documents(\n",
        "    documents= documents,\n",
        "    embedding= embedding_model,\n",
        "    collection_name= 'retriver_collection'\n",
        ")"
      ],
      "metadata": {
        "id": "C35UxD1JCxNo"
      },
      "execution_count": 20,
      "outputs": []
    },
    {
      "cell_type": "code",
      "source": [
        "# step4: convert vector store into retriver\n",
        "retriver = vectorstore.as_retriever(search_kwargs={'k': 2})"
      ],
      "metadata": {
        "id": "tTRJu0FQDIe1"
      },
      "execution_count": 21,
      "outputs": []
    },
    {
      "cell_type": "code",
      "source": [
        "querry = 'capital of Pakistan?'\n",
        "results = retriver.invoke(querry)"
      ],
      "metadata": {
        "id": "apxEiT-DDaLk"
      },
      "execution_count": 22,
      "outputs": []
    },
    {
      "cell_type": "code",
      "source": [
        "results"
      ],
      "metadata": {
        "colab": {
          "base_uri": "https://localhost:8080/"
        },
        "id": "M02rW9U_DoHW",
        "outputId": "be4e930f-f25f-4907-8c14-c1cc6073f524"
      },
      "execution_count": 23,
      "outputs": [
        {
          "output_type": "execute_result",
          "data": {
            "text/plain": [
              "[Document(metadata={}, page_content='Islamabad, the capital city of Pakistan, is known for its modern architecture, organized layout, and lush greenery. It houses key government buildings, the iconic Faisal Mosque, and several parks and museums. It offers a peaceful contrast to the hustle of other big cities.'),\n",
              " Document(metadata={}, page_content=\"Karachi, the largest city of Pakistan, is the country's economic engine and main seaport. It’s a melting pot of cultures, home to a vibrant business environment, beautiful beaches like Clifton and Hawksbay, and key institutions like the Karachi Stock Exchange and major media houses.\")]"
            ]
          },
          "metadata": {},
          "execution_count": 23
        }
      ]
    },
    {
      "cell_type": "code",
      "source": [
        "for i, doc in enumerate(results):\n",
        "  print(f'\\n______ Result {i+1} ______')\n",
        "  print(doc.page_content)"
      ],
      "metadata": {
        "colab": {
          "base_uri": "https://localhost:8080/"
        },
        "id": "7u-1_ijMDpx-",
        "outputId": "70bfa552-f072-487a-c55f-8edf2ba15480"
      },
      "execution_count": 25,
      "outputs": [
        {
          "output_type": "stream",
          "name": "stdout",
          "text": [
            "\n",
            "______ Result 1 ______\n",
            "Islamabad, the capital city of Pakistan, is known for its modern architecture, organized layout, and lush greenery. It houses key government buildings, the iconic Faisal Mosque, and several parks and museums. It offers a peaceful contrast to the hustle of other big cities.\n",
            "\n",
            "______ Result 2 ______\n",
            "Karachi, the largest city of Pakistan, is the country's economic engine and main seaport. It’s a melting pot of cultures, home to a vibrant business environment, beautiful beaches like Clifton and Hawksbay, and key institutions like the Karachi Stock Exchange and major media houses.\n"
          ]
        }
      ]
    },
    {
      "cell_type": "markdown",
      "source": [
        "# MMR (Maximal Marginal Relevance)"
      ],
      "metadata": {
        "id": "FThXVq0aF9nb"
      }
    },
    {
      "cell_type": "code",
      "source": [
        "# Each document is a short paragraph focused on a unique angle of the topic \"AI in Healthcare.\"\n",
        "docs = [\n",
        "    Document(\n",
        "        page_content=\"Artificial Intelligence is revolutionizing medical imaging by enabling faster and more accurate diagnoses. Algorithms can detect anomalies in X-rays, CT scans, and MRIs with precision that rivals human radiologists. This not only reduces diagnostic errors but also speeds up patient treatment.\",\n",
        "        metadata={\"source\": \"Medical Imaging\", \"topic\": \"AI in Healthcare\"}\n",
        "    ),\n",
        "    Document(\n",
        "        page_content=\"Virtual health assistants powered by AI are becoming essential tools for patient engagement. These assistants can provide reminders for medication, answer common health questions, and schedule appointments, thereby reducing the burden on healthcare staff and improving patient care accessibility.\",\n",
        "        metadata={\"source\": \"Virtual Assistants\", \"topic\": \"AI in Healthcare\"}\n",
        "    ),\n",
        "    Document(\n",
        "        page_content=\"Hospitals are using AI for predictive analytics to forecast patient admissions, optimize bed occupancy, and manage resources efficiently. This predictive approach helps avoid overcrowding and ensures better planning for surgeries and emergency care.\",\n",
        "        metadata={\"source\": \"Hospital Management\", \"topic\": \"AI in Healthcare\"}\n",
        "    ),\n",
        "    Document(\n",
        "        page_content=\"While AI promises major improvements in healthcare, it also raises ethical concerns around data privacy, algorithmic bias, and informed consent. Ensuring fairness and transparency in AI-driven decisions is a key challenge for developers and healthcare institutions alike.\",\n",
        "        metadata={\"source\": \"Ethics\", \"topic\": \"AI in Healthcare\"}\n",
        "    ),\n",
        "    Document(\n",
        "        page_content=\"AI accelerates the drug discovery process by identifying potential compounds and predicting their effectiveness before clinical trials. Companies like DeepMind and Insilico Medicine use AI models to significantly reduce time and cost in pharmaceutical development.\",\n",
        "        metadata={\"source\": \"Drug Discovery\", \"topic\": \"AI in Healthcare\"}\n",
        "    )\n",
        "]\n"
      ],
      "metadata": {
        "id": "9tDTv7xHEGb7"
      },
      "execution_count": 26,
      "outputs": []
    },
    {
      "cell_type": "code",
      "source": [
        "from langchain_community.vectorstores.faiss import FAISS\n",
        "\n",
        "# initalize embedding model\n",
        "embedding_model = GoogleGenerativeAIEmbeddings(\n",
        "    model = 'models/embedding-001',\n",
        "    google_api_key = api_key\n",
        ")\n",
        "\n",
        "# create faiss vector store from documents\n",
        "vectorstore = FAISS.from_documents(\n",
        "    documents= docs,\n",
        "    embedding= embedding_model\n",
        ")\n"
      ],
      "metadata": {
        "id": "AD9xMTqyGdB9"
      },
      "execution_count": 29,
      "outputs": []
    },
    {
      "cell_type": "code",
      "source": [
        "# Enable MMR in the retriver\n",
        "retriver = vectorstore.as_retriever(\n",
        "    search_type='mmr',\n",
        "    search_kwargs={\n",
        "        'k': 3,                   # k is the top results\n",
        "        'lambda_mult': 1        # lambda_mult = relevence-diversity balance\n",
        "    }\n",
        ")"
      ],
      "metadata": {
        "id": "FP9rfsZTHxCV"
      },
      "execution_count": 33,
      "outputs": []
    },
    {
      "cell_type": "code",
      "source": [
        "querry = 'How is AI used to manage hospitals more efficiently?'\n",
        "results = retriver.invoke(querry)"
      ],
      "metadata": {
        "id": "x0TiMTD1Gkc1"
      },
      "execution_count": 34,
      "outputs": []
    },
    {
      "cell_type": "code",
      "source": [
        "for i, doc in enumerate(results):\n",
        "  print(f'\\n______ Result {i+1} ______')\n",
        "  print(doc.page_content)"
      ],
      "metadata": {
        "colab": {
          "base_uri": "https://localhost:8080/"
        },
        "id": "wBFYwFV4IIY9",
        "outputId": "43d57558-61e5-4b57-971b-bff1365d9d1c"
      },
      "execution_count": 35,
      "outputs": [
        {
          "output_type": "stream",
          "name": "stdout",
          "text": [
            "\n",
            "______ Result 1 ______\n",
            "Hospitals are using AI for predictive analytics to forecast patient admissions, optimize bed occupancy, and manage resources efficiently. This predictive approach helps avoid overcrowding and ensures better planning for surgeries and emergency care.\n",
            "\n",
            "______ Result 2 ______\n",
            "Artificial Intelligence is revolutionizing medical imaging by enabling faster and more accurate diagnoses. Algorithms can detect anomalies in X-rays, CT scans, and MRIs with precision that rivals human radiologists. This not only reduces diagnostic errors but also speeds up patient treatment.\n",
            "\n",
            "______ Result 3 ______\n",
            "AI accelerates the drug discovery process by identifying potential compounds and predicting their effectiveness before clinical trials. Companies like DeepMind and Insilico Medicine use AI models to significantly reduce time and cost in pharmaceutical development.\n"
          ]
        }
      ]
    },
    {
      "cell_type": "markdown",
      "source": [
        "# Multi-Querry Retriver"
      ],
      "metadata": {
        "id": "rihyE4gWJXba"
      }
    },
    {
      "cell_type": "code",
      "source": [
        "from langchain.vectorstores.faiss import FAISS\n",
        "from langchain_google_genai import GoogleGenerativeAIEmbeddings\n",
        "from langchain_core.documents import Document\n",
        "from langchain_google_genai import ChatGoogleGenerativeAI\n",
        "from langchain.retrievers.multi_query import MultiQueryRetriever"
      ],
      "metadata": {
        "id": "pXFJ7YCiIMgo"
      },
      "execution_count": 38,
      "outputs": []
    },
    {
      "cell_type": "code",
      "source": [
        "#  10 documents that are about different topics (AI, blockchain, Java, etc.) but written in a similar tone, structure, and length so they seem similar — making it ideal for testing MMR, as the retriever will need to disentangle similar-looking content across different topics.\n",
        "docs = [\n",
        "    Document(\n",
        "        page_content=\"This technology enables secure, decentralized transactions without needing a central authority. By maintaining a shared ledger across multiple nodes, it enhances transparency and reduces fraud in digital systems.\",\n",
        "        metadata={\"topic\": \"Blockchain\"}\n",
        "    ),\n",
        "    Document(\n",
        "        page_content=\"This concept creates an immersive digital environment where users interact using avatars. It blends virtual and augmented reality to provide new experiences in social interaction, gaming, and collaboration.\",\n",
        "        metadata={\"topic\": \"Metaverse\"}\n",
        "    ),\n",
        "    Document(\n",
        "        page_content=\"This field of computer science focuses on building systems that can learn from data. These systems make decisions, detect patterns, and automate complex tasks in a range of real-world applications.\",\n",
        "        metadata={\"topic\": \"Artificial Intelligence\"}\n",
        "    ),\n",
        "    Document(\n",
        "        page_content=\"This programming language is known for its portability, stability, and object-oriented features. It is widely used in enterprise software, Android apps, and backend systems across industries.\",\n",
        "        metadata={\"topic\": \"Java\"}\n",
        "    ),\n",
        "    Document(\n",
        "        page_content=\"This global sport involves two teams competing to score by sending a ball into the opposing goal. It is celebrated worldwide, especially during major tournaments watched by millions.\",\n",
        "        metadata={\"topic\": \"Football\"}\n",
        "    ),\n",
        "    Document(\n",
        "        page_content=\"This discipline focuses on protecting digital systems from unauthorized access and attacks. It employs encryption, firewalls, and authentication to safeguard data and maintain privacy.\",\n",
        "        metadata={\"topic\": \"Cybersecurity\"}\n",
        "    ),\n",
        "    Document(\n",
        "        page_content=\"This environmental issue is caused by rising global temperatures due to human activity. It leads to extreme weather events, rising sea levels, and long-term changes in ecosystems.\",\n",
        "        metadata={\"topic\": \"Climate Change\"}\n",
        "    ),\n",
        "    Document(\n",
        "        page_content=\"This scientific pursuit involves sending machines beyond Earth to collect data and explore unknown environments. It seeks to expand our knowledge of the universe and inspire innovation.\",\n",
        "        metadata={\"topic\": \"Space Exploration\"}\n",
        "    ),\n",
        "    Document(\n",
        "        page_content=\"This computing paradigm leverages quantum mechanics to process information in novel ways. It has the potential to solve problems far beyond the capabilities of classical computers.\",\n",
        "        metadata={\"topic\": \"Quantum Computing\"}\n",
        "    ),\n",
        "    Document(\n",
        "        page_content=\"This area of health focuses on emotional and psychological well-being. It includes managing stress, treating mental illnesses, and promoting open discussions about cognitive health.\",\n",
        "        metadata={\"topic\": \"Mental Health\"}\n",
        "    )\n",
        "]\n"
      ],
      "metadata": {
        "id": "R3Ed0kneLDh2"
      },
      "execution_count": 39,
      "outputs": []
    },
    {
      "cell_type": "code",
      "source": [
        "# initalize embedding model\n",
        "embedding_model = GoogleGenerativeAIEmbeddings(\n",
        "    model = 'models/embedding-001',\n",
        "    google_api_key = api_key\n",
        ")\n",
        "\n",
        "# create FAISS vector store\n",
        "vectorstore = FAISS.from_documents(\n",
        "    documents= docs,\n",
        "    embedding= embedding_model\n",
        ")\n"
      ],
      "metadata": {
        "id": "sLVOgfvkLOGq"
      },
      "execution_count": 40,
      "outputs": []
    },
    {
      "cell_type": "code",
      "source": [
        "# creating similarity and multi-querry retriver\n",
        "\n",
        "similarity_retriver = vectorstore.as_retriever(\n",
        "    search_type='similarity',\n",
        "    search_kwargs={\n",
        "        'k': 5\n",
        "    }\n",
        ")\n",
        "\n",
        "multi_querry_retriver = MultiQueryRetriever.from_llm(\n",
        "    retriever= vectorstore.as_retriever(search_kwargs={'k':5}),\n",
        "    llm= ChatGoogleGenerativeAI(\n",
        "        model= 'gemini-2.0-flash',\n",
        "        google_api_key= api_key\n",
        "    ),\n",
        ")"
      ],
      "metadata": {
        "id": "UHdbPZccL9RL"
      },
      "execution_count": 47,
      "outputs": []
    },
    {
      "cell_type": "code",
      "source": [
        "# vague Querry\n",
        "query = \"What are the major challenges and innovations happening in the digital world today?\""
      ],
      "metadata": {
        "id": "nuvFkLFZMtKP"
      },
      "execution_count": 51,
      "outputs": []
    },
    {
      "cell_type": "code",
      "source": [
        "# Retriver Results\n",
        "similarity_results = similarity_retriver.invoke(query)\n",
        "multi_querry_results = multi_querry_retriver.invoke(query)"
      ],
      "metadata": {
        "id": "nApLjstrNAB1"
      },
      "execution_count": 52,
      "outputs": []
    },
    {
      "cell_type": "code",
      "source": [
        "# Print comparison\n",
        "print(\"Similarity Retriever Results:\")\n",
        "for i, doc in enumerate(similarity_results):\n",
        "    print(f\"\\nDoc {i} ({doc.metadata['topic']}):\\n{doc.page_content}\")\n",
        "\n",
        "print(\"\\n\" + \"=\"*80 + \"\\n\")\n",
        "\n",
        "print(\"Multi-Query Retriever Results:\")\n",
        "for i, doc in enumerate(multi_querry_results):\n",
        "    print(f\"\\nDoc {i} ({doc.metadata['topic']}):\\n{doc.page_content}\")"
      ],
      "metadata": {
        "colab": {
          "base_uri": "https://localhost:8080/"
        },
        "id": "WEMlfS5nNJH2",
        "outputId": "042f3eb2-038f-4d75-99a1-46047ea172e8"
      },
      "execution_count": 53,
      "outputs": [
        {
          "output_type": "stream",
          "name": "stdout",
          "text": [
            "Similarity Retriever Results:\n",
            "\n",
            "Doc 0 (Blockchain):\n",
            "This technology enables secure, decentralized transactions without needing a central authority. By maintaining a shared ledger across multiple nodes, it enhances transparency and reduces fraud in digital systems.\n",
            "\n",
            "Doc 1 (Cybersecurity):\n",
            "This discipline focuses on protecting digital systems from unauthorized access and attacks. It employs encryption, firewalls, and authentication to safeguard data and maintain privacy.\n",
            "\n",
            "Doc 2 (Artificial Intelligence):\n",
            "This field of computer science focuses on building systems that can learn from data. These systems make decisions, detect patterns, and automate complex tasks in a range of real-world applications.\n",
            "\n",
            "Doc 3 (Quantum Computing):\n",
            "This computing paradigm leverages quantum mechanics to process information in novel ways. It has the potential to solve problems far beyond the capabilities of classical computers.\n",
            "\n",
            "Doc 4 (Metaverse):\n",
            "This concept creates an immersive digital environment where users interact using avatars. It blends virtual and augmented reality to provide new experiences in social interaction, gaming, and collaboration.\n",
            "\n",
            "================================================================================\n",
            "\n",
            "Multi-Query Retriever Results:\n",
            "\n",
            "Doc 0 (Blockchain):\n",
            "This technology enables secure, decentralized transactions without needing a central authority. By maintaining a shared ledger across multiple nodes, it enhances transparency and reduces fraud in digital systems.\n",
            "\n",
            "Doc 1 (Quantum Computing):\n",
            "This computing paradigm leverages quantum mechanics to process information in novel ways. It has the potential to solve problems far beyond the capabilities of classical computers.\n",
            "\n",
            "Doc 2 (Cybersecurity):\n",
            "This discipline focuses on protecting digital systems from unauthorized access and attacks. It employs encryption, firewalls, and authentication to safeguard data and maintain privacy.\n",
            "\n",
            "Doc 3 (Artificial Intelligence):\n",
            "This field of computer science focuses on building systems that can learn from data. These systems make decisions, detect patterns, and automate complex tasks in a range of real-world applications.\n",
            "\n",
            "Doc 4 (Space Exploration):\n",
            "This scientific pursuit involves sending machines beyond Earth to collect data and explore unknown environments. It seeks to expand our knowledge of the universe and inspire innovation.\n",
            "\n",
            "Doc 5 (Climate Change):\n",
            "This environmental issue is caused by rising global temperatures due to human activity. It leads to extreme weather events, rising sea levels, and long-term changes in ecosystems.\n",
            "\n",
            "Doc 6 (Java):\n",
            "This programming language is known for its portability, stability, and object-oriented features. It is widely used in enterprise software, Android apps, and backend systems across industries.\n"
          ]
        }
      ]
    },
    {
      "cell_type": "markdown",
      "source": [
        "# Contextual Compression Retriever"
      ],
      "metadata": {
        "id": "36xXc6rSRx6Q"
      }
    },
    {
      "cell_type": "code",
      "source": [
        "from langchain.vectorstores.faiss import FAISS\n",
        "from langchain_google_genai import GoogleGenerativeAIEmbeddings\n",
        "from langchain_core.documents import Document\n",
        "from langchain_google_genai import ChatGoogleGenerativeAI\n",
        "from langchain.retrievers.document_compressors import LLMChainExtractor\n",
        "from langchain.retrievers.contextual_compression import ContextualCompressionRetriever"
      ],
      "metadata": {
        "id": "EqIzTSz6Rw3_"
      },
      "execution_count": 54,
      "outputs": []
    },
    {
      "cell_type": "code",
      "source": [
        "\n",
        "docs = [\n",
        "    Document(\n",
        "        page_content=(\n",
        "            \"The Eiffel Tower is located in Paris and is a symbol of France. \"\n",
        "            \"It attracts millions of tourists every year. \"\n",
        "            \"Python is a high-level programming language used in web development, data science, and automation.\"\n",
        "        ),\n",
        "        metadata={\"source\": \"doc1\"}\n",
        "    ),\n",
        "    Document(\n",
        "        page_content=(\n",
        "            \"Neil Armstrong was the first human to walk on the moon in 1969. \"\n",
        "            \"Basketball is a sport played by two teams of five players on a rectangular court. \"\n",
        "            \"Space missions have contributed to many technological advancements.\"\n",
        "        ),\n",
        "        metadata={\"source\": \"doc2\"}\n",
        "    ),\n",
        "    Document(\n",
        "        page_content=(\n",
        "            \"The Great Wall of China is a historic structure that spans over 13,000 miles. \"\n",
        "            \"It was built for defense purposes. \"\n",
        "            \"Machine learning is a subset of artificial intelligence that allows systems to learn from data.\"\n",
        "        ),\n",
        "        metadata={\"source\": \"doc3\"}\n",
        "    ),\n",
        "    Document(\n",
        "        page_content=(\n",
        "            \"Photosynthesis occurs in plant cells using chlorophyll to convert sunlight into energy. \"\n",
        "            \"The Amazon rainforest is known for its biodiversity and plays a role in climate regulation. \"\n",
        "            \"Java is a widely used programming language in enterprise applications.\"\n",
        "        ),\n",
        "        metadata={\"source\": \"doc4\"}\n",
        "    ),\n",
        "    Document(\n",
        "        page_content=(\n",
        "            \"Climate change is causing rising sea levels and more extreme weather patterns. \"\n",
        "            \"In 1969, NASA’s Apollo 11 mission successfully landed humans on the moon. \"\n",
        "            \"HTML and CSS are used for structuring and styling web pages.\"\n",
        "        ),\n",
        "        metadata={\"source\": \"doc5\"}\n",
        "    ),\n",
        "]\n"
      ],
      "metadata": {
        "id": "GTJHdPmMN0eP"
      },
      "execution_count": 56,
      "outputs": []
    },
    {
      "cell_type": "code",
      "source": [
        "# creating a FAISS vector store\n",
        "embedding_model = GoogleGenerativeAIEmbeddings(\n",
        "    model = 'models/embedding-001',\n",
        "    google_api_key = api_key\n",
        ")\n",
        "\n",
        "vectorstore = FAISS.from_documents(\n",
        "    documents= docs,\n",
        "    embedding= embedding_model\n",
        ")"
      ],
      "metadata": {
        "id": "Bluk7iYASfJp"
      },
      "execution_count": 57,
      "outputs": []
    },
    {
      "cell_type": "code",
      "source": [
        "base_retriever = vectorstore.as_retriever(search_kwargs={'k': 3})"
      ],
      "metadata": {
        "id": "Q3ASVBE6TNtn"
      },
      "execution_count": 58,
      "outputs": []
    },
    {
      "cell_type": "code",
      "source": [
        "# setting up compressor using llm\n",
        "compressor = LLMChainExtractor.from_llm(\n",
        "    llm= ChatGoogleGenerativeAI(\n",
        "        model= 'gemini-2.0-flash',\n",
        "        google_api_key= api_key\n",
        "    )\n",
        ")"
      ],
      "metadata": {
        "id": "Xi0I5-qFTVBh"
      },
      "execution_count": 59,
      "outputs": []
    },
    {
      "cell_type": "code",
      "source": [
        "# create contextula compressor retriver\n",
        "compression_retriever = ContextualCompressionRetriever(\n",
        "    base_compressor= compressor,\n",
        "    base_retriever= base_retriever\n",
        ")\n"
      ],
      "metadata": {
        "id": "ewxK7mOJTZv_"
      },
      "execution_count": 60,
      "outputs": []
    },
    {
      "cell_type": "code",
      "source": [
        "querry = \"Tell me about the moon landing and space missions.\"\n",
        "compressed_results = compression_retriever.invoke(querry)"
      ],
      "metadata": {
        "id": "gTU--kCsTooB"
      },
      "execution_count": 71,
      "outputs": []
    },
    {
      "cell_type": "code",
      "source": [
        "for i, doc in enumerate(compressed_results):\n",
        "  print(f'\\n______ Result {i+1} ______')\n",
        "  print(doc.page_content)"
      ],
      "metadata": {
        "colab": {
          "base_uri": "https://localhost:8080/"
        },
        "id": "7sj_iQtGT5ER",
        "outputId": "1f883a77-0009-4817-949e-da268250b215"
      },
      "execution_count": 72,
      "outputs": [
        {
          "output_type": "stream",
          "name": "stdout",
          "text": [
            "\n",
            "______ Result 1 ______\n",
            "Neil Armstrong was the first human to walk on the moon in 1969. Space missions have contributed to many technological advancements.\n",
            "\n",
            "______ Result 2 ______\n",
            "In 1969, NASA’s Apollo 11 mission successfully landed humans on the moon.\n"
          ]
        }
      ]
    },
    {
      "cell_type": "code",
      "source": [],
      "metadata": {
        "id": "iKflqJjaT82H"
      },
      "execution_count": null,
      "outputs": []
    }
  ]
}