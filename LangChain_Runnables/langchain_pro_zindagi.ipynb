{
 "cells": [
  {
   "cell_type": "code",
   "execution_count": 1,
   "id": "47ed2745",
   "metadata": {},
   "outputs": [],
   "source": [
    "from abc import ABC, abstractmethod"
   ]
  },
  {
   "cell_type": "code",
   "execution_count": 2,
   "id": "df0b58ea",
   "metadata": {},
   "outputs": [],
   "source": [
    "class Runnable(ABC):\n",
    "    @abstractmethod\n",
    "    def invoke(self, input_data):\n",
    "        pass\n",
    "\n",
    "    "
   ]
  },
  {
   "cell_type": "code",
   "execution_count": 3,
   "id": "08c91bf9",
   "metadata": {},
   "outputs": [],
   "source": [
    "import random\n",
    "\n",
    "class nakliLLM(Runnable):\n",
    "    def __init__(self):\n",
    "        print(\"LLM created\")\n",
    "\n",
    "    def invoke(self, prompt):\n",
    "        response_list = [\n",
    "            'Karachi is the heart of Sindh',\n",
    "            'Lahore is the heart of Punjab',\n",
    "            'Islamabad is the second most beautiful capital in the world'\n",
    "        ]\n",
    "        return {'response': random.choice(response_list)}\n",
    "\n",
    "    def predict(self, prompt):\n",
    "        response_list = [\n",
    "            'Karachi is the heart of Sindh',\n",
    "            'Lahore is the heart of Punjab',\n",
    "            'Islamabad is the second most beautiful capital in the world'\n",
    "        ]\n",
    "        return {\n",
    "            'response': random.choice(response_list),\n",
    "            'warning': 'Trigger Warning: The \"predict\" function will be removed in the near future. Use the \"invoke\" method instead.'\n",
    "        }\n"
   ]
  },
  {
   "cell_type": "code",
   "execution_count": 4,
   "id": "e4fdac40",
   "metadata": {},
   "outputs": [],
   "source": [
    "\n",
    "class nakliPromptTemplate(Runnable):\n",
    "    def __init__(self, template, input_variables):\n",
    "        self.template = template\n",
    "        self.input_variables = input_variables\n",
    "\n",
    "    def format(self, input_dict):\n",
    "        return {\n",
    "            \"result\": self.template.format(**input_dict),\n",
    "            \"warning\": 'Trigger Warning: The \"format\" function will be removed in the near future. Use the \"invoke\" method instead.'\n",
    "        }\n",
    "\n",
    "    def invoke(self, input_dict):\n",
    "        return self.template.format(**input_dict)\n"
   ]
  },
  {
   "cell_type": "code",
   "execution_count": 5,
   "id": "12bf147f",
   "metadata": {},
   "outputs": [],
   "source": [
    "class nakliStrOutputParser(Runnable):\n",
    "    def __init__(self):\n",
    "        pass\n",
    "    \n",
    "    def invoke(self, input_data):  \n",
    "        return input_data['response']"
   ]
  },
  {
   "cell_type": "code",
   "execution_count": 6,
   "id": "f1320243",
   "metadata": {},
   "outputs": [],
   "source": [
    "class RunnableConnector(Runnable):\n",
    "    def __init__(self, runnable_list):\n",
    "        self.runnable_list = runnable_list\n",
    "\n",
    "    def invoke(self, input_data):\n",
    "        for runnable in self.runnable_list:\n",
    "            input_data = runnable.invoke(input_data)\n",
    "\n",
    "        return input_data\n",
    "    "
   ]
  },
  {
   "cell_type": "code",
   "execution_count": 7,
   "id": "87cc88f3",
   "metadata": {},
   "outputs": [
    {
     "name": "stdout",
     "output_type": "stream",
     "text": [
      "LLM created\n"
     ]
    }
   ],
   "source": [
    "llm = nakliLLM()"
   ]
  },
  {
   "cell_type": "code",
   "execution_count": 8,
   "id": "992525b0",
   "metadata": {},
   "outputs": [],
   "source": [
    "parser = nakliStrOutputParser()"
   ]
  },
  {
   "cell_type": "code",
   "execution_count": 9,
   "id": "ed8b39f4",
   "metadata": {},
   "outputs": [],
   "source": [
    "template = nakliPromptTemplate(\n",
    "    template = \"write a {length} paragraph about the {topic}\",\n",
    "    input_variables = ['length','topic']\n",
    ")"
   ]
  },
  {
   "cell_type": "code",
   "execution_count": 10,
   "id": "12dece92",
   "metadata": {},
   "outputs": [],
   "source": [
    "chain = RunnableConnector([template, llm, parser])"
   ]
  },
  {
   "cell_type": "code",
   "execution_count": 11,
   "id": "dfaf3aeb",
   "metadata": {},
   "outputs": [
    {
     "data": {
      "text/plain": [
       "'Karachi is the heart of Sindh'"
      ]
     },
     "execution_count": 11,
     "metadata": {},
     "output_type": "execute_result"
    }
   ],
   "source": [
    "chain.invoke({'length':'short', 'topic':'Metaverse'})"
   ]
  },
  {
   "cell_type": "code",
   "execution_count": 12,
   "id": "e6bab27c",
   "metadata": {},
   "outputs": [],
   "source": [
    "template1 = nakliPromptTemplate(\n",
    "    template = \"write a joke about the {topic}\",\n",
    "    input_variables = ['topic']\n",
    ")"
   ]
  },
  {
   "cell_type": "code",
   "execution_count": 13,
   "id": "76837a20",
   "metadata": {},
   "outputs": [],
   "source": [
    "template2 = nakliPromptTemplate(\n",
    "    template = \"explain the following joke{response}\",\n",
    "    input_variables = ['response']\n",
    ")"
   ]
  },
  {
   "cell_type": "code",
   "execution_count": 14,
   "id": "7e763b2c",
   "metadata": {},
   "outputs": [
    {
     "name": "stdout",
     "output_type": "stream",
     "text": [
      "LLM created\n"
     ]
    }
   ],
   "source": [
    "llm = nakliLLM()"
   ]
  },
  {
   "cell_type": "code",
   "execution_count": 15,
   "id": "24a585d6",
   "metadata": {},
   "outputs": [],
   "source": [
    "parser = nakliStrOutputParser()"
   ]
  },
  {
   "cell_type": "code",
   "execution_count": 24,
   "id": "47f99eb2",
   "metadata": {},
   "outputs": [],
   "source": [
    "chain1 = RunnableConnector([template1, llm])"
   ]
  },
  {
   "cell_type": "code",
   "execution_count": 25,
   "id": "e8982c6e",
   "metadata": {},
   "outputs": [],
   "source": [
    "chain2 = RunnableConnector([template2, llm, parser])"
   ]
  },
  {
   "cell_type": "code",
   "execution_count": 26,
   "id": "feeddaf6",
   "metadata": {},
   "outputs": [],
   "source": [
    "final_chain = RunnableConnector([chain1, chain2])"
   ]
  },
  {
   "cell_type": "code",
   "execution_count": 27,
   "id": "b52e4a9a",
   "metadata": {},
   "outputs": [
    {
     "data": {
      "text/plain": [
       "'Islamabad is the second most beautiful capital in the world'"
      ]
     },
     "execution_count": 27,
     "metadata": {},
     "output_type": "execute_result"
    }
   ],
   "source": [
    "final_chain.invoke({'topic':'politics'})"
   ]
  }
 ],
 "metadata": {
  "kernelspec": {
   "display_name": "langchain",
   "language": "python",
   "name": "python3"
  },
  "language_info": {
   "codemirror_mode": {
    "name": "ipython",
    "version": 3
   },
   "file_extension": ".py",
   "mimetype": "text/x-python",
   "name": "python",
   "nbconvert_exporter": "python",
   "pygments_lexer": "ipython3",
   "version": "3.13.5"
  }
 },
 "nbformat": 4,
 "nbformat_minor": 5
}
