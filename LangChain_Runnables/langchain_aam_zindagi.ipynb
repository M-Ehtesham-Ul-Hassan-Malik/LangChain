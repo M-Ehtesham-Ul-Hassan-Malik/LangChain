{
 "cells": [
  {
   "cell_type": "code",
   "execution_count": 28,
   "id": "cc61b75c",
   "metadata": {},
   "outputs": [],
   "source": [
    "import random\n",
    "\n",
    "class nakliLLM:\n",
    "    def __init__(self):\n",
    "        print(\"LLM created\")\n",
    "\n",
    "    def predict(self, prompt):\n",
    "        response_list = [\n",
    "            'Karachi is the heart of Sindh',\n",
    "            'Lahore is the heart of Punjab',\n",
    "            'Islamabad is the second most beautiful capital in the world'\n",
    "        ]\n",
    "        return {'response': random.choice(response_list)}\n"
   ]
  },
  {
   "cell_type": "code",
   "execution_count": 29,
   "id": "7b05359c",
   "metadata": {},
   "outputs": [],
   "source": [
    "class nakliPromptTemplate:\n",
    "    def __init__(self, template, input_variables):\n",
    "        self.template = template\n",
    "        self.input_variables = input_variables\n",
    "\n",
    "    def format(self, input_dict):\n",
    "        return self.template.format(**input_dict)"
   ]
  },
  {
   "cell_type": "code",
   "execution_count": 30,
   "id": "58b59dfe",
   "metadata": {},
   "outputs": [],
   "source": [
    "template = nakliPromptTemplate(\n",
    "    template = \"write a {length} paragraph about the {topic}\",\n",
    "    input_variables = ['length','topic']\n",
    ")"
   ]
  },
  {
   "cell_type": "code",
   "execution_count": 31,
   "id": "0c326ef4",
   "metadata": {},
   "outputs": [],
   "source": [
    "prompt = template.format({'length':'long','topic':'Blockchain'})"
   ]
  },
  {
   "cell_type": "code",
   "execution_count": 32,
   "id": "d6494f60",
   "metadata": {},
   "outputs": [
    {
     "data": {
      "text/plain": [
       "'write a long paragraph about the Blockchain'"
      ]
     },
     "execution_count": 32,
     "metadata": {},
     "output_type": "execute_result"
    }
   ],
   "source": [
    "prompt"
   ]
  },
  {
   "cell_type": "code",
   "execution_count": 33,
   "id": "ee6b2082",
   "metadata": {},
   "outputs": [
    {
     "name": "stdout",
     "output_type": "stream",
     "text": [
      "LLM created\n"
     ]
    }
   ],
   "source": [
    "llm = nakliLLM()"
   ]
  },
  {
   "cell_type": "code",
   "execution_count": 34,
   "id": "395945d3",
   "metadata": {},
   "outputs": [
    {
     "data": {
      "text/plain": [
       "{'response': 'Lahore is the heart of Punjab'}"
      ]
     },
     "execution_count": 34,
     "metadata": {},
     "output_type": "execute_result"
    }
   ],
   "source": [
    "llm.predict(prompt)"
   ]
  },
  {
   "cell_type": "code",
   "execution_count": 35,
   "id": "50f5ad66",
   "metadata": {},
   "outputs": [],
   "source": [
    "class nakliLLMChain:\n",
    "    def __init__(self ,llm, prompt):\n",
    "        self.llm = llm\n",
    "        self.prompt = prompt\n",
    "\n",
    "    def run(self, input_dict):\n",
    "        final_prompt = self.prompt.format(input_dict)\n",
    "        result = self.llm.predict(final_prompt)\n",
    "\n",
    "        return result['response']"
   ]
  },
  {
   "cell_type": "code",
   "execution_count": 36,
   "id": "acc89f7c",
   "metadata": {},
   "outputs": [],
   "source": [
    "template = nakliPromptTemplate(\n",
    "    template = \"write a {length} paragraph about the {topic}\",\n",
    "    input_variables = ['length','topic']\n",
    ")"
   ]
  },
  {
   "cell_type": "code",
   "execution_count": 37,
   "id": "c8bd29c2",
   "metadata": {},
   "outputs": [
    {
     "name": "stdout",
     "output_type": "stream",
     "text": [
      "LLM created\n"
     ]
    }
   ],
   "source": [
    "llm = nakliLLM()"
   ]
  },
  {
   "cell_type": "code",
   "execution_count": 38,
   "id": "9ae7f4f6",
   "metadata": {},
   "outputs": [],
   "source": [
    "chain = nakliLLMChain(llm, template)"
   ]
  },
  {
   "cell_type": "code",
   "execution_count": 39,
   "id": "ab4a8394",
   "metadata": {},
   "outputs": [
    {
     "data": {
      "text/plain": [
       "'Lahore is the heart of Punjab'"
      ]
     },
     "execution_count": 39,
     "metadata": {},
     "output_type": "execute_result"
    }
   ],
   "source": [
    "chain.run({'length':'short', 'topic':'Data Science'})"
   ]
  },
  {
   "cell_type": "code",
   "execution_count": null,
   "id": "dc3add52",
   "metadata": {},
   "outputs": [],
   "source": []
  }
 ],
 "metadata": {
  "kernelspec": {
   "display_name": "langchain",
   "language": "python",
   "name": "python3"
  },
  "language_info": {
   "codemirror_mode": {
    "name": "ipython",
    "version": 3
   },
   "file_extension": ".py",
   "mimetype": "text/x-python",
   "name": "python",
   "nbconvert_exporter": "python",
   "pygments_lexer": "ipython3",
   "version": "3.13.5"
  }
 },
 "nbformat": 4,
 "nbformat_minor": 5
}
